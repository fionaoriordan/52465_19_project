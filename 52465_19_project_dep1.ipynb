{
 "cells": [
  {
   "cell_type": "markdown",
   "metadata": {},
   "source": [
    "# MODULE 52465 PROJECT\n",
    "## Fiona O'Riordan\n",
    "## Date 16th December 2019\n"
   ]
  },
  {
   "cell_type": "markdown",
   "metadata": {},
   "source": [
    "## 1. Introduction\n",
    "\n",
    "Project objective:\n",
    "1. Choose a real-world phenomenon that can be measured and for which you could collect at least one-hundred data points across at least four different variables.\n",
    "1. Investigate the types of variables involved, their likely distributions, and their relationships with each other.\n",
    "1. Synthesise/simulate a data set as closely matching their properties as possible.\n",
    "1. Detail your research and implement the simulation in a Jupyter notebook – the data set itself can simply be displayed in an output cell within the notebook.\n",
    "\n",
    "For this project, I will explore deprivation families  with dependent children under 18 years as I am interested in social justice and policy. The project will examine the relationship between loneparent status,  unemployment and the impact on deprivation.\n",
    "\n",
    "\"After some online research, I find that full-time post-graduate students study on av- erage four hours per week with a standard deviation of a quarter of an hour and that a normal distribution is an acceptable model of such a variable. Likewise, I investigate the other four variables, and I also look at the relationships between the variables. I devise an algorithm (or method) to generate such a data set, simulating values of the four variables for two-hundred students. I detail all this work in my notebook, and then I add some code in to generate a data set with those properties.\"\n",
    "\n",
    "\n",
    " \n"
   ]
  },
  {
   "cell_type": "markdown",
   "metadata": {},
   "source": [
    "## 2. Research:"
   ]
  },
  {
   "cell_type": "markdown",
   "metadata": {},
   "source": [
    "### 2.1 FAMILIES\n",
    "\n",
    "1 in 4 families with children in Ireland is a one-parent family (Census 2016) One Family 2016\n",
    "\n",
    "\n",
    "ONE PARENT FAMILIES 218,817 ALL\n",
    "ONE PARENT FAMILIES 189,112 FEMALE \n",
    "ONE PARENT FAMILIES 29,705 MALES\n",
    "MARRIED COUPLES 568,317\n",
    "COUPLES 75,587\n",
    "(CSO 2016)"
   ]
  },
  {
   "cell_type": "markdown",
   "metadata": {},
   "source": [
    "### 2.2   Equivalised Nominal Disposable Income\n",
    " "
   ]
  },
  {
   "cell_type": "markdown",
   "metadata": {},
   "source": [
    "1 adult, with children under 18 years\n",
    "Mean Equivalised Nominal Disposable Income (Euro) = 18228\n",
    "Weekly = 18228/52 = 350.53\n",
    "\n",
    "2 adults, with 1-3 children under 18 years\n",
    "Mean Equivalised Nominal Disposable Income (Euro) = 26919\n",
    "Weekly = 26919/52 = 517.67\n",
    "\n",
    "Other households with children under 18 years\n",
    "Mean Equivalised Nominal Disposable Income (Euro) = 23699\n",
    "Weekly = 23699/52 = 455.75\n",
    "\n",
    "CSO(2018)\n",
    "Statbank"
   ]
  },
  {
   "cell_type": "markdown",
   "metadata": {},
   "source": [
    "### 2.3 AT RISK OF POVERTY\n",
    "\n",
    "At risk of poverty means having an income less than 60% of the national median income. The median income for 2018 was calucated as  22872 pa. (Weekly = 439)(CSO, 2018)\n",
    "https://www.cso.ie/en/releasesandpublications/ep/p-silc/surveyonincomeandlivingconditionssilc2018/\n",
    "\n",
    "Acording to CSO(2018), the ‘at risk of poverty’ rate for households with one adult and one or more children aged under 18 was 33.5  in 2018. This is compared to an at risk of poverty rate of 9.9% for two-parent households with 1- 3 children and at an at risk of 15.5 for others.  This means that lone parents are almost 3.5 times as likely to be at risk of poverty compared to households with two parents."
   ]
  },
  {
   "cell_type": "markdown",
   "metadata": {},
   "source": [
    "### 2.4 DEPRIVATION RATE\n",
    "\n",
    "\n",
    "Deprivation is the inability to afford at least two of thesebasic necessities, such as going 24 hours without a substantial meal or being cold because parents are unable to afford to heat the home.Individuals who experience two or more of the eleven listed items are considered to be experiencing enforced deprivation.\n",
    "\n",
    "Two pairs of strong shoes\n",
    "A warm waterproof overcoat\n",
    "Buy new (not second-hand) clothes\n",
    "Eat meal with meat, chicken, fish (or vegetarian equivalent) every second day\n",
    "Have a roast joint or its equivalent once a week\n",
    "Had to go without heating during the last year through lack of money\n",
    "Keep the home adequately warm\n",
    "Buy presents for family or friends at least once a year\n",
    "Replace any worn out furniture\n",
    "Have family or friends for a drink or meal once a month\n",
    "Have a morning, afternoon or evening out in the last fortnight for entertainment\n",
    "\n",
    "Those living in households with one adult and one or more children aged under 18 had the highest deprivation rate in 2018 at 42.7%\n",
    "This compares to 2 adults, with 1-3 children under 18 years with a deprivaton rate of 14.3\n",
    "and Other households with children under 18 years with a deprivation rate of 15.9.\n"
   ]
  },
  {
   "cell_type": "markdown",
   "metadata": {},
   "source": [
    "### 2.5 CONSISTENT POVERTY\n",
    "**Consistent poverty rates for lone parents**\n",
    "\n",
    "One Family (2016)\n",
    "\n",
    "**Consistent poverty means that children are living in households with incomes below 60% of the national median income  and experiencing deprivation based on the agreed 11 deprivation indicators**\n",
    "\n",
    "Individuals living in households where there was one adult and one or more children aged under 18 had the highest consistent poverty rate at **19.2%**.This is compared to a consistent poverty rate of **5%** for 2 adults, with 1-3 children under 18 years and **4.5%** for Other households with children under 18 years . This means that lone parents are four times as likely to be living in consistent poverty compared to two-parent households."
   ]
  },
  {
   "cell_type": "markdown",
   "metadata": {},
   "source": [
    "### 2.6 Gender"
   ]
  },
  {
   "cell_type": "markdown",
   "metadata": {},
   "source": [
    "MALE /FEMALE \n",
    "90% of lone parents are female.\n",
    "For the rest of the observations we can assume a ratio based on Irelands female/male ratio =51%/49%"
   ]
  },
  {
   "cell_type": "code",
   "execution_count": null,
   "metadata": {},
   "outputs": [],
   "source": []
  },
  {
   "cell_type": "markdown",
   "metadata": {},
   "source": [
    "### EMPLOYEMENT"
   ]
  },
  {
   "cell_type": "markdown",
   "metadata": {},
   "source": [
    "the employment rate of lone parents (aged 15-64) was 58.5%  \n",
    "the adult members of couples without children 73.9 %  \n",
    "  for the adult members of couples with children 76%\n",
    "\n",
    "ONE FAMILY, 2016\n",
    "https://onefamily.ie/media-publications/facts-figures/"
   ]
  },
  {
   "cell_type": "markdown",
   "metadata": {},
   "source": [
    "### Sample size : \n",
    "1000 in total\n",
    "1 adult, with children under 18 years = 250\n",
    "2 adults, with 1-3 children under 18 years = 500\n",
    "Other households with children under 18 years = 250\n",
    "\n",
    "I have selected these samplesizes **because**\n"
   ]
  },
  {
   "cell_type": "markdown",
   "metadata": {},
   "source": [
    "## 3. Data Generation:"
   ]
  },
  {
   "cell_type": "code",
   "execution_count": 1,
   "metadata": {},
   "outputs": [],
   "source": [
    "import pandas as pd\n",
    "#import the NumPy library and name it np\n",
    "import numpy as np\n",
    "import matplotlib.pyplot as plt\n",
    "import seaborn as sns\n",
    "# Taken from : https://stackoverflow.com/a/47955814 \n",
    "# Adjusting the figure size of seaborn plots in this notebook\n",
    "sns.set(rc={'figure.figsize':(10,7)})\n",
    "# Taken from https://stackoverflow.com/questions/3899980/how-to-change-the-font-size-on-a-matplotlib-plot\n",
    "plt.rcParams.update({'font.size': 22})\n",
    "#dataset size\n",
    "samplesize = 1000\n",
    "np.random.seed = (0)\n",
    "\n"
   ]
  },
  {
   "cell_type": "markdown",
   "metadata": {},
   "source": [
    "### 3.1 Family Household Composition:"
   ]
  },
  {
   "cell_type": "code",
   "execution_count": 2,
   "metadata": {},
   "outputs": [],
   "source": [
    "# Create array for each group\n",
    "#Taken from https://thispointer.com/python-how-to-create-a-list-and-initialize-with-same-values/\n",
    "group1 = [\"Lone Parent Family\"] * 250\n",
    "group2 = [\"2 Adults with 1-2 Children\"] * 500\n",
    "group3 = [\"Other 2 Adult Households\"] *250"
   ]
  },
  {
   "cell_type": "code",
   "execution_count": 3,
   "metadata": {},
   "outputs": [],
   "source": [
    "# Concatonate into one array.\n",
    "families = np.concatenate([group1, group2, group3])"
   ]
  },
  {
   "cell_type": "markdown",
   "metadata": {},
   "source": [
    "### 3.2  DISPOSABLE INCOME ARRAY"
   ]
  },
  {
   "cell_type": "code",
   "execution_count": 4,
   "metadata": {},
   "outputs": [],
   "source": [
    "# Create a function to generate the disposable income distribution for each group\n",
    "def caldincome(x, num):\n",
    "    newvals = np.random.normal(x, 175, size = num)\n",
    "    return newvals"
   ]
  },
  {
   "cell_type": "code",
   "execution_count": 5,
   "metadata": {},
   "outputs": [
    {
     "data": {
      "image/png": "[encoded data removed]",
      "text/plain": [
       "<Figure size 432x288 with 1 Axes>"
      ]
     },
     "metadata": {
      "needs_background": "light"
     },
     "output_type": "display_data"
    }
   ],
   "source": [
    "# Generate disposable income distribution for 1 adult, with children under 18 years\n",
    "Adult1withC = caldincome(350, 250)\n",
    "# plot a histogram of array x \n",
    "plt.hist(Adult1withC)\n",
    "# display the histogram \n",
    "plt.show()"
   ]
  },
  {
   "cell_type": "code",
   "execution_count": 6,
   "metadata": {},
   "outputs": [
    {
     "data": {
      "image/png": "[encoded data removed]",
      "text/plain": [
       "<Figure size 432x288 with 1 Axes>"
      ]
     },
     "metadata": {
      "needs_background": "light"
     },
     "output_type": "display_data"
    }
   ],
   "source": [
    "Adults2withC = caldincome(517.67, 500)\n",
    "# plot a histogram of array x \n",
    "plt.hist(Adults2withC)\n",
    "# display the histogram \n",
    "plt.show()"
   ]
  },
  {
   "cell_type": "code",
   "execution_count": 7,
   "metadata": {},
   "outputs": [
    {
     "data": {
      "image/png": "[encoded data removed]",
      "text/plain": [
       "<Figure size 432x288 with 1 Axes>"
      ]
     },
     "metadata": {
      "needs_background": "light"
     },
     "output_type": "display_data"
    }
   ],
   "source": [
    "Other = caldincome(455.75, 250)\n",
    "# plot a histogram of array x \n",
    "plt.hist(Other)\n",
    "# display the histogram \n",
    "plt.show()"
   ]
  },
  {
   "cell_type": "code",
   "execution_count": 8,
   "metadata": {},
   "outputs": [
    {
     "data": {
      "text/plain": [
       "1000"
      ]
     },
     "execution_count": 8,
     "metadata": {},
     "output_type": "execute_result"
    }
   ],
   "source": [
    "#Create an array disincome to hold all of the disposable income data generated.\n",
    "disincome = np.concatenate([Adult1withC ,Adults2withC,Other])\n",
    "#Check there are 1000 samples.                \n",
    "len(disincome)"
   ]
  },
  {
   "cell_type": "code",
   "execution_count": 9,
   "metadata": {},
   "outputs": [
    {
     "data": {
      "image/png": "[encoded data removed]",
      "text/plain": [
       "<Figure size 432x288 with 1 Axes>"
      ]
     },
     "metadata": {
      "needs_background": "light"
     },
     "output_type": "display_data"
    }
   ],
   "source": [
    "# plot a histogram of array x \n",
    "plt.hist(disincome)\n",
    "# display the histogram \n",
    "plt.show()"
   ]
  },
  {
   "cell_type": "code",
   "execution_count": null,
   "metadata": {},
   "outputs": [],
   "source": []
  },
  {
   "cell_type": "markdown",
   "metadata": {},
   "source": [
    "### 3.1 DEPRIVATION ARRAY"
   ]
  },
  {
   "cell_type": "code",
   "execution_count": 10,
   "metadata": {},
   "outputs": [],
   "source": [
    "# Create a function to generate the disposable income distribution for each group\n",
    "def caldeprivation(samplesize, x):\n",
    "    newvalues  = np.random.choice([\"Yes\",\"No\"], size = samplesize, p=x)\n",
    "    return newvalues"
   ]
  },
  {
   "cell_type": "code",
   "execution_count": 11,
   "metadata": {},
   "outputs": [],
   "source": [
    "# Generate an array for those living in a household \n",
    "# with one adult and one or more children aged under 18 with  42.7% deprived = \"Yes\"\n",
    " \n",
    "dep1 = caldeprivation(250, [0.427, 0.573])\n",
    " "
   ]
  },
  {
   "cell_type": "code",
   "execution_count": 12,
   "metadata": {},
   "outputs": [],
   "source": [
    "##### Generate an array for those living in a household \n",
    "#2 adults, with 1-3 children under 18 years with a deprivaton rate of 14.3\n",
    "dep2 = caldeprivation(500, [0.143, 0.857])"
   ]
  },
  {
   "cell_type": "code",
   "execution_count": 13,
   "metadata": {},
   "outputs": [],
   "source": [
    "# Generate an array for those living in a household \n",
    "# Other households with children under 18 years with a deprivation rate of 15.9.\n",
    "dep3 = caldeprivation(250, [0.159, 0.841])\n"
   ]
  },
  {
   "cell_type": "code",
   "execution_count": 14,
   "metadata": {},
   "outputs": [
    {
     "data": {
      "text/plain": [
       "1000"
      ]
     },
     "execution_count": 14,
     "metadata": {},
     "output_type": "execute_result"
    }
   ],
   "source": [
    "#Create an array deprived to hold all of the deprived yes/no  data generated.\n",
    "deprived = np.concatenate([dep1, dep2, dep3])\n",
    "#Check there are 1000 samples.                \n",
    "len(deprived)"
   ]
  },
  {
   "cell_type": "markdown",
   "metadata": {},
   "source": [
    "## Gender:"
   ]
  },
  {
   "cell_type": "markdown",
   "metadata": {},
   "source": [
    "Create a function to create generate \"Female\"/\"Male\" to indicate gender:"
   ]
  },
  {
   "cell_type": "markdown",
   "metadata": {},
   "source": [
    "#Create a function to create generate \"Female\"/\"Male\" to indicate gender:\n",
    "\n",
    "thirdedpercent = [35.94,\n",
    "30.38,\n",
    "17.34,\n",
    "6.91,\n",
    "35.48,\n",
    "59.48,\n",
    "46.28,\n",
    "29.13,\n",
    "40.44,\n",
    "2.29,\n",
    "16.72,\n",
    "37.45,\n",
    "7.37,\n",
    "12.03]\n",
    "\n",
    "# define function to generate random primary education only yes/no :\n",
    "def calthirded(x):\n",
    "    \n",
    "    num = len(district[district == ed[x]])\n",
    "    newvals = np.random.choice([\"Yes\", \"No\"], \n",
    "                               num,p = [thirdedpercent[x]/100, (1 -thirdedpercent[x]/100)])\n",
    "    return newvals\n",
    "\n",
    "\n",
    "thirded = np.concatenate([calthirded(0),calthirded(1),calthirded(2), \n",
    "                calthirded(3),calthirded(4),calthirded(5),\n",
    "                calthirded(6),calthirded(7),calthirded(8),\n",
    "                calthirded(9),calthirded(10),calthirded(11),\n",
    "               calthirded(12),calthirded(13)])\n",
    "                      \n",
    "# check the number of elements created                     \n",
    "len(thirded)\n",
    "\n",
    "# female = 51%, male = 49%\n",
    "gender_arr = ['female', 'male']\n",
    "gender = np.random.choice(gender_arr, samplesize, p=[0.51, 0.49])\n",
    "\n",
    "gender\n",
    "# plot a histogram of array gender\n",
    "plt.hist(gender)\n",
    "# display the histogram \n",
    "plt.show()\n"
   ]
  },
  {
   "cell_type": "markdown",
   "metadata": {},
   "source": [
    "\n",
    "\n"
   ]
  },
  {
   "cell_type": "markdown",
   "metadata": {},
   "source": [
    "### 4. DATASET CREATION:"
   ]
  },
  {
   "cell_type": "code",
   "execution_count": 15,
   "metadata": {},
   "outputs": [],
   "source": [
    "df=pd.DataFrame(data=\n",
    "                {\"Family\": families,\n",
    "                 'DisIncome': disincome, \n",
    "                 'Deprived': deprived, \n",
    "                 \"At Risk of Poverty\": \"No\"})"
   ]
  },
  {
   "cell_type": "markdown",
   "metadata": {},
   "source": [
    "### 4.1 **At risk of poverty rates for lone parents**\n",
    "\n",
    "At risk of poverty means having an income less than 60% of the national median disposable income. The median income for 2018 was calucated as 22872 pa (CSO, 2018).  \n",
    "Calculte 60% of the median weekly disposable income:"
   ]
  },
  {
   "cell_type": "code",
   "execution_count": 16,
   "metadata": {},
   "outputs": [
    {
     "name": "stdout",
     "output_type": "stream",
     "text": [
      "263.9076923076923\n"
     ]
    }
   ],
   "source": [
    "Atriskamt = (22872/52)*.6 \n",
    "print(Atriskamt)"
   ]
  },
  {
   "cell_type": "code",
   "execution_count": 17,
   "metadata": {},
   "outputs": [],
   "source": [
    "#Create a new column \"At Risk of Poverty\".\n",
    "#Set \"At Risk of Poverty\" = \"Yes\" if weekly disposable income < weekly median income (439)\n",
    "df.loc[df['DisIncome'] < Atriskamt, \"At Risk of Poverty\"] = \"Yes\"\n",
    "#df[\"At Risk of Poverty\"] "
   ]
  },
  {
   "cell_type": "code",
   "execution_count": null,
   "metadata": {},
   "outputs": [],
   "source": []
  },
  {
   "cell_type": "code",
   "execution_count": 18,
   "metadata": {},
   "outputs": [
    {
     "data": {
      "text/plain": [
       "<Figure size 432x288 with 0 Axes>"
      ]
     },
     "metadata": {},
     "output_type": "display_data"
    },
    {
     "data": {
      "image/png": "[encoded data removed]",
      "text/plain": [
       "<Figure size 953.8x432 with 1 Axes>"
      ]
     },
     "metadata": {
      "needs_background": "light"
     },
     "output_type": "display_data"
    }
   ],
   "source": [
    "\n",
    "from  matplotlib.ticker import PercentFormatter\n",
    "# Plot the PrimaryEd colum by ed:\n",
    "fig = plt.figure()\n",
    "# Adapted from https://seaborn.pydata.org/generated/seaborn.catplot.html\n",
    "g = sns.catplot (x=\"Family\", hue=\"At Risk of Poverty\", kind=\"count\",\n",
    "            palette=\"pastel\", edgecolor=\".4\",  height=6, aspect=2,\n",
    "            data=df)\n",
    "#Adding a title at the figure level\n",
    "fig.suptitle(\"Families at Risk of Poverty.\", fontsize = 20)\n",
    "# display the plot\n",
    "plt.show()\n",
    "\n",
    "#Acording to CSO(2018), the ‘at risk of poverty’ rate for households \n",
    "#with one adult and one or more children aged under 18 was 33.5 in 2018. \n",
    "#This is compared to an at risk of poverty rate of 9.9% \n",
    "#for two-parent households with 1- 3 children and at an at risk of 15.5 for others. \n",
    "#This means that lone parents are almost 3.5 times as likely to be at risk of poverty compared to households with two parents.\n"
   ]
  },
  {
   "cell_type": "markdown",
   "metadata": {},
   "source": [
    "\n",
    "AGE:"
   ]
  },
  {
   "cell_type": "code",
   "execution_count": 19,
   "metadata": {},
   "outputs": [
    {
     "name": "stdout",
     "output_type": "stream",
     "text": [
      "Family                0.348\n",
      "DisIncome             0.348\n",
      "Deprived              0.348\n",
      "At Risk of Poverty    0.348\n",
      "dtype: float64\n",
      "Family                0.064\n",
      "DisIncome             0.064\n",
      "Deprived              0.064\n",
      "At Risk of Poverty    0.064\n",
      "dtype: float64\n",
      "Family                0.056\n",
      "DisIncome             0.056\n",
      "Deprived              0.056\n",
      "At Risk of Poverty    0.056\n",
      "dtype: float64\n"
     ]
    },
    {
     "data": {
      "text/plain": [
       "0.228"
      ]
     },
     "execution_count": 19,
     "metadata": {},
     "output_type": "execute_result"
    }
   ],
   "source": [
    "#(df.loc[df.loc[:,\"Family\"]== \"2 Adults with 1-2 Children\"]).count()\n",
    "#https://stackoverflow.com/questions/17071871/how-to-select-rows-from-a-dataframe-based-on-column-values\n",
    "print(((df.loc[(df['Family'] == \"Lone Parent Family\") \n",
    "        & (df['At Risk of Poverty'] == \"Yes\")]).count())/250)\n",
    "\n",
    "print((((df.loc[(df['Family'] == \"2 Adults with 1-2 Children\")\n",
    "        & (df['At Risk of Poverty'] == \"Yes\")]).count())/500))\n",
    "print((((df.loc[(df['Family'] == \"Other 2 Adult Households\")\n",
    "        & (df['At Risk of Poverty'] == \"Yes\")]).count())/500))\n",
    "57/250\n"
   ]
  },
  {
   "cell_type": "code",
   "execution_count": 20,
   "metadata": {},
   "outputs": [],
   "source": [
    "### Age: \n",
    "\n",
    "#### CSO (2019)\n",
    "\n",
    "#Adapated from : https://stackoverflow.com/questions/36537811/numpy-trapezoidal-distribution-for-age-distribution"
   ]
  },
  {
   "cell_type": "code",
   "execution_count": 21,
   "metadata": {},
   "outputs": [
    {
     "data": {
      "image/png": "[encoded data removed]",
      "text/plain": [
       "<Figure size 432x288 with 1 Axes>"
      ]
     },
     "metadata": {
      "needs_background": "light"
     },
     "output_type": "display_data"
    }
   ],
   "source": [
    "# Not sure if I will use age. \n",
    "under65 = np.random.uniform(low=0,high=50,size= 375)   \n",
    "over65 = np.random.triangular(left=50,mode=50,right=100,size=125)  \n",
    "             \n",
    "allages = np.concatenate((under65,over65))  \n",
    "\n",
    "    \n",
    "plt.hist(allages)\n",
    "plt.show()\n",
    "\n"
   ]
  },
  {
   "cell_type": "markdown",
   "metadata": {},
   "source": [
    "### DATA EXPLORATION:"
   ]
  },
  {
   "cell_type": "code",
   "execution_count": null,
   "metadata": {},
   "outputs": [],
   "source": [
    "\n",
    "\n",
    "\n",
    " \n",
    "\n"
   ]
  },
  {
   "cell_type": "markdown",
   "metadata": {},
   "source": [
    "## References:"
   ]
  },
  {
   "cell_type": "markdown",
   "metadata": {},
   "source": [
    "Haase, T.  & Pratschke, J. (2016)\n",
    "The 2016 Pobal HP Deprivation Index for Small Areas (SA)\n",
    "https://www.pobal.ie/app/uploads/2018/06/The-2016-Pobal-HP-Deprivation-Index-Introduction-07.pdf\n",
    "\n",
    "Grotti R., Maître B., Watson D., & Whelan, C.T. (2017) **Technical paper on\n",
    "Poverty Transitions in Ireland: An Analysis of the Longitudinal Central Statistics Office (CSO) Survey on Income and Living Conditions (SILC), 2004 - 2015**, Department of Social Protection\n",
    "https://www.esri.ie/system/files/media/file-uploads/2017-12/BKMNEXT344.pdf\n",
    "\n",
    "CSO (2016) Census 2016 Summary Results - Part 2\n",
    "Appendix 10: List of unemployment blackspots\n",
    "https://www.cso.ie/en/media/csoie/newsevents/documents/census2016summaryresultspart2/Census_2016_Summary_Results_–_Part_2.pdf\n",
    "\n",
    "CSO (2018)\n",
    "https://www.cso.ie/en/releasesandpublications/ep/p-silc/surveyonincomeandlivingconditionssilc2018/povertyanddeprivation/\n",
    "\n",
    "CSO (2019) HOME / STATISTICS\n",
    "Population estimates by age group and sex\n",
    "https://statbank.cso.ie/multiquicktables/quickTables.aspx?id=pea01\n",
    "\n",
    "\n",
    "https://www.pobal.ie/app/uploads/2018/06/The-2016-Pobal-HP-Deprivation-Index-Introduction-07.pdf\n",
    "\n",
    "maps.pobal.ie\n",
    "\n"
   ]
  },
  {
   "cell_type": "code",
   "execution_count": null,
   "metadata": {},
   "outputs": [],
   "source": []
  },
  {
   "cell_type": "code",
   "execution_count": null,
   "metadata": {},
   "outputs": [],
   "source": []
  }
 ],
 "metadata": {
  "kernelspec": {
   "display_name": "Python 3",
   "language": "python",
   "name": "python3"
  },
  "language_info": {
   "codemirror_mode": {
    "name": "ipython",
    "version": 3
   },
   "file_extension": ".py",
   "mimetype": "text/x-python",
   "name": "python",
   "nbconvert_exporter": "python",
   "pygments_lexer": "ipython3",
   "version": "3.7.2"
  }
 },
 "nbformat": 4,
 "nbformat_minor": 2
}
