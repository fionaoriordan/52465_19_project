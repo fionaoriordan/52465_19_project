{
 "cells": [
  {
   "cell_type": "markdown",
   "metadata": {},
   "source": [
    "# MODULE 52465 PROJECT\n",
    "## Fiona O'Riordan\n",
    "## Date 16th December 2019\n"
   ]
  },
  {
   "cell_type": "markdown",
   "metadata": {},
   "source": [
    "## 1. Introduction\n",
    "\n",
    "Project objective:\n",
    "1. Choose a real-world phenomenon that can be measured and for which you could collect at least one-hundred data points across at least four different variables.\n",
    "1. Investigate the types of variables involved, their likely distributions, and their relationships with each other.\n",
    "1. Synthesise/simulate a data set as closely matching their properties as possible.\n",
    "1. Detail your research and implement the simulation in a Jupyter notebook – the data set itself can simply be displayed in an output cell within the notebook.\n",
    "\n",
    "For this project, I will explore deprivation amoungst parents with dependent children in Limerick City as I am interested in social justice and policy. I have choosen to focus on Limerick City as Limerick is the most deprived area in Ireland. The project will examine the relationship between loneparent status, education level, unemployment and the impact on deprivation.\n",
    "\n",
    "\"After some online research, I find that full-time post-graduate students study on av- erage four hours per week with a standard deviation of a quarter of an hour and that a normal distribution is an acceptable model of such a variable. Likewise, I investigate the other four variables, and I also look at the relationships between the variables. I devise an algorithm (or method) to generate such a data set, simulating values of the four variables for two-hundred students. I detail all this work in my notebook, and then I add some code in to generate a data set with those properties.\"\n",
    "\n",
    "\n",
    " \n"
   ]
  },
  {
   "cell_type": "markdown",
   "metadata": {},
   "source": [
    "## 2. Research:"
   ]
  },
  {
   "cell_type": "markdown",
   "metadata": {},
   "source": [
    "### Overview: \n",
    "   \n",
    "\n",
    "### Limerick City Electoral Districts 2016:\n",
    "  \n",
    "JohnSA\n",
    "Ballynanty\n",
    "Killeely A\n",
    "KilleelyB\n",
    "JohnSB\n",
    "AbbeyC\n",
    "Custom H\n",
    "Abbey B\n",
    "Castle A\n",
    "Abbey A\n",
    "JohnsC\n",
    "CastleB\n",
    "Farranshone\n",
    "Castle C \n",
    "(CSO, 2016)\n",
    "\n",
    "\n",
    "### Limerick City population by Electoral Districts 2016:\n",
    "JohnSA\t759\n",
    "Ballynanty\t2891\n",
    "Killeely A\t1467\n",
    "KilleelyB\t821\n",
    "JohnSB\t952\n",
    "AbbeyC\t602\n",
    "Custom H\t736\n",
    "Abbey B\t2653\n",
    "Castle A\t1140\n",
    "Abbey A\t4636\n",
    "JohnsC\t456\n",
    "CastleB\t458\n",
    "Farranshone\t936\n",
    "Castle C\t1245 \n",
    "(Pobal, 2016)\n",
    "\n",
    "\n",
    "\n",
    "### Gender: \n",
    "\n",
    "Female/Male =  51% / 49% (rounded)\n",
    "https://www.cso.ie/en/media/csoie/newsevents/documents/census2016summaryresultspart1/Presentation_Census_Summary_Results_Part_1.pdf\n",
    "\n",
    "### Age:\n",
    "Accordding to CSO Average Age = 36.4 years in 2016.\n",
    "https://www.cso.ie/en/media/csoie/newsevents/documents/census2016summaryresultspart1/Presentation_Census_Summary_Results_Part_1.pdf\n",
    "CSO (2016) Statbank E3001: Enumerated Population 1926 to 2016 by Age Group, Sex and CensusYear\n",
    "https://statbank.cso.ie/px/pxeirestat/Statire/SelectVarVal/Define.asp?maintable=E3001&PLanguage=0\n",
    "\n",
    "\n",
    "### Lone parent%:\n",
    " \n",
    "\n",
    " \n",
    "\n",
    "### Employment Status:\n",
    "\n",
    "\n",
    "\n",
    "\n",
    "### HP Deprivation Index Scores by LEA:\n",
    "The 2016 Pobal HP Deprivation Index for Small Areas (SA)\n",
    "https://www.pobal.ie/app/uploads/2018/06/The-2016-Pobal-HP-Deprivation-Index-Introduction-07.pdf\n",
    "Tipperary SR, Waterford City, County Waterford,Cork City,County Cork, Kerry, Clare, Limerick City, County Limerick Tipperary NR\n",
    " -3.8, -5.8, -1.3, -4.2, 2.6, -2.3, -.2, -7.4, 1.5\n",
    "\n",
    "\n"
   ]
  },
  {
   "cell_type": "markdown",
   "metadata": {},
   "source": [
    "## 3. Data Generation:"
   ]
  },
  {
   "cell_type": "code",
   "execution_count": 36,
   "metadata": {},
   "outputs": [],
   "source": [
    "import pandas as pd\n",
    "#import the NumPy library and name it np\n",
    "import numpy as np\n",
    "import matplotlib.pyplot as plt\n",
    "import seaborn as sns\n",
    "# Taken from : https://stackoverflow.com/a/47955814 \n",
    "# Adjusting the figure size of seaborn plots in this notebook\n",
    "sns.set(rc={'figure.figsize':(10,7)})\n",
    "# Taken from https://stackoverflow.com/questions/3899980/how-to-change-the-font-size-on-a-matplotlib-plot\n",
    "plt.rcParams.update({'font.size': 22})\n",
    "#dataset size\n",
    "samplesize = 1000\n",
    "\n"
   ]
  },
  {
   "cell_type": "code",
   "execution_count": null,
   "metadata": {},
   "outputs": [],
   "source": []
  },
  {
   "cell_type": "code",
   "execution_count": null,
   "metadata": {},
   "outputs": [],
   "source": []
  },
  {
   "cell_type": "markdown",
   "metadata": {},
   "source": [
    "### Location:\n"
   ]
  },
  {
   "cell_type": "markdown",
   "metadata": {},
   "source": [
    "Create a list of locations:"
   ]
  },
  {
   "cell_type": "code",
   "execution_count": 155,
   "metadata": {},
   "outputs": [],
   "source": [
    "\n",
    "\n",
    "\n",
    "ed = ['AbbeyA', 'AbbeyB', 'AbbeyC', 'Ballynanty', 'CastleA', 'CastleB',\n",
    "       'CastleC', 'CustomH', 'Farranshone', 'JohnSA', 'JohnSB', 'JohnsC',\n",
    "       'Killeely A', 'KilleelyB']\n",
    "pop = [4636,\n",
    "2653,\n",
    "602,\n",
    "2891,\n",
    "1140,\n",
    "1245,\n",
    "458,\n",
    "736,\n",
    "936,\n",
    "759,\n",
    "952,\n",
    "456,\n",
    "1467,\n",
    "821]\n",
    "\n",
    " \n",
    " \n",
    " \n"
   ]
  },
  {
   "cell_type": "markdown",
   "metadata": {},
   "source": [
    "Calulate the percentage population by ed in Limerick City:"
   ]
  },
  {
   "cell_type": "code",
   "execution_count": 156,
   "metadata": {},
   "outputs": [
    {
     "name": "stdout",
     "output_type": "stream",
     "text": [
      "0     0.234710\n",
      "1     0.134316\n",
      "2     0.030478\n",
      "3     0.146365\n",
      "4     0.057716\n",
      "5     0.063032\n",
      "6     0.023188\n",
      "7     0.037262\n",
      "8     0.047388\n",
      "9     0.038426\n",
      "10    0.048198\n",
      "11    0.023086\n",
      "12    0.074271\n",
      "13    0.041565\n",
      "Name: Pop, dtype: float64\n"
     ]
    }
   ],
   "source": [
    "# Calucate the percentage population by ed in Limerick City:\n",
    "#pop = [759, 2891,1467,821,952,602,736,2653,1140,4636,456,458,936,1245]\n",
    "#https://stackoverflow.com/questions/17839973/constructing-pandas-dataframe-from-values-in-variables-gives-valueerror-if-usi\n",
    "df1 = pd.DataFrame({\"Pop\":  \n",
    "pop })\n",
    "\n",
    "arr = df1['Pop']/df1['Pop'].sum() \n",
    "\n",
    "print(arr)\n"
   ]
  },
  {
   "cell_type": "code",
   "execution_count": 157,
   "metadata": {},
   "outputs": [],
   "source": [
    "#Generate a random sample population based on the % in each ED in Limerick City:\n",
    "#  https://stackoverflow.com/a/18201448/11250489\n",
    "district = np.sort(np.random.choice(ed, samplesize,p = arr))\n",
    "\n",
    " \n",
    "\n",
    " \n"
   ]
  },
  {
   "cell_type": "code",
   "execution_count": 39,
   "metadata": {},
   "outputs": [
    {
     "data": {
      "image/png": "[encoded data removed]",
      "text/plain": [
       "<Figure size 1008x576 with 1 Axes>"
      ]
     },
     "metadata": {},
     "output_type": "display_data"
    }
   ],
   "source": [
    "# plot a histogram of array location distribution.x \n",
    "\n",
    "plt.figure(figsize=(14,8), facecolor='w', edgecolor='k', clear='True')\n",
    "plt.hist(district, bins=8)\n",
    "plt.xlabel('Number by Electoral District')\n",
    "# Adapted from https://stackoverflow.com/questions/42559206/how-to-rotate-axis-labels-when-using-a-matplotlib-histogram\n",
    "plt.xticks(rotation='vertical')\n",
    "plt.show()"
   ]
  },
  {
   "cell_type": "markdown",
   "metadata": {},
   "source": [
    "## Lone Parent Status:"
   ]
  },
  {
   "cell_type": "code",
   "execution_count": null,
   "metadata": {},
   "outputs": [],
   "source": [
    "Create a list of the percentages of Loneparents Yes/No  by ED:\n",
    "\n",
    "first create an array with "
   ]
  },
  {
   "cell_type": "code",
   "execution_count": 160,
   "metadata": {},
   "outputs": [],
   "source": [
    "#Create a list of the percentages of Loneparents Yes/No  by ED:\n",
    "\n",
    "#Lone Parent status by ED:\n",
    "np.random.seed = (27)\n",
    "# lone parent percent \"Yes\" by Electoral district (CSO, 2016):\n",
    "lonepercent = [24.29,\n",
    "31,\n",
    "54,\n",
    "53.5,\n",
    "33.2,\n",
    "10.6,\n",
    "22.67,\n",
    "41.67,\n",
    "23.5,\n",
    "77.2,\n",
    "60,\n",
    "39,\n",
    "51.83,\n",
    "50.25]\n",
    "\n",
    " \n",
    "\n"
   ]
  },
  {
   "cell_type": "markdown",
   "metadata": {},
   "source": [
    "Create an array lp with Yes / No values for each district based on lonepercent in each district:"
   ]
  },
  {
   "cell_type": "code",
   "execution_count": 161,
   "metadata": {},
   "outputs": [
    {
     "data": {
      "text/plain": [
       "1000"
      ]
     },
     "execution_count": 161,
     "metadata": {},
     "output_type": "execute_result"
    }
   ],
   "source": [
    "def callonep(x):\n",
    "    \n",
    "    num = len(district[district == ed[x]])\n",
    "    newvals = np.random.choice([\"Yes\", \"No\"], \n",
    "                               num,p = [lonepercent[x]/100, (1 -lonepercent[x]/100)])\n",
    "    return newvals\n",
    "\n",
    "\n",
    "lp = np.concatenate([callonep(0),callonep(1),callonep(2), \n",
    "                callonep(3),callonep(4),callonep(5),\n",
    "                callonep(6),callonep(7),callonep(8),\n",
    "                callonep(9),callonep(10),callonep(11),\n",
    "                callonep(12),callonep(13)])\n",
    "\n",
    "\n",
    "\n",
    "#for i in range(0, 14):\n",
    "#     callonep(i)\n",
    "#     i = i +1\n",
    "#    print(newvals)\n",
    "#    np.concatenate([newvals,newvals])\n",
    "len(lp)"
   ]
  },
  {
   "cell_type": "code",
   "execution_count": 162,
   "metadata": {},
   "outputs": [
    {
     "data": {
      "image/png": "[encoded data removed]",
      "text/plain": [
       "<Figure size 1008x576 with 1 Axes>"
      ]
     },
     "metadata": {},
     "output_type": "display_data"
    }
   ],
   "source": [
    "#Create a histogram to represent number of Yes No values:\n",
    "\n",
    "plt.figure(figsize=(14,8), facecolor='w', edgecolor='k', clear='True')\n",
    "plt.hist(lp, bins=8)\n",
    "plt.xlabel('Number by Electoral District')\n",
    "# Adapted from https://stackoverflow.com/questions/42559206/how-to-rotate-axis-labels-when-using-a-matplotlib-histogram\n",
    "plt.xticks(rotation='vertical')\n",
    "plt.show()"
   ]
  },
  {
   "cell_type": "markdown",
   "metadata": {},
   "source": [
    "Dataset Creation: "
   ]
  },
  {
   "cell_type": "code",
   "execution_count": 164,
   "metadata": {},
   "outputs": [],
   "source": [
    "df=pd.DataFrame(data={'DISTRICT': district, 'LONEPARENTS': lp})\n",
    "#df[(df['DISTRICT'] == \"Yes\")].iloc[:, 0:2] # all the rows of the fist columns "
   ]
  },
  {
   "cell_type": "code",
   "execution_count": 166,
   "metadata": {},
   "outputs": [
    {
     "data": {
      "text/plain": [
       "<Figure size 720x504 with 0 Axes>"
      ]
     },
     "metadata": {},
     "output_type": "display_data"
    },
    {
     "data": {
      "image/png": "[encoded data removed]",
      "text/plain": [
       "<Figure size 948.175x432 with 1 Axes>"
      ]
     },
     "metadata": {},
     "output_type": "display_data"
    }
   ],
   "source": [
    "# Plot the df:\n",
    "fig = plt.figure()\n",
    "\n",
    "# Adapted from https://seaborn.pydata.org/generated/seaborn.catplot.html\n",
    "ax = sns.catplot (x=\"DISTRICT\", hue=\"LONEPARENTS\", kind=\"count\",\n",
    "            palette=\"pastel\", edgecolor=\".4\",  height=6, aspect=2,\n",
    "            data=df)\n",
    "#Adding a title at the figure level\n",
    "fig.suptitle(\"Lone Parent familes yes/no by Limerick Electoral District.\", fontsize = 20)\n",
    "# display the plot\n",
    "\n",
    "plt.show()\n"
   ]
  },
  {
   "cell_type": "code",
   "execution_count": 181,
   "metadata": {},
   "outputs": [
    {
     "data": {
      "text/plain": [
       "DISTRICT       633\n",
       "LONEPARENTS    633\n",
       "dtype: int64"
      ]
     },
     "execution_count": 181,
     "metadata": {},
     "output_type": "execute_result"
    }
   ],
   "source": [
    "(df[df.loc[:,'LONEPARENTS']=='Yes']).count()\n",
    "(df[df.loc[:,'LONEPARENTS']=='No']).count()"
   ]
  },
  {
   "cell_type": "markdown",
   "metadata": {},
   "source": [
    "Primary Education:\n"
   ]
  },
  {
   "cell_type": "code",
   "execution_count": 184,
   "metadata": {},
   "outputs": [
    {
     "data": {
      "text/plain": [
       "1000"
      ]
     },
     "execution_count": 184,
     "metadata": {},
     "output_type": "execute_result"
    }
   ],
   "source": [
    "# Primary education percent by ed:\n",
    "pedpercent = [9.41,\n",
    "15,\n",
    "21.33,\n",
    "37,\n",
    "10.4,\n",
    "4,\n",
    "7,\n",
    "12.67,\n",
    "13,\n",
    "47.4,\n",
    "30.4,\n",
    "12,\n",
    "37.5,\n",
    "29]\n",
    "\n",
    "# define function to generate random primary education only yes/no :\n",
    "def calped(x):\n",
    "    \n",
    "    num = len(district[district == ed[x]])\n",
    "    newvals = np.random.choice([\"Yes\", \"No\"], \n",
    "                               num,p = [pedpercent[x]/100, (1 -pedpercent[x]/100)])\n",
    "    return newvals\n",
    "\n",
    "\n",
    "ped = np.concatenate([calped(0),calped(1),calped(2), \n",
    "                calped(3),calped(4),calped(5),\n",
    "                calped(6),calped(7),calped(8),\n",
    "                calped(9),calped(10),calped(11),\n",
    "               calped(12),calped(13)])\n",
    "                      \n",
    "# check the number of elements created                     \n",
    "len(ped)"
   ]
  },
  {
   "cell_type": "code",
   "execution_count": 189,
   "metadata": {},
   "outputs": [],
   "source": [
    "# Add a new column to the df"
   ]
  },
  {
   "cell_type": "code",
   "execution_count": 187,
   "metadata": {},
   "outputs": [],
   "source": [
    "# Add a new column to the df\n",
    "df[\"PrimaryEd\"] = ped"
   ]
  },
  {
   "cell_type": "code",
   "execution_count": 193,
   "metadata": {},
   "outputs": [
    {
     "data": {
      "text/plain": [
       "1000"
      ]
     },
     "execution_count": 193,
     "metadata": {},
     "output_type": "execute_result"
    }
   ],
   "source": [
    "thirdedpercent = [35.94,\n",
    "30.38,\n",
    "17.34,\n",
    "6.91,\n",
    "35.48,\n",
    "59.48,\n",
    "46.28,\n",
    "29.13,\n",
    "40.44,\n",
    "2.29,\n",
    "16.72,\n",
    "37.45,\n",
    "7.37,\n",
    "12.03]\n",
    "\n",
    "# define function to generate random primary education only yes/no :\n",
    "def calthirded(x):\n",
    "    \n",
    "    num = len(district[district == ed[x]])\n",
    "    newvals = np.random.choice([\"Yes\", \"No\"], \n",
    "                               num,p = [thirdedpercent[x]/100, (1 -thirdedpercent[x]/100)])\n",
    "    return newvals\n",
    "\n",
    "\n",
    "thirded = np.concatenate([calthirded(0),calthirded(1),calthirded(2), \n",
    "                calthirded(3),calthirded(4),calthirded(5),\n",
    "                calthirded(6),calthirded(7),calthirded(8),\n",
    "                calthirded(9),calthirded(10),calthirded(11),\n",
    "               calthirded(12),calthirded(13)])\n",
    "                      \n",
    "# check the number of elements created                     \n",
    "len(thirded)"
   ]
  },
  {
   "cell_type": "code",
   "execution_count": null,
   "metadata": {},
   "outputs": [],
   "source": [
    "### Age: \n",
    "\n",
    "#### CSO (2019)\n",
    "\n",
    "#Adapated from : https://stackoverflow.com/questions/36537811/numpy-trapezoidal-distribution-for-age-distribution"
   ]
  },
  {
   "cell_type": "code",
   "execution_count": null,
   "metadata": {},
   "outputs": [],
   "source": [
    "# Not sure if I will use age. \n",
    "under65 = np.random.uniform(low=0,high=50,size= 375)   \n",
    "over65 = np.random.triangular(left=50,mode=50,right=100,size=125)  \n",
    "             \n",
    "allages = np.concatenate((under65,over65))  \n",
    "\n",
    "    \n",
    "plt.hist(allages)\n",
    "plt.show()\n",
    "\n"
   ]
  },
  {
   "cell_type": "markdown",
   "metadata": {},
   "source": [
    "### Gender: "
   ]
  },
  {
   "cell_type": "code",
   "execution_count": null,
   "metadata": {},
   "outputs": [],
   "source": [
    "\n",
    "\n",
    "# female = 51%, male = 49%\n",
    "gender_arr = ['female', 'male']\n",
    "gender = np.random.choice(gender_arr, samplesize, p=[0.51, 0.49])\n",
    "\n",
    "gender\n",
    "# plot a histogram of array gender\n",
    "plt.hist(gender)\n",
    "# display the histogram \n",
    "plt.show()\n",
    " \n",
    "\n",
    "\n",
    "x1 = x = np.random.normal(60000, size = 1000, scale = 10000)\n",
    "\n",
    "\n",
    "# plot a histogram of array x \n",
    "plt.hist(x, bins = 10)\n",
    "# display the histogram \n",
    "plt.show()\n",
    "\n",
    "\n",
    "\n",
    " \n",
    "\n",
    "\n"
   ]
  },
  {
   "cell_type": "code",
   "execution_count": 64,
   "metadata": {},
   "outputs": [
    {
     "data": {
      "text/plain": [
       "array(['AbbeyA', 'AbbeyB', 'AbbeyC', 'Ballynanty', 'CastleA', 'CastleB',\n",
       "       'CastleC', 'CustomH', 'Farranshone', 'JohnSA', 'JohnSB', 'JohnsC',\n",
       "       'Killeely A', 'KilleelyB'], dtype='<U32')"
      ]
     },
     "execution_count": 64,
     "metadata": {},
     "output_type": "execute_result"
    }
   ],
   "source": [
    "\n",
    "\n",
    "\n",
    " \n",
    "\n"
   ]
  },
  {
   "cell_type": "markdown",
   "metadata": {},
   "source": [
    "## References:"
   ]
  },
  {
   "cell_type": "markdown",
   "metadata": {},
   "source": [
    "Haase, T.  & Pratschke, J. (2016)\n",
    "The 2016 Pobal HP Deprivation Index for Small Areas (SA)\n",
    "https://www.pobal.ie/app/uploads/2018/06/The-2016-Pobal-HP-Deprivation-Index-Introduction-07.pdf\n",
    "\n",
    "Grotti R., Maître B., Watson D., & Whelan, C.T. (2017) **Technical paper on\n",
    "Poverty Transitions in Ireland: An Analysis of the Longitudinal Central Statistics Office (CSO) Survey on Income and Living Conditions (SILC), 2004 - 2015**, Department of Social Protection\n",
    "https://www.esri.ie/system/files/media/file-uploads/2017-12/BKMNEXT344.pdf\n",
    "\n",
    "CSO (2018)\n",
    "https://www.cso.ie/en/releasesandpublications/ep/p-silc/surveyonincomeandlivingconditionssilc2018/povertyanddeprivation/\n",
    "\n",
    "CSO (2019) HOME / STATISTICS\n",
    "Population estimates by age group and sex\n",
    "https://statbank.cso.ie/multiquicktables/quickTables.aspx?id=pea01\n",
    "\n",
    "\n",
    "https://www.pobal.ie/app/uploads/2018/06/The-2016-Pobal-HP-Deprivation-Index-Introduction-07.pdf\n",
    "\n",
    "maps.pobal.ie\n",
    "\n"
   ]
  },
  {
   "cell_type": "code",
   "execution_count": null,
   "metadata": {},
   "outputs": [],
   "source": []
  },
  {
   "cell_type": "code",
   "execution_count": null,
   "metadata": {},
   "outputs": [],
   "source": []
  }
 ],
 "metadata": {
  "kernelspec": {
   "display_name": "Python 3",
   "language": "python",
   "name": "python3"
  },
  "language_info": {
   "codemirror_mode": {
    "name": "ipython",
    "version": 3
   },
   "file_extension": ".py",
   "mimetype": "text/x-python",
   "name": "python",
   "nbconvert_exporter": "python",
   "pygments_lexer": "ipython3",
   "version": "3.7.2"
  }
 },
 "nbformat": 4,
 "nbformat_minor": 2
}
