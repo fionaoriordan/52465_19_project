{
 "cells": [
  {
   "cell_type": "markdown",
   "metadata": {},
   "source": [
    "# MODULE 52465 PROJECT\n",
    "## Fiona O'Riordan\n",
    "## Date 16th December 2019\n"
   ]
  },
  {
   "cell_type": "markdown",
   "metadata": {},
   "source": [
    "## 1. Introduction\n",
    "\n",
    "Project objective:\n",
    "1. Choose a real-world phenomenon that can be measured and for which you could collect at least one-hundred data points across at least four different variables.\n",
    "1. Investigate the types of variables involved, their likely distributions, and their relationships with each other.\n",
    "1. Synthesise/simulate a data set as closely matching their properties as possible.\n",
    "1. Detail your research and implement the simulation in a Jupyter notebook – the data set itself can simply be displayed in an output cell within the notebook.\n",
    "\n",
    "For this project, I will explore deprivation families  with dependent children under 18 years as I am interested in social justice and policy. The project will examine the relationship between loneparent status,  unemployment and the impact on deprivation.\n",
    "\n",
    "\"After some online research, I find that full-time post-graduate students study on av- erage four hours per week with a standard deviation of a quarter of an hour and that a normal distribution is an acceptable model of such a variable. Likewise, I investigate the other four variables, and I also look at the relationships between the variables. I devise an algorithm (or method) to generate such a data set, simulating values of the four variables for two-hundred students. I detail all this work in my notebook, and then I add some code in to generate a data set with those properties.\"\n",
    "\n",
    "\n",
    " \n"
   ]
  },
  {
   "cell_type": "markdown",
   "metadata": {},
   "source": [
    "## 2. Research:"
   ]
  },
  {
   "cell_type": "markdown",
   "metadata": {},
   "source": [
    "### 2.1 FAMILIES\n",
    "\n",
    "1 in 4 families with children in Ireland is a one-parent family (Census 2016) One Family 2016\n",
    "\n",
    "\n",
    "ONE PARENT FAMILIES 218,817 ALL\n",
    "ONE PARENT FAMILIES 189,112 FEMALE \n",
    "ONE PARENT FAMILIES 29,705 MALES\n",
    "MARRIED COUPLES 568,317\n",
    "COUPLES 75,587\n",
    "(CSO 2016)"
   ]
  },
  {
   "cell_type": "markdown",
   "metadata": {},
   "source": [
    "### 2.2   Equivalised Nominal Disposable Income\n",
    " "
   ]
  },
  {
   "cell_type": "markdown",
   "metadata": {},
   "source": [
    "1 adult, with children under 18 years\n",
    "Mean Equivalised Nominal Disposable Income (Euro) = 18228\n",
    "Weekly = 18228/52 = 350.53\n",
    "\n",
    "2 adults, with 1-3 children under 18 years\n",
    "Mean Equivalised Nominal Disposable Income (Euro) = 26919\n",
    "Weekly = 26919/52 = 517.67\n",
    "\n",
    "Other households with children under 18 years\n",
    "Mean Equivalised Nominal Disposable Income (Euro) = 23699\n",
    "Weekly = 23699/52 = 455.75\n",
    "\n",
    "CSO(2018)\n",
    "Statbank"
   ]
  },
  {
   "cell_type": "markdown",
   "metadata": {},
   "source": [
    "### 2.3 AT RISK OF POVERTY\n",
    "\n",
    "At risk of poverty means having an income less than 60% of the national median income. The median income for 2018 was calucated as  22872 pa. (Weekly = 439)(CSO, 2018)\n",
    "https://www.cso.ie/en/releasesandpublications/ep/p-silc/surveyonincomeandlivingconditionssilc2018/\n",
    "\n",
    "Acording to CSO(2018), the ‘at risk of poverty’ rate for households with one adult and one or more children aged under 18 was 33.5  in 2018. This is compared to an at risk of poverty rate of 9.9% for two-parent households with 1- 3 children and at an at risk of 15.5 for others.  This means that lone parents are almost 3.5 times as likely to be at risk of poverty compared to households with two parents."
   ]
  },
  {
   "cell_type": "markdown",
   "metadata": {},
   "source": [
    "### 2.4 DEPRIVATION RATE\n",
    "\n",
    "\n",
    "Deprivation is the inability to afford at least two of thesebasic necessities, such as going 24 hours without a substantial meal or being cold because parents are unable to afford to heat the home.Individuals who experience two or more of the eleven listed items are considered to be experiencing enforced deprivation.\n",
    "\n",
    "Two pairs of strong shoes\n",
    "A warm waterproof overcoat\n",
    "Buy new (not second-hand) clothes\n",
    "Eat meal with meat, chicken, fish (or vegetarian equivalent) every second day\n",
    "Have a roast joint or its equivalent once a week\n",
    "Had to go without heating during the last year through lack of money\n",
    "Keep the home adequately warm\n",
    "Buy presents for family or friends at least once a year\n",
    "Replace any worn out furniture\n",
    "Have family or friends for a drink or meal once a month\n",
    "Have a morning, afternoon or evening out in the last fortnight for entertainment\n",
    "\n",
    "Those living in households with one adult and one or more children aged under 18 had the highest deprivation rate in 2018 at 42.7%\n",
    "This compares to 2 adults, with 1-3 children under 18 years with a deprivaton rate of 14.3\n",
    "and Other households with children under 18 years with a deprivation rate of 15.9.\n"
   ]
  },
  {
   "cell_type": "markdown",
   "metadata": {},
   "source": [
    "### 2.5 CONSISTENT POVERTY\n",
    "**Consistent poverty rates for lone parents**\n",
    "\n",
    "One Family (2016)\n",
    "\n",
    "**Consistent poverty means that children are living in households with incomes below 60% of the national median income  and experiencing deprivation based on the agreed 11 deprivation indicators**\n",
    "\n",
    "Individuals living in households where there was one adult and one or more children aged under 18 had the highest consistent poverty rate at **19.2%**.This is compared to a consistent poverty rate of **5%** for 2 adults, with 1-3 children under 18 years and **4.5%** for Other households with children under 18 years . This means that lone parents are four times as likely to be living in consistent poverty compared to two-parent households."
   ]
  },
  {
   "cell_type": "markdown",
   "metadata": {},
   "source": [
    "## Gender\n",
    "MALE /FEMALE \n",
    "90% of lone parents are female."
   ]
  },
  {
   "cell_type": "markdown",
   "metadata": {},
   "source": [
    "EMPLOYEMENT\n",
    "\n",
    "the employment rate of lone parents (aged 15-64) was 58.5%  \n",
    "the adult members of couples without children 73.9 %  \n",
    "  for the adult members of couples with children 76%\n",
    "\n",
    "ONE FAMILY, 2016\n",
    "https://onefamily.ie/media-publications/facts-figures/"
   ]
  },
  {
   "cell_type": "markdown",
   "metadata": {},
   "source": [
    "### Sample size : \n",
    "1000 in total\n",
    "1 adult, with children under 18 years = 250\n",
    "2 adults, with 1-3 children under 18 years = 500\n",
    "Other households with children under 18 years = 250\n"
   ]
  },
  {
   "cell_type": "markdown",
   "metadata": {},
   "source": [
    "## 3. Data Generation:"
   ]
  },
  {
   "cell_type": "code",
   "execution_count": 80,
   "metadata": {},
   "outputs": [],
   "source": [
    "import pandas as pd\n",
    "#import the NumPy library and name it np\n",
    "import numpy as np\n",
    "import matplotlib.pyplot as plt\n",
    "import seaborn as sns\n",
    "# Taken from : https://stackoverflow.com/a/47955814 \n",
    "# Adjusting the figure size of seaborn plots in this notebook\n",
    "sns.set(rc={'figure.figsize':(10,7)})\n",
    "# Taken from https://stackoverflow.com/questions/3899980/how-to-change-the-font-size-on-a-matplotlib-plot\n",
    "plt.rcParams.update({'font.size': 22})\n",
    "#dataset size\n",
    "samplesize = 1000\n",
    "np.random.seed = (0)\n",
    "\n"
   ]
  },
  {
   "cell_type": "markdown",
   "metadata": {},
   "source": [
    "### 3.1 Family Household Composition:"
   ]
  },
  {
   "cell_type": "code",
   "execution_count": 142,
   "metadata": {},
   "outputs": [],
   "source": [
    "# Create array for each group\n",
    "#Taken from https://thispointer.com/python-how-to-create-a-list-and-initialize-with-same-values/\n",
    "group1 = [\"Lone Parent Family\"] * 250\n",
    "group2 = [\"2 Adults with 1-2 Children\"] * 500\n",
    "group3 = [\"Other 2 Adult Households\"] *250"
   ]
  },
  {
   "cell_type": "code",
   "execution_count": 144,
   "metadata": {},
   "outputs": [],
   "source": [
    "# Concatonate into one array.\n",
    "families = np.concatenate([group1, group2, group3])"
   ]
  },
  {
   "cell_type": "markdown",
   "metadata": {},
   "source": [
    "### 3.2  DISPOSABLE INCOME ARRAY"
   ]
  },
  {
   "cell_type": "code",
   "execution_count": 81,
   "metadata": {},
   "outputs": [],
   "source": [
    "# Create a function to generate the disposable income distribution for each group\n",
    "def caldincome(x, num):\n",
    "    newvals = np.random.normal(x, 100, size = num)\n",
    "    return newvals"
   ]
  },
  {
   "cell_type": "code",
   "execution_count": 82,
   "metadata": {},
   "outputs": [
    {
     "data": {
      "image/png": "[encoded data removed]",
      "text/plain": [
       "<Figure size 720x504 with 1 Axes>"
      ]
     },
     "metadata": {},
     "output_type": "display_data"
    }
   ],
   "source": [
    "# Generate disposable income distribution for 1 adult, with children under 18 years\n",
    "Adult1withC = caldincome(350, 250)\n",
    "# plot a histogram of array x \n",
    "plt.hist(Adult1withC)\n",
    "# display the histogram \n",
    "plt.show()"
   ]
  },
  {
   "cell_type": "code",
   "execution_count": 83,
   "metadata": {},
   "outputs": [
    {
     "data": {
      "image/png": "[encoded data removed]",
      "text/plain": [
       "<Figure size 720x504 with 1 Axes>"
      ]
     },
     "metadata": {},
     "output_type": "display_data"
    }
   ],
   "source": [
    "Adults2withC = caldincome(517.67, 500)\n",
    "# plot a histogram of array x \n",
    "plt.hist(Adults2withC)\n",
    "# display the histogram \n",
    "plt.show()"
   ]
  },
  {
   "cell_type": "code",
   "execution_count": 84,
   "metadata": {},
   "outputs": [
    {
     "data": {
      "image/png": "[encoded data removed]",
      "text/plain": [
       "<Figure size 720x504 with 1 Axes>"
      ]
     },
     "metadata": {},
     "output_type": "display_data"
    }
   ],
   "source": [
    "Other = caldincome(455.75, 250)\n",
    "# plot a histogram of array x \n",
    "plt.hist(Other)\n",
    "# display the histogram \n",
    "plt.show()"
   ]
  },
  {
   "cell_type": "code",
   "execution_count": 108,
   "metadata": {},
   "outputs": [
    {
     "data": {
      "text/plain": [
       "1000"
      ]
     },
     "execution_count": 108,
     "metadata": {},
     "output_type": "execute_result"
    }
   ],
   "source": [
    "#Create an array disincome to hold all of the disposable income data generated.\n",
    "disincome = np.concatenate([Adult1withC ,Adults2withC,Other])\n",
    "#Check there are 1000 samples.                \n",
    "len(disincome)"
   ]
  },
  {
   "cell_type": "code",
   "execution_count": 87,
   "metadata": {},
   "outputs": [
    {
     "data": {
      "image/png": "[encoded data removed]",
      "text/plain": [
       "<Figure size 720x504 with 1 Axes>"
      ]
     },
     "metadata": {},
     "output_type": "display_data"
    }
   ],
   "source": [
    "# plot a histogram of array x \n",
    "plt.hist(disincome)\n",
    "# display the histogram \n",
    "plt.show()"
   ]
  },
  {
   "cell_type": "markdown",
   "metadata": {},
   "source": [
    "### 3.1 DEPRIVATION ARRAY"
   ]
  },
  {
   "cell_type": "code",
   "execution_count": 94,
   "metadata": {},
   "outputs": [],
   "source": [
    "# Create a function to generate the disposable income distribution for each group\n",
    "def caldeprivation(samplesize, x):\n",
    "    newvalues  = np.random.choice([\"Yes\",\"No\"], size = samplesize, p=x)\n",
    "    return newvalues"
   ]
  },
  {
   "cell_type": "code",
   "execution_count": 96,
   "metadata": {},
   "outputs": [],
   "source": [
    "# Generate an array for those living in a household \n",
    "# with one adult and one or more children aged under 18 with  42.7% deprived = \"Yes\"\n",
    " \n",
    "dep1 = caldeprivation(250, [0.427, 0.573])\n",
    " "
   ]
  },
  {
   "cell_type": "code",
   "execution_count": 103,
   "metadata": {},
   "outputs": [],
   "source": [
    "##### Generate an array for those living in a household \n",
    "#2 adults, with 1-3 children under 18 years with a deprivaton rate of 14.3\n",
    "dep2 = caldeprivation(500, [0.143, 0.857])"
   ]
  },
  {
   "cell_type": "code",
   "execution_count": 104,
   "metadata": {},
   "outputs": [],
   "source": [
    "# Generate an array for those living in a household \n",
    "# Other households with children under 18 years with a deprivation rate of 15.9.\n",
    "dep3 = caldeprivation(250, [0.159, 0.841])\n"
   ]
  },
  {
   "cell_type": "code",
   "execution_count": 109,
   "metadata": {},
   "outputs": [
    {
     "data": {
      "text/plain": [
       "1000"
      ]
     },
     "execution_count": 109,
     "metadata": {},
     "output_type": "execute_result"
    }
   ],
   "source": [
    "#Create an array deprived to hold all of the deprived yes/no  data generated.\n",
    "deprived = np.concatenate([dep1, dep2, dep3])\n",
    "#Check there are 1000 samples.                \n",
    "len(deprived)"
   ]
  },
  {
   "cell_type": "code",
   "execution_count": null,
   "metadata": {},
   "outputs": [],
   "source": []
  },
  {
   "cell_type": "markdown",
   "metadata": {},
   "source": [
    "### 3.3 **At risk of poverty rates for lone parents**\n",
    "\n",
    "At risk of poverty means having an income less than 60% of the national median income. The median income for 2018 was calucated as  22872 pa. (Weekly = 439) \n"
   ]
  },
  {
   "cell_type": "markdown",
   "metadata": {},
   "source": [
    "\n",
    "\n"
   ]
  },
  {
   "cell_type": "markdown",
   "metadata": {},
   "source": [
    "### Dataset Creation: "
   ]
  },
  {
   "cell_type": "code",
   "execution_count": 145,
   "metadata": {},
   "outputs": [],
   "source": [
    "df=pd.DataFrame(data=\n",
    "                {\"Family\": families,\n",
    "                 'DisIncome': disincome, \n",
    "                 'Deprived': deprived, \n",
    "                 \"At Risk of Poverty\": \"No\"})"
   ]
  },
  {
   "cell_type": "code",
   "execution_count": 146,
   "metadata": {},
   "outputs": [],
   "source": [
    "#Create a new column \"At Risk of Poverty\".\n",
    "#Set \"At Risk of Poverty\" = \"Yes\" if weekly disposable income < weekly median income (439)\n",
    "df.loc[df['DisIncome'] < 439, \"At Risk of Poverty\"] = \"Yes\"\n",
    "#df[\"At Risk of Poverty\"] "
   ]
  },
  {
   "cell_type": "code",
   "execution_count": 147,
   "metadata": {},
   "outputs": [
    {
     "data": {
      "text/plain": [
       "<Figure size 720x504 with 0 Axes>"
      ]
     },
     "metadata": {},
     "output_type": "display_data"
    },
    {
     "data": {
      "image/png": "[encoded data removed]",
      "text/plain": [
       "<Figure size 953.8x432 with 1 Axes>"
      ]
     },
     "metadata": {},
     "output_type": "display_data"
    }
   ],
   "source": [
    "\n",
    "df\n",
    "\n",
    "# Plot the PrimaryEd colum by ed:\n",
    "fig = plt.figure()\n",
    "\n",
    "# Adapted from https://seaborn.pydata.org/generated/seaborn.catplot.html\n",
    "ax = sns.catplot (x=\"Family\", hue=\"At Risk of Poverty\", kind=\"count\",\n",
    "            palette=\"pastel\", edgecolor=\".4\",  height=6, aspect=2,\n",
    "            data=df)\n",
    "#Adding a title at the figure level\n",
    "fig.suptitle(\"Families at Risk of Poverty.\", fontsize = 20)\n",
    "# display the plot\n",
    "\n",
    "plt.show()\n",
    "\n"
   ]
  },
  {
   "cell_type": "markdown",
   "metadata": {},
   "source": [
    "### EXPLORE THE DATA\n"
   ]
  },
  {
   "cell_type": "code",
   "execution_count": 13,
   "metadata": {},
   "outputs": [],
   "source": [
    "# Add a new column to the df"
   ]
  },
  {
   "cell_type": "code",
   "execution_count": 15,
   "metadata": {},
   "outputs": [
    {
     "data": {
      "text/plain": [
       "<Figure size 432x288 with 0 Axes>"
      ]
     },
     "metadata": {},
     "output_type": "display_data"
    },
    {
     "data": {
      "image/png": "[encoded data removed]",
      "text/plain": [
       "<Figure size 922.459x432 with 1 Axes>"
      ]
     },
     "metadata": {
      "needs_background": "light"
     },
     "output_type": "display_data"
    }
   ],
   "source": [
    "# Plot the PrimaryEd colum by ed:\n",
    "fig = plt.figure()\n",
    "\n",
    "# Adapted from https://seaborn.pydata.org/generated/seaborn.catplot.html\n",
    "ax = sns.catplot (x=\"DISTRICT\", hue=\"PrimaryEd\", kind=\"count\",\n",
    "            palette=\"pastel\", edgecolor=\".4\",  height=6, aspect=2,\n",
    "            data=df)\n",
    "#Adding a title at the figure level\n",
    "fig.suptitle(\"Lone Parent familes yes/no by Limerick Electoral District.\", fontsize = 20)\n",
    "# display the plot\n",
    "\n",
    "plt.show()"
   ]
  },
  {
   "cell_type": "code",
   "execution_count": 16,
   "metadata": {},
   "outputs": [
    {
     "data": {
      "text/plain": [
       "1000"
      ]
     },
     "execution_count": 16,
     "metadata": {},
     "output_type": "execute_result"
    }
   ],
   "source": [
    "thirdedpercent = [35.94,\n",
    "30.38,\n",
    "17.34,\n",
    "6.91,\n",
    "35.48,\n",
    "59.48,\n",
    "46.28,\n",
    "29.13,\n",
    "40.44,\n",
    "2.29,\n",
    "16.72,\n",
    "37.45,\n",
    "7.37,\n",
    "12.03]\n",
    "\n",
    "# define function to generate random primary education only yes/no :\n",
    "def calthirded(x):\n",
    "    \n",
    "    num = len(district[district == ed[x]])\n",
    "    newvals = np.random.choice([\"Yes\", \"No\"], \n",
    "                               num,p = [thirdedpercent[x]/100, (1 -thirdedpercent[x]/100)])\n",
    "    return newvals\n",
    "\n",
    "\n",
    "thirded = np.concatenate([calthirded(0),calthirded(1),calthirded(2), \n",
    "                calthirded(3),calthirded(4),calthirded(5),\n",
    "                calthirded(6),calthirded(7),calthirded(8),\n",
    "                calthirded(9),calthirded(10),calthirded(11),\n",
    "               calthirded(12),calthirded(13)])\n",
    "                      \n",
    "# check the number of elements created                     \n",
    "len(thirded)"
   ]
  },
  {
   "cell_type": "code",
   "execution_count": 17,
   "metadata": {},
   "outputs": [],
   "source": [
    "# Add a new column to the df\n",
    "df[\"ThirdEd\"] = thirded"
   ]
  },
  {
   "cell_type": "code",
   "execution_count": 23,
   "metadata": {},
   "outputs": [
    {
     "data": {
      "text/plain": [
       "<Figure size 432x288 with 0 Axes>"
      ]
     },
     "metadata": {},
     "output_type": "display_data"
    },
    {
     "data": {
      "image/png": "[encoded data removed]",
      "text/plain": [
       "<Figure size 922.459x432 with 1 Axes>"
      ]
     },
     "metadata": {
      "needs_background": "light"
     },
     "output_type": "display_data"
    }
   ],
   "source": [
    "# Plot the PrimaryEd colum by ed:\n",
    "fig = plt.figure()\n",
    "\n",
    "# Adapted from https://seaborn.pydata.org/generated/seaborn.catplot.html\n",
    "ax = sns.catplot (x=\"DISTRICT\", hue=\"ThirdEd\", kind=\"count\",\n",
    "            palette=\"pastel\", edgecolor=\".4\",  height=6, aspect=2,\n",
    "            data=df)\n",
    "#Adding a title at the figure level\n",
    "fig.suptitle(\"Families with Third Level Ed yes/no by Limerick Electoral District.\", fontsize = 20)\n",
    "# display the plot\n",
    "\n",
    "plt.show()"
   ]
  },
  {
   "cell_type": "code",
   "execution_count": 30,
   "metadata": {},
   "outputs": [
    {
     "data": {
      "text/html": [
       "<div>\n",
       "<style scoped>\n",
       "    .dataframe tbody tr th:only-of-type {\n",
       "        vertical-align: middle;\n",
       "    }\n",
       "\n",
       "    .dataframe tbody tr th {\n",
       "        vertical-align: top;\n",
       "    }\n",
       "\n",
       "    .dataframe thead th {\n",
       "        text-align: right;\n",
       "    }\n",
       "</style>\n",
       "<table border=\"1\" class=\"dataframe\">\n",
       "  <thead>\n",
       "    <tr style=\"text-align: right;\">\n",
       "      <th></th>\n",
       "      <th>DISTRICT</th>\n",
       "      <th>LONEPARENTS</th>\n",
       "      <th>PrimaryEd</th>\n",
       "      <th>ThirdEd</th>\n",
       "    </tr>\n",
       "  </thead>\n",
       "  <tbody>\n",
       "    <tr>\n",
       "      <th>0</th>\n",
       "      <td>AbbeyA</td>\n",
       "      <td>Yes</td>\n",
       "      <td>No</td>\n",
       "      <td>No</td>\n",
       "    </tr>\n",
       "    <tr>\n",
       "      <th>11</th>\n",
       "      <td>AbbeyA</td>\n",
       "      <td>Yes</td>\n",
       "      <td>No</td>\n",
       "      <td>Yes</td>\n",
       "    </tr>\n",
       "    <tr>\n",
       "      <th>12</th>\n",
       "      <td>AbbeyA</td>\n",
       "      <td>Yes</td>\n",
       "      <td>No</td>\n",
       "      <td>Yes</td>\n",
       "    </tr>\n",
       "    <tr>\n",
       "      <th>15</th>\n",
       "      <td>AbbeyA</td>\n",
       "      <td>Yes</td>\n",
       "      <td>No</td>\n",
       "      <td>No</td>\n",
       "    </tr>\n",
       "    <tr>\n",
       "      <th>18</th>\n",
       "      <td>AbbeyA</td>\n",
       "      <td>Yes</td>\n",
       "      <td>No</td>\n",
       "      <td>No</td>\n",
       "    </tr>\n",
       "    <tr>\n",
       "      <th>22</th>\n",
       "      <td>AbbeyA</td>\n",
       "      <td>Yes</td>\n",
       "      <td>No</td>\n",
       "      <td>Yes</td>\n",
       "    </tr>\n",
       "    <tr>\n",
       "      <th>25</th>\n",
       "      <td>AbbeyA</td>\n",
       "      <td>Yes</td>\n",
       "      <td>No</td>\n",
       "      <td>Yes</td>\n",
       "    </tr>\n",
       "    <tr>\n",
       "      <th>26</th>\n",
       "      <td>AbbeyA</td>\n",
       "      <td>Yes</td>\n",
       "      <td>No</td>\n",
       "      <td>No</td>\n",
       "    </tr>\n",
       "    <tr>\n",
       "      <th>36</th>\n",
       "      <td>AbbeyA</td>\n",
       "      <td>Yes</td>\n",
       "      <td>Yes</td>\n",
       "      <td>No</td>\n",
       "    </tr>\n",
       "    <tr>\n",
       "      <th>46</th>\n",
       "      <td>AbbeyA</td>\n",
       "      <td>Yes</td>\n",
       "      <td>Yes</td>\n",
       "      <td>Yes</td>\n",
       "    </tr>\n",
       "    <tr>\n",
       "      <th>58</th>\n",
       "      <td>AbbeyA</td>\n",
       "      <td>Yes</td>\n",
       "      <td>No</td>\n",
       "      <td>Yes</td>\n",
       "    </tr>\n",
       "    <tr>\n",
       "      <th>59</th>\n",
       "      <td>AbbeyA</td>\n",
       "      <td>Yes</td>\n",
       "      <td>No</td>\n",
       "      <td>Yes</td>\n",
       "    </tr>\n",
       "    <tr>\n",
       "      <th>61</th>\n",
       "      <td>AbbeyA</td>\n",
       "      <td>Yes</td>\n",
       "      <td>Yes</td>\n",
       "      <td>Yes</td>\n",
       "    </tr>\n",
       "    <tr>\n",
       "      <th>62</th>\n",
       "      <td>AbbeyA</td>\n",
       "      <td>Yes</td>\n",
       "      <td>No</td>\n",
       "      <td>No</td>\n",
       "    </tr>\n",
       "    <tr>\n",
       "      <th>72</th>\n",
       "      <td>AbbeyA</td>\n",
       "      <td>Yes</td>\n",
       "      <td>No</td>\n",
       "      <td>No</td>\n",
       "    </tr>\n",
       "    <tr>\n",
       "      <th>73</th>\n",
       "      <td>AbbeyA</td>\n",
       "      <td>Yes</td>\n",
       "      <td>No</td>\n",
       "      <td>No</td>\n",
       "    </tr>\n",
       "    <tr>\n",
       "      <th>74</th>\n",
       "      <td>AbbeyA</td>\n",
       "      <td>Yes</td>\n",
       "      <td>No</td>\n",
       "      <td>No</td>\n",
       "    </tr>\n",
       "    <tr>\n",
       "      <th>76</th>\n",
       "      <td>AbbeyA</td>\n",
       "      <td>Yes</td>\n",
       "      <td>No</td>\n",
       "      <td>No</td>\n",
       "    </tr>\n",
       "    <tr>\n",
       "      <th>83</th>\n",
       "      <td>AbbeyA</td>\n",
       "      <td>Yes</td>\n",
       "      <td>No</td>\n",
       "      <td>No</td>\n",
       "    </tr>\n",
       "    <tr>\n",
       "      <th>90</th>\n",
       "      <td>AbbeyA</td>\n",
       "      <td>Yes</td>\n",
       "      <td>No</td>\n",
       "      <td>Yes</td>\n",
       "    </tr>\n",
       "    <tr>\n",
       "      <th>91</th>\n",
       "      <td>AbbeyA</td>\n",
       "      <td>Yes</td>\n",
       "      <td>Yes</td>\n",
       "      <td>Yes</td>\n",
       "    </tr>\n",
       "    <tr>\n",
       "      <th>96</th>\n",
       "      <td>AbbeyA</td>\n",
       "      <td>Yes</td>\n",
       "      <td>No</td>\n",
       "      <td>No</td>\n",
       "    </tr>\n",
       "    <tr>\n",
       "      <th>98</th>\n",
       "      <td>AbbeyA</td>\n",
       "      <td>Yes</td>\n",
       "      <td>No</td>\n",
       "      <td>No</td>\n",
       "    </tr>\n",
       "    <tr>\n",
       "      <th>99</th>\n",
       "      <td>AbbeyA</td>\n",
       "      <td>Yes</td>\n",
       "      <td>No</td>\n",
       "      <td>Yes</td>\n",
       "    </tr>\n",
       "    <tr>\n",
       "      <th>101</th>\n",
       "      <td>AbbeyA</td>\n",
       "      <td>Yes</td>\n",
       "      <td>No</td>\n",
       "      <td>No</td>\n",
       "    </tr>\n",
       "    <tr>\n",
       "      <th>111</th>\n",
       "      <td>AbbeyA</td>\n",
       "      <td>Yes</td>\n",
       "      <td>No</td>\n",
       "      <td>No</td>\n",
       "    </tr>\n",
       "    <tr>\n",
       "      <th>116</th>\n",
       "      <td>AbbeyA</td>\n",
       "      <td>Yes</td>\n",
       "      <td>No</td>\n",
       "      <td>No</td>\n",
       "    </tr>\n",
       "    <tr>\n",
       "      <th>118</th>\n",
       "      <td>AbbeyA</td>\n",
       "      <td>Yes</td>\n",
       "      <td>No</td>\n",
       "      <td>Yes</td>\n",
       "    </tr>\n",
       "    <tr>\n",
       "      <th>123</th>\n",
       "      <td>AbbeyA</td>\n",
       "      <td>Yes</td>\n",
       "      <td>No</td>\n",
       "      <td>Yes</td>\n",
       "    </tr>\n",
       "    <tr>\n",
       "      <th>128</th>\n",
       "      <td>AbbeyA</td>\n",
       "      <td>Yes</td>\n",
       "      <td>No</td>\n",
       "      <td>No</td>\n",
       "    </tr>\n",
       "    <tr>\n",
       "      <th>...</th>\n",
       "      <td>...</td>\n",
       "      <td>...</td>\n",
       "      <td>...</td>\n",
       "      <td>...</td>\n",
       "    </tr>\n",
       "    <tr>\n",
       "      <th>934</th>\n",
       "      <td>Killeely A</td>\n",
       "      <td>Yes</td>\n",
       "      <td>No</td>\n",
       "      <td>No</td>\n",
       "    </tr>\n",
       "    <tr>\n",
       "      <th>935</th>\n",
       "      <td>Killeely A</td>\n",
       "      <td>Yes</td>\n",
       "      <td>No</td>\n",
       "      <td>No</td>\n",
       "    </tr>\n",
       "    <tr>\n",
       "      <th>940</th>\n",
       "      <td>Killeely A</td>\n",
       "      <td>Yes</td>\n",
       "      <td>No</td>\n",
       "      <td>No</td>\n",
       "    </tr>\n",
       "    <tr>\n",
       "      <th>941</th>\n",
       "      <td>Killeely A</td>\n",
       "      <td>Yes</td>\n",
       "      <td>No</td>\n",
       "      <td>No</td>\n",
       "    </tr>\n",
       "    <tr>\n",
       "      <th>943</th>\n",
       "      <td>Killeely A</td>\n",
       "      <td>Yes</td>\n",
       "      <td>Yes</td>\n",
       "      <td>No</td>\n",
       "    </tr>\n",
       "    <tr>\n",
       "      <th>944</th>\n",
       "      <td>Killeely A</td>\n",
       "      <td>Yes</td>\n",
       "      <td>Yes</td>\n",
       "      <td>Yes</td>\n",
       "    </tr>\n",
       "    <tr>\n",
       "      <th>946</th>\n",
       "      <td>Killeely A</td>\n",
       "      <td>Yes</td>\n",
       "      <td>No</td>\n",
       "      <td>No</td>\n",
       "    </tr>\n",
       "    <tr>\n",
       "      <th>947</th>\n",
       "      <td>Killeely A</td>\n",
       "      <td>Yes</td>\n",
       "      <td>No</td>\n",
       "      <td>No</td>\n",
       "    </tr>\n",
       "    <tr>\n",
       "      <th>948</th>\n",
       "      <td>Killeely A</td>\n",
       "      <td>Yes</td>\n",
       "      <td>Yes</td>\n",
       "      <td>No</td>\n",
       "    </tr>\n",
       "    <tr>\n",
       "      <th>949</th>\n",
       "      <td>Killeely A</td>\n",
       "      <td>Yes</td>\n",
       "      <td>No</td>\n",
       "      <td>No</td>\n",
       "    </tr>\n",
       "    <tr>\n",
       "      <th>951</th>\n",
       "      <td>Killeely A</td>\n",
       "      <td>Yes</td>\n",
       "      <td>No</td>\n",
       "      <td>No</td>\n",
       "    </tr>\n",
       "    <tr>\n",
       "      <th>953</th>\n",
       "      <td>Killeely A</td>\n",
       "      <td>Yes</td>\n",
       "      <td>Yes</td>\n",
       "      <td>No</td>\n",
       "    </tr>\n",
       "    <tr>\n",
       "      <th>955</th>\n",
       "      <td>Killeely A</td>\n",
       "      <td>Yes</td>\n",
       "      <td>No</td>\n",
       "      <td>No</td>\n",
       "    </tr>\n",
       "    <tr>\n",
       "      <th>956</th>\n",
       "      <td>Killeely A</td>\n",
       "      <td>Yes</td>\n",
       "      <td>No</td>\n",
       "      <td>No</td>\n",
       "    </tr>\n",
       "    <tr>\n",
       "      <th>959</th>\n",
       "      <td>KilleelyB</td>\n",
       "      <td>Yes</td>\n",
       "      <td>Yes</td>\n",
       "      <td>No</td>\n",
       "    </tr>\n",
       "    <tr>\n",
       "      <th>961</th>\n",
       "      <td>KilleelyB</td>\n",
       "      <td>Yes</td>\n",
       "      <td>Yes</td>\n",
       "      <td>No</td>\n",
       "    </tr>\n",
       "    <tr>\n",
       "      <th>963</th>\n",
       "      <td>KilleelyB</td>\n",
       "      <td>Yes</td>\n",
       "      <td>No</td>\n",
       "      <td>Yes</td>\n",
       "    </tr>\n",
       "    <tr>\n",
       "      <th>965</th>\n",
       "      <td>KilleelyB</td>\n",
       "      <td>Yes</td>\n",
       "      <td>No</td>\n",
       "      <td>Yes</td>\n",
       "    </tr>\n",
       "    <tr>\n",
       "      <th>968</th>\n",
       "      <td>KilleelyB</td>\n",
       "      <td>Yes</td>\n",
       "      <td>Yes</td>\n",
       "      <td>No</td>\n",
       "    </tr>\n",
       "    <tr>\n",
       "      <th>969</th>\n",
       "      <td>KilleelyB</td>\n",
       "      <td>Yes</td>\n",
       "      <td>No</td>\n",
       "      <td>No</td>\n",
       "    </tr>\n",
       "    <tr>\n",
       "      <th>971</th>\n",
       "      <td>KilleelyB</td>\n",
       "      <td>Yes</td>\n",
       "      <td>No</td>\n",
       "      <td>No</td>\n",
       "    </tr>\n",
       "    <tr>\n",
       "      <th>972</th>\n",
       "      <td>KilleelyB</td>\n",
       "      <td>Yes</td>\n",
       "      <td>No</td>\n",
       "      <td>No</td>\n",
       "    </tr>\n",
       "    <tr>\n",
       "      <th>978</th>\n",
       "      <td>KilleelyB</td>\n",
       "      <td>Yes</td>\n",
       "      <td>No</td>\n",
       "      <td>Yes</td>\n",
       "    </tr>\n",
       "    <tr>\n",
       "      <th>981</th>\n",
       "      <td>KilleelyB</td>\n",
       "      <td>Yes</td>\n",
       "      <td>No</td>\n",
       "      <td>No</td>\n",
       "    </tr>\n",
       "    <tr>\n",
       "      <th>983</th>\n",
       "      <td>KilleelyB</td>\n",
       "      <td>Yes</td>\n",
       "      <td>No</td>\n",
       "      <td>Yes</td>\n",
       "    </tr>\n",
       "    <tr>\n",
       "      <th>986</th>\n",
       "      <td>KilleelyB</td>\n",
       "      <td>Yes</td>\n",
       "      <td>Yes</td>\n",
       "      <td>No</td>\n",
       "    </tr>\n",
       "    <tr>\n",
       "      <th>987</th>\n",
       "      <td>KilleelyB</td>\n",
       "      <td>Yes</td>\n",
       "      <td>No</td>\n",
       "      <td>No</td>\n",
       "    </tr>\n",
       "    <tr>\n",
       "      <th>989</th>\n",
       "      <td>KilleelyB</td>\n",
       "      <td>Yes</td>\n",
       "      <td>Yes</td>\n",
       "      <td>No</td>\n",
       "    </tr>\n",
       "    <tr>\n",
       "      <th>990</th>\n",
       "      <td>KilleelyB</td>\n",
       "      <td>Yes</td>\n",
       "      <td>No</td>\n",
       "      <td>No</td>\n",
       "    </tr>\n",
       "    <tr>\n",
       "      <th>996</th>\n",
       "      <td>KilleelyB</td>\n",
       "      <td>Yes</td>\n",
       "      <td>No</td>\n",
       "      <td>No</td>\n",
       "    </tr>\n",
       "  </tbody>\n",
       "</table>\n",
       "<p>377 rows × 4 columns</p>\n",
       "</div>"
      ],
      "text/plain": [
       "       DISTRICT LONEPARENTS PrimaryEd ThirdEd\n",
       "0        AbbeyA         Yes        No      No\n",
       "11       AbbeyA         Yes        No     Yes\n",
       "12       AbbeyA         Yes        No     Yes\n",
       "15       AbbeyA         Yes        No      No\n",
       "18       AbbeyA         Yes        No      No\n",
       "22       AbbeyA         Yes        No     Yes\n",
       "25       AbbeyA         Yes        No     Yes\n",
       "26       AbbeyA         Yes        No      No\n",
       "36       AbbeyA         Yes       Yes      No\n",
       "46       AbbeyA         Yes       Yes     Yes\n",
       "58       AbbeyA         Yes        No     Yes\n",
       "59       AbbeyA         Yes        No     Yes\n",
       "61       AbbeyA         Yes       Yes     Yes\n",
       "62       AbbeyA         Yes        No      No\n",
       "72       AbbeyA         Yes        No      No\n",
       "73       AbbeyA         Yes        No      No\n",
       "74       AbbeyA         Yes        No      No\n",
       "76       AbbeyA         Yes        No      No\n",
       "83       AbbeyA         Yes        No      No\n",
       "90       AbbeyA         Yes        No     Yes\n",
       "91       AbbeyA         Yes       Yes     Yes\n",
       "96       AbbeyA         Yes        No      No\n",
       "98       AbbeyA         Yes        No      No\n",
       "99       AbbeyA         Yes        No     Yes\n",
       "101      AbbeyA         Yes        No      No\n",
       "111      AbbeyA         Yes        No      No\n",
       "116      AbbeyA         Yes        No      No\n",
       "118      AbbeyA         Yes        No     Yes\n",
       "123      AbbeyA         Yes        No     Yes\n",
       "128      AbbeyA         Yes        No      No\n",
       "..          ...         ...       ...     ...\n",
       "934  Killeely A         Yes        No      No\n",
       "935  Killeely A         Yes        No      No\n",
       "940  Killeely A         Yes        No      No\n",
       "941  Killeely A         Yes        No      No\n",
       "943  Killeely A         Yes       Yes      No\n",
       "944  Killeely A         Yes       Yes     Yes\n",
       "946  Killeely A         Yes        No      No\n",
       "947  Killeely A         Yes        No      No\n",
       "948  Killeely A         Yes       Yes      No\n",
       "949  Killeely A         Yes        No      No\n",
       "951  Killeely A         Yes        No      No\n",
       "953  Killeely A         Yes       Yes      No\n",
       "955  Killeely A         Yes        No      No\n",
       "956  Killeely A         Yes        No      No\n",
       "959   KilleelyB         Yes       Yes      No\n",
       "961   KilleelyB         Yes       Yes      No\n",
       "963   KilleelyB         Yes        No     Yes\n",
       "965   KilleelyB         Yes        No     Yes\n",
       "968   KilleelyB         Yes       Yes      No\n",
       "969   KilleelyB         Yes        No      No\n",
       "971   KilleelyB         Yes        No      No\n",
       "972   KilleelyB         Yes        No      No\n",
       "978   KilleelyB         Yes        No     Yes\n",
       "981   KilleelyB         Yes        No      No\n",
       "983   KilleelyB         Yes        No     Yes\n",
       "986   KilleelyB         Yes       Yes      No\n",
       "987   KilleelyB         Yes        No      No\n",
       "989   KilleelyB         Yes       Yes      No\n",
       "990   KilleelyB         Yes        No      No\n",
       "996   KilleelyB         Yes        No      No\n",
       "\n",
       "[377 rows x 4 columns]"
      ]
     },
     "execution_count": 30,
     "metadata": {},
     "output_type": "execute_result"
    }
   ],
   "source": []
  },
  {
   "cell_type": "code",
   "execution_count": 20,
   "metadata": {},
   "outputs": [
    {
     "data": {
      "image/png": "[encoded data removed]",
      "text/plain": [
       "<Figure size 432x288 with 1 Axes>"
      ]
     },
     "metadata": {
      "needs_background": "light"
     },
     "output_type": "display_data"
    },
    {
     "data": {
      "image/png": "[encoded data removed]",
      "text/plain": [
       "<Figure size 432x288 with 1 Axes>"
      ]
     },
     "metadata": {
      "needs_background": "light"
     },
     "output_type": "display_data"
    }
   ],
   "source": [
    "\n",
    "\n",
    "# female = 51%, male = 49%\n",
    "gender_arr = ['female', 'male']\n",
    "gender = np.random.choice(gender_arr, samplesize, p=[0.51, 0.49])\n",
    "\n",
    "gender\n",
    "# plot a histogram of array gender\n",
    "plt.hist(gender)\n",
    "# display the histogram \n",
    "plt.show()\n",
    " \n",
    "\n",
    "\n",
    "x1 = x = np.random.normal(60000, size = 1000, scale = 10000)\n",
    "\n",
    "\n",
    "# plot a histogram of array x \n",
    "plt.hist(x, bins = 10)\n",
    "# display the histogram \n",
    "plt.show()\n",
    "\n",
    "\n",
    "\n",
    " \n",
    "\n",
    "\n"
   ]
  },
  {
   "cell_type": "code",
   "execution_count": 21,
   "metadata": {},
   "outputs": [],
   "source": [
    "### Age: \n",
    "\n",
    "#### CSO (2019)\n",
    "\n",
    "#Adapated from : https://stackoverflow.com/questions/36537811/numpy-trapezoidal-distribution-for-age-distribution"
   ]
  },
  {
   "cell_type": "code",
   "execution_count": 22,
   "metadata": {},
   "outputs": [
    {
     "data": {
      "image/png": "[encoded data removed]",
      "text/plain": [
       "<Figure size 432x288 with 1 Axes>"
      ]
     },
     "metadata": {
      "needs_background": "light"
     },
     "output_type": "display_data"
    }
   ],
   "source": [
    "# Not sure if I will use age. \n",
    "under65 = np.random.uniform(low=0,high=50,size= 375)   \n",
    "over65 = np.random.triangular(left=50,mode=50,right=100,size=125)  \n",
    "             \n",
    "allages = np.concatenate((under65,over65))  \n",
    "\n",
    "    \n",
    "plt.hist(allages)\n",
    "plt.show()\n",
    "\n"
   ]
  },
  {
   "cell_type": "markdown",
   "metadata": {},
   "source": [
    "### Gender: "
   ]
  },
  {
   "cell_type": "code",
   "execution_count": null,
   "metadata": {},
   "outputs": [],
   "source": [
    "\n",
    "\n",
    "\n",
    " \n",
    "\n"
   ]
  },
  {
   "cell_type": "markdown",
   "metadata": {},
   "source": [
    "## References:"
   ]
  },
  {
   "cell_type": "markdown",
   "metadata": {},
   "source": [
    "Haase, T.  & Pratschke, J. (2016)\n",
    "The 2016 Pobal HP Deprivation Index for Small Areas (SA)\n",
    "https://www.pobal.ie/app/uploads/2018/06/The-2016-Pobal-HP-Deprivation-Index-Introduction-07.pdf\n",
    "\n",
    "Grotti R., Maître B., Watson D., & Whelan, C.T. (2017) **Technical paper on\n",
    "Poverty Transitions in Ireland: An Analysis of the Longitudinal Central Statistics Office (CSO) Survey on Income and Living Conditions (SILC), 2004 - 2015**, Department of Social Protection\n",
    "https://www.esri.ie/system/files/media/file-uploads/2017-12/BKMNEXT344.pdf\n",
    "\n",
    "CSO (2016) Census 2016 Summary Results - Part 2\n",
    "Appendix 10: List of unemployment blackspots\n",
    "https://www.cso.ie/en/media/csoie/newsevents/documents/census2016summaryresultspart2/Census_2016_Summary_Results_–_Part_2.pdf\n",
    "\n",
    "CSO (2018)\n",
    "https://www.cso.ie/en/releasesandpublications/ep/p-silc/surveyonincomeandlivingconditionssilc2018/povertyanddeprivation/\n",
    "\n",
    "CSO (2019) HOME / STATISTICS\n",
    "Population estimates by age group and sex\n",
    "https://statbank.cso.ie/multiquicktables/quickTables.aspx?id=pea01\n",
    "\n",
    "\n",
    "https://www.pobal.ie/app/uploads/2018/06/The-2016-Pobal-HP-Deprivation-Index-Introduction-07.pdf\n",
    "\n",
    "maps.pobal.ie\n",
    "\n"
   ]
  },
  {
   "cell_type": "code",
   "execution_count": null,
   "metadata": {},
   "outputs": [],
   "source": []
  },
  {
   "cell_type": "code",
   "execution_count": null,
   "metadata": {},
   "outputs": [],
   "source": []
  }
 ],
 "metadata": {
  "kernelspec": {
   "display_name": "Python 3",
   "language": "python",
   "name": "python3"
  },
  "language_info": {
   "codemirror_mode": {
    "name": "ipython",
    "version": 3
   },
   "file_extension": ".py",
   "mimetype": "text/x-python",
   "name": "python",
   "nbconvert_exporter": "python",
   "pygments_lexer": "ipython3",
   "version": "3.7.2"
  }
 },
 "nbformat": 4,
 "nbformat_minor": 2
}
