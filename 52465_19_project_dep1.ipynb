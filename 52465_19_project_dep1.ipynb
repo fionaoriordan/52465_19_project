{
 "cells": [
  {
   "cell_type": "markdown",
   "metadata": {},
   "source": [
    "# MODULE 52465 PROJECT\n",
    "## Fiona O'Riordan\n",
    "## Date 16th December 2019\n"
   ]
  },
  {
   "cell_type": "markdown",
   "metadata": {},
   "source": [
    "## 1. Introduction\n",
    "\n",
    "Project objective:\n",
    "1. Choose a real-world phenomenon that can be measured and for which you could collect at least one-hundred data points across at least four different variables.\n",
    "1. Investigate the types of variables involved, their likely distributions, and their relationships with each other.\n",
    "1. Synthesise/simulate a data set as closely matching their properties as possible.\n",
    "1. Detail your research and implement the simulation in a Jupyter notebook – the data set itself can simply be displayed in an output cell within the notebook.\n",
    "\n",
    "For this project, I will explore deprivation within families  with dependent children under 18 years as I am interested in social justice and policy. The project will examine the relationship between families household composition, gender of the lead family member, employment status and the risk of and impact on material deprivation.\n",
    "\n",
    "\"After some online research, I find that full-time post-graduate students study on av- erage four hours per week with a standard deviation of a quarter of an hour and that a normal distribution is an acceptable model of such a variable. Likewise, I investigate the other four variables, and I also look at the relationships between the variables. I devise an algorithm (or method) to generate such a data set, simulating values of the four variables for two-hundred students. I detail all this work in my notebook, and then I add some code in to generate a data set with those properties.\"\n",
    "\n",
    "\n",
    " \n"
   ]
  },
  {
   "cell_type": "markdown",
   "metadata": {},
   "source": [
    "## 2. Research:"
   ]
  },
  {
   "cell_type": "markdown",
   "metadata": {},
   "source": [
    "### 2.1 FAMILIES\n",
    "\n",
    "One in four Irish families with children are one-parent family (Census 2016).  \n",
    "ONE PARENT FAMILIES 218,817 ALL\n",
    "ONE PARENT FAMILIES 189,112 FEMALE \n",
    "ONE PARENT FAMILIES 29,705 MALES\n",
    "MARRIED COUPLES 568,317\n",
    "COUPLES 75,587\n",
    "(CSO 2016)"
   ]
  },
  {
   "cell_type": "markdown",
   "metadata": {},
   "source": [
    "### 2.2 GENDER"
   ]
  },
  {
   "cell_type": "markdown",
   "metadata": {},
   "source": [
    "\n",
    "According to the CSO (2018) 90% of lone parents are female. For the rest of the observations in this project we can assume a female/male ratio of 50/50 based on the fact that half the couples in a heterosexual relationship will be female and in the case of families with same sex parents we will assume a equal number of male couples and female couples exist."
   ]
  },
  {
   "cell_type": "markdown",
   "metadata": {},
   "source": [
    "### 2.3 EMPLOYEMENT"
   ]
  },
  {
   "cell_type": "markdown",
   "metadata": {},
   "source": [
    "The employment rate of lone parents was 58.5% (One Family, 2016) In contrast, for the adult members of couples with children employment rate was 76% (One Family, 2016)\n",
    "\n",
    "ONE FAMILY, 2016\n",
    "https://onefamily.ie/media-publications/facts-figures/"
   ]
  },
  {
   "cell_type": "markdown",
   "metadata": {},
   "source": [
    "### 2.4   EQUIVALISED MEAN NOMINAL DISPOSABLE INCOME:\n",
    " "
   ]
  },
  {
   "cell_type": "markdown",
   "metadata": {},
   "source": [
    "1 adult, with children under 18 years\n",
    "Mean Equivalised Nominal Disposable Income (Euro) = 18228\n",
    "Weekly = 18228/52 = 350.53\n",
    "\n",
    "2 adults, with 1-3 children under 18 years\n",
    "Mean Equivalised Nominal Disposable Income (Euro) = 26919\n",
    "Weekly = 26919/52 = 517.67\n",
    "\n",
    "Other households with children under 18 years\n",
    "Mean Equivalised Nominal Disposable Income (Euro) = 23699\n",
    "Weekly = 23699/52 = 455.75\n",
    "\n",
    "CSO(2018)\n",
    "Statbank"
   ]
  },
  {
   "cell_type": "markdown",
   "metadata": {},
   "source": [
    "### 2.4 AT RISK OF POVERTY"
   ]
  },
  {
   "cell_type": "markdown",
   "metadata": {},
   "source": [
    "At risk of poverty means having an income less than 60% of the national median income. The median income for 2018 was calucated as  22872 pa. (Weekly = 439)(CSO, 2018)\n",
    "https://www.cso.ie/en/releasesandpublications/ep/p-silc/surveyonincomeandlivingconditionssilc2018/\n",
    "\n",
    "Acording to CSO(2018), the ‘at risk of poverty’ rate for households with one adult and one or more children aged under 18 was 33.5  in 2018. This is compared to an at risk of poverty rate of 9.9% for two-parent households with 1- 3 children and at an at risk of 15.5 for others.  This means that lone parents are almost 3.5 times as likely to be at risk of poverty compared to households with two parents."
   ]
  },
  {
   "cell_type": "markdown",
   "metadata": {},
   "source": [
    "### 2.5 DEPRIVATION "
   ]
  },
  {
   "cell_type": "markdown",
   "metadata": {},
   "source": [
    "Deprivation is the inability to afford at least two of thesebasic necessities, such as going 24 hours without a substantial meal or being cold because parents are unable to afford to heat the home.Individuals who experience two or more of the eleven listed items are considered to be experiencing enforced deprivation.\n",
    "\n",
    "Two pairs of strong shoes\n",
    "A warm waterproof overcoat\n",
    "Buy new (not second-hand) clothes\n",
    "Eat meal with meat, chicken, fish (or vegetarian equivalent) every second day\n",
    "Have a roast joint or its equivalent once a week\n",
    "Had to go without heating during the last year through lack of money\n",
    "Keep the home adequately warm\n",
    "Buy presents for family or friends at least once a year\n",
    "Replace any worn out furniture\n",
    "Have family or friends for a drink or meal once a month\n",
    "Have a morning, afternoon or evening out in the last fortnight for entertainment\n",
    "\n",
    "Those living in households with one adult and one or more children aged under 18 had the highest deprivation rate in 2018 at 42.7%\n",
    "This compares to 2 adults, with 1-3 children under 18 years with a deprivaton rate of 14.3\n",
    "and Other households with children under 18 years with a deprivation rate of 15.9."
   ]
  },
  {
   "cell_type": "markdown",
   "metadata": {},
   "source": [
    "### 2.5 CONSISTENT POVERTY\n",
    "**Consistent poverty rates for lone parents**\n",
    "\n",
    "One Family (2016)\n",
    "\n",
    "**Consistent poverty means that children are living in households with incomes below 60% of the national median income  and experiencing deprivation based on the agreed 11 deprivation indicators**\n",
    "\n",
    "Individuals living in households where there was one adult and one or more children aged under 18 had the highest consistent poverty rate at **19.2%**.This is compared to a consistent poverty rate of **5%** for 2 adults, with 1-3 children under 18 years and **4.5%** for Other households with children under 18 years . This means that lone parents are four times as likely to be living in consistent poverty compared to two-parent households."
   ]
  },
  {
   "cell_type": "markdown",
   "metadata": {},
   "source": [
    "### 2.7 WORD DEPRIVATION\n",
    "Economic deprivation affects educational inequalities from an especially young age (Tasc, 2016). At age nine months old, no correlation exists between the household income of a child and their \"inherent cognitive potential (educational ability)\" (Tasc, 2016, unpaged). However, by aged three, children in highest income families outperform three year olds in lowest household income families with a \"difference on average of least 10 points in the average scores on the Naming Vocabulary tests\" (Growing up Ireland as cited by Tasc, 2016).\n",
    "\n",
    "Average scores on the Naming Vocuabulary tests for three year olds:  \n",
    "Quintile 1: 70  \n",
    "Quintile 2: 71  \n",
    "Quintile 3: 74  \n",
    "Quintile 4: 78  \n",
    "Quintile 5: 80  \n",
    "\n",
    "![tasc_2016_chart38.jpg](tasc_2016_chart38.jpg)\n",
    "\n",
    " \n",
    "(Growing up Ireland as cited by Tasc, 2016: Figure 23).\n"
   ]
  },
  {
   "cell_type": "markdown",
   "metadata": {},
   "source": [
    "### 2.8 INCOME DECILES: \n",
    "According to the Survey on Income and Living Conditions (SILC) 2018,  the average weekly equivalised income by net disposable equivalised income deciles and composition of net equivalised disposable income, 2018 is as follows: \n",
    "  \n",
    "deciles = (237.79, 289.24,340.48,387.17, 437.75,493.84, 568.32,682.02,840.91, 840.91)  \n"
   ]
  },
  {
   "cell_type": "markdown",
   "metadata": {},
   "source": [
    "### 2.6 SAMPLESIZE : \n",
    "1000 in total\n",
    "1 adult, with children under 18 years = 250\n",
    "2 adults, with 1-3 children under 18 years = 500\n",
    "Other households with children under 18 years = 250\n",
    "\n",
    "I have selected these samplesizes **because**\n"
   ]
  },
  {
   "cell_type": "markdown",
   "metadata": {},
   "source": [
    "## 3. DATA GENERATION:"
   ]
  },
  {
   "cell_type": "markdown",
   "metadata": {},
   "source": [
    "### 3.1 IMPORT LIBRARIES & PACKAGES & SET NOTEBOOK PARAMETERS:"
   ]
  },
  {
   "cell_type": "markdown",
   "metadata": {},
   "source": [
    "Import libraries & packages that will be used and set plot parameters for this notebook:"
   ]
  },
  {
   "cell_type": "code",
   "execution_count": 1,
   "metadata": {},
   "outputs": [],
   "source": [
    "#import the pandas library for df creation and rename it pd\n",
    "import pandas as pd\n",
    "#import the NumPy library in order to use the random package and name it np\n",
    "import numpy as np\n",
    "#import the matplotlib library, package pyplot for plotting and name it plt\n",
    "import matplotlib.pyplot as plt\n",
    "#import the seaborn library for plotting and name it sns\n",
    "import seaborn as sns\n",
    "# Taken from : https://stackoverflow.com/a/47955814 \n",
    "# Adjusting the figure size of seaborn plots in this notebook\n",
    "sns.set(rc={'figure.figsize':(10,7)})\n",
    "# Updating the font size of the plot \n",
    "# Taken from https://stackoverflow.com/questions/3899980/how-to-change-the-font-size-on-a-matplotlib-plot\n",
    "plt.rcParams.update({'font.size': 22})\n",
    "# set the random seed to that results are reproducable while I am testing\n",
    "np.random.seed = (27)\n"
   ]
  },
  {
   "cell_type": "markdown",
   "metadata": {},
   "source": [
    "### 3.2 FAMILY HOUSEHOULD COMPOSITION:"
   ]
  },
  {
   "cell_type": "code",
   "execution_count": 2,
   "metadata": {},
   "outputs": [],
   "source": [
    "# Create array for each group\n",
    "# First set the samplesize for each group\n",
    "sample1 = 250\n",
    "sample2 = 500\n",
    "sample3 = 250\n",
    "#Taken from https://thispointer.com/python-how-to-create-a-list-and-initialize-with-same-values/\n",
    "group1 = [\"Lone Parent Family\"] * sample1\n",
    "group2 = [\"2 Adults with 1-2 Children\"] * sample2\n",
    "group3 = [\"Other 2 Adult Households\"] *sample3"
   ]
  },
  {
   "cell_type": "code",
   "execution_count": 3,
   "metadata": {},
   "outputs": [],
   "source": [
    "# Concatenate into one array.\n",
    "families = np.concatenate([group1, group2, group3])"
   ]
  },
  {
   "cell_type": "markdown",
   "metadata": {},
   "source": [
    "### 3.3 SET THE SAMPLE SIZE:"
   ]
  },
  {
   "cell_type": "code",
   "execution_count": 4,
   "metadata": {},
   "outputs": [
    {
     "data": {
      "text/plain": [
       "1000"
      ]
     },
     "execution_count": 4,
     "metadata": {},
     "output_type": "execute_result"
    }
   ],
   "source": [
    "# set the samplesize to be the sum of sample 1,2 & 3.\n",
    "samplesize = sample1 + sample2 + sample3\n",
    "samplesize"
   ]
  },
  {
   "cell_type": "markdown",
   "metadata": {},
   "source": [
    "### 3.4 GENDER:"
   ]
  },
  {
   "cell_type": "markdown",
   "metadata": {},
   "source": [
    "Create a function to create generate \"Female\"/\"Male\" to indicate gender:"
   ]
  },
  {
   "cell_type": "code",
   "execution_count": 5,
   "metadata": {},
   "outputs": [],
   "source": [
    "#Create a function to create generate \"Female\"/\"Male\" to indicate gender based on a given probability:\n",
    "def calgender(femalepercent,samplenum):\n",
    "    newvals = np.random.choice([\"Female\", \"Male\"], \n",
    "                               samplenum,p = [femalepercent/100, (1 -femalepercent/100)])\n",
    "    return newvals"
   ]
  },
  {
   "cell_type": "markdown",
   "metadata": {},
   "source": [
    "3.5.1 Create an array gender1 for gender of Lone Parents:"
   ]
  },
  {
   "cell_type": "code",
   "execution_count": 6,
   "metadata": {},
   "outputs": [],
   "source": [
    "# female = 90%\n",
    "gender1 = calgender(90, sample1)"
   ]
  },
  {
   "cell_type": "markdown",
   "metadata": {},
   "source": [
    "Plot the gender array for Lone Parents:"
   ]
  },
  {
   "cell_type": "code",
   "execution_count": 7,
   "metadata": {},
   "outputs": [
    {
     "data": {
      "image/png": "[encoded data removed]",
      "text/plain": [
       "<Figure size 432x288 with 1 Axes>"
      ]
     },
     "metadata": {
      "needs_background": "light"
     },
     "output_type": "display_data"
    }
   ],
   "source": [
    " \n",
    "# plot a histogram of array gender\n",
    "plt.hist(gender1)\n",
    "# display the histogram \n",
    "plt.show()"
   ]
  },
  {
   "cell_type": "markdown",
   "metadata": {},
   "source": [
    "3.5.2 Create an array gender2 for gender of 2 Adults with 1 - 2 Children & Other Households (same probability so one array will do):"
   ]
  },
  {
   "cell_type": "code",
   "execution_count": 8,
   "metadata": {},
   "outputs": [],
   "source": [
    "# female = 50%\n",
    "gender2 = calgender(50, (sample1+sample2))"
   ]
  },
  {
   "cell_type": "markdown",
   "metadata": {},
   "source": [
    "Plot the gender array for Lone Parents:"
   ]
  },
  {
   "cell_type": "code",
   "execution_count": 9,
   "metadata": {},
   "outputs": [
    {
     "data": {
      "image/png": "[encoded data removed]",
      "text/plain": [
       "<Figure size 432x288 with 1 Axes>"
      ]
     },
     "metadata": {
      "needs_background": "light"
     },
     "output_type": "display_data"
    }
   ],
   "source": [
    "# plot a histogram of array gender\n",
    "plt.hist(gender2)\n",
    "# display the histogram \n",
    "plt.show()"
   ]
  },
  {
   "cell_type": "markdown",
   "metadata": {},
   "source": [
    "Create one array gender to represent gender for entire sample:"
   ]
  },
  {
   "cell_type": "code",
   "execution_count": 10,
   "metadata": {},
   "outputs": [],
   "source": [
    "gender = np.concatenate([gender1,gender2])"
   ]
  },
  {
   "cell_type": "code",
   "execution_count": 11,
   "metadata": {},
   "outputs": [
    {
     "data": {
      "image/png": "[encoded data removed]",
      "text/plain": [
       "<Figure size 432x288 with 1 Axes>"
      ]
     },
     "metadata": {
      "needs_background": "light"
     },
     "output_type": "display_data"
    }
   ],
   "source": [
    "\n",
    "#135.34,244.50,232.66\n",
    "\n",
    "def calhousingex(x,mu, num):\n",
    "    newvals = np.random.normal(x,mu, size = num)\n",
    "    return newvals\n",
    "\n",
    "housing1 =calhousingex(135.34, 135.34/3,sample1)\n",
    "housing2 =calhousingex(244.50,244.50/3, sample2)\n",
    "housing3 =calhousingex(244.50,232.66/3, sample3)\n",
    "\n",
    "housing = np.concatenate([housing1,housing2,housing3])\n",
    "\n",
    "housing\n",
    "\n",
    "# plot a histogram of array x \n",
    "plt.hist(housing3)\n",
    "# display the histogram \n",
    "plt.show()"
   ]
  },
  {
   "cell_type": "code",
   "execution_count": null,
   "metadata": {},
   "outputs": [],
   "source": []
  },
  {
   "cell_type": "markdown",
   "metadata": {},
   "source": []
  },
  {
   "cell_type": "markdown",
   "metadata": {},
   "source": [
    "### 3.5 EMPLOYMENT"
   ]
  },
  {
   "cell_type": "markdown",
   "metadata": {},
   "source": [
    "Create an array to with 1000 elements to represent whether an individual is in paid employed or not."
   ]
  },
  {
   "cell_type": "markdown",
   "metadata": {},
   "source": [
    "First create function to randomly generate employed Yes/No based on probabilities dependant on the family composition:"
   ]
  },
  {
   "cell_type": "code",
   "execution_count": 12,
   "metadata": {},
   "outputs": [],
   "source": [
    "#Create a function to create generate random \"Yes\"/\"No\" to indicate employed yes /no based on a given probability:\n",
    "def calemployed(employpercent,samplenum):\n",
    "    newvals = np.random.choice([\"Yes\", \"No\"], \n",
    "                               samplenum,p = [employpercent/100, (1 -employpercent/100)])\n",
    "    return newvals"
   ]
  },
  {
   "cell_type": "markdown",
   "metadata": {},
   "source": [
    "Create an array employed1 to represent lone parents in employment or not and array employed2 to represent all other parents."
   ]
  },
  {
   "cell_type": "code",
   "execution_count": 13,
   "metadata": {},
   "outputs": [],
   "source": [
    "#Create an array with Yes/No values using function calemployed for individuals in Lone Parent families with probability of employed at 58.4:\n",
    "employed1 = calemployed(58.4, sample1)"
   ]
  },
  {
   "cell_type": "code",
   "execution_count": 14,
   "metadata": {},
   "outputs": [],
   "source": [
    "#Create an array for the adult members of couples with children with a probability of employed at 76%\n",
    "employed2 = calemployed(73.9, sample2+sample3)"
   ]
  },
  {
   "cell_type": "code",
   "execution_count": 15,
   "metadata": {},
   "outputs": [
    {
     "data": {
      "text/plain": [
       "1000"
      ]
     },
     "execution_count": 15,
     "metadata": {},
     "output_type": "execute_result"
    }
   ],
   "source": [
    "# Concatentate both arrays to create one array for all indivdiauls.\n",
    "employed = np.concatenate([employed1,employed2])\n",
    "# check the number created = 1000\n",
    "len(employed)"
   ]
  },
  {
   "cell_type": "markdown",
   "metadata": {},
   "source": [
    "### 3.6  DISPOSABLE INCOME ARRAY"
   ]
  },
  {
   "cell_type": "code",
   "execution_count": 16,
   "metadata": {},
   "outputs": [],
   "source": [
    "# Create a function to generate the disposable income distribution for each group\n",
    "def caldincome(x, num):\n",
    "    newvals = np.random.normal(x, 195, size = num)\n",
    "    return newvals"
   ]
  },
  {
   "cell_type": "code",
   "execution_count": 17,
   "metadata": {},
   "outputs": [
    {
     "data": {
      "image/png": "[encoded data removed]",
      "text/plain": [
       "<Figure size 432x288 with 1 Axes>"
      ]
     },
     "metadata": {
      "needs_background": "light"
     },
     "output_type": "display_data"
    }
   ],
   "source": [
    "# Generate disposable income distribution for 1 adult, with children under 18 years\n",
    "Adult1withC = caldincome(350, sample1)\n",
    "# plot a histogram of array x \n",
    "plt.hist(Adult1withC)\n",
    "# display the histogram \n",
    "plt.show()"
   ]
  },
  {
   "cell_type": "code",
   "execution_count": 18,
   "metadata": {},
   "outputs": [
    {
     "data": {
      "image/png": "[encoded data removed]",
      "text/plain": [
       "<Figure size 432x288 with 1 Axes>"
      ]
     },
     "metadata": {
      "needs_background": "light"
     },
     "output_type": "display_data"
    }
   ],
   "source": [
    "Adults2withC = caldincome(517.67, sample2)\n",
    "# plot a histogram of array x \n",
    "plt.hist(Adults2withC)\n",
    "# display the histogram \n",
    "plt.show()"
   ]
  },
  {
   "cell_type": "code",
   "execution_count": 19,
   "metadata": {},
   "outputs": [
    {
     "data": {
      "image/png": "[encoded data removed]",
      "text/plain": [
       "<Figure size 432x288 with 1 Axes>"
      ]
     },
     "metadata": {
      "needs_background": "light"
     },
     "output_type": "display_data"
    }
   ],
   "source": [
    "Other = caldincome(455.75, sample3)\n",
    "# plot a histogram of array x \n",
    "plt.hist(Other)\n",
    "# display the histogram \n",
    "plt.show()"
   ]
  },
  {
   "cell_type": "code",
   "execution_count": 20,
   "metadata": {},
   "outputs": [
    {
     "data": {
      "text/plain": [
       "1000"
      ]
     },
     "execution_count": 20,
     "metadata": {},
     "output_type": "execute_result"
    }
   ],
   "source": [
    "#Create an array disincome to hold all of the disposable income data generated.\n",
    "disincome = np.concatenate([Adult1withC ,Adults2withC,Other])\n",
    "#Check there are 1000 samples.                \n",
    "len(disincome)"
   ]
  },
  {
   "cell_type": "code",
   "execution_count": 21,
   "metadata": {},
   "outputs": [
    {
     "data": {
      "image/png": "[encoded data removed]",
      "text/plain": [
       "<Figure size 432x288 with 1 Axes>"
      ]
     },
     "metadata": {
      "needs_background": "light"
     },
     "output_type": "display_data"
    }
   ],
   "source": [
    "# plot a histogram of array x \n",
    "plt.hist(disincome)\n",
    "# display the histogram \n",
    "plt.show()"
   ]
  },
  {
   "cell_type": "markdown",
   "metadata": {},
   "source": [
    "### 3.6 DEPRIVATION ARRAY"
   ]
  },
  {
   "cell_type": "code",
   "execution_count": 22,
   "metadata": {},
   "outputs": [],
   "source": [
    "# Create a function to randomly generate array representing deprivation for each group\n",
    "#with Yes/No based on samplesize & probability.\n",
    "def caldeprivation(samplesize, x):\n",
    "    newvalues  = np.random.choice([\"Yes\",\"No\"], size = samplesize, p=x)\n",
    "    return newvalues"
   ]
  },
  {
   "cell_type": "code",
   "execution_count": 23,
   "metadata": {},
   "outputs": [],
   "source": [
    "# Generate an array for those living in a household \n",
    "# with one adult and one or more children aged under 18 with  42.7% deprived = \"Yes\"\n",
    " \n",
    "dep1 = caldeprivation(250, [0.427, 0.573])\n",
    " "
   ]
  },
  {
   "cell_type": "code",
   "execution_count": 24,
   "metadata": {},
   "outputs": [],
   "source": [
    "##### Generate an array for those living in a household \n",
    "#2 adults, with 1-3 children under 18 years with a deprivaton rate of 14.3\n",
    "dep2 = caldeprivation(500, [0.143, 0.857])"
   ]
  },
  {
   "cell_type": "code",
   "execution_count": 25,
   "metadata": {},
   "outputs": [],
   "source": [
    "# Generate an array for those living in a household \n",
    "# Other households with children under 18 years with a deprivation rate of 15.9.\n",
    "dep3 = caldeprivation(250, [0.159, 0.841])\n"
   ]
  },
  {
   "cell_type": "code",
   "execution_count": 26,
   "metadata": {},
   "outputs": [
    {
     "data": {
      "text/plain": [
       "1000"
      ]
     },
     "execution_count": 26,
     "metadata": {},
     "output_type": "execute_result"
    }
   ],
   "source": [
    "#Create an array deprived to hold all of the deprived yes/no  data generated.\n",
    "deprived = np.concatenate([dep1, dep2, dep3])\n",
    "#Check there are 1000 samples.                \n",
    "len(deprived)"
   ]
  },
  {
   "cell_type": "markdown",
   "metadata": {},
   "source": [
    "### 3.7 CREATE QUINTILES BASED ON DECILES:"
   ]
  },
  {
   "cell_type": "code",
   "execution_count": 27,
   "metadata": {},
   "outputs": [
    {
     "name": "stdout",
     "output_type": "stream",
     "text": [
      "[289.24, 387.17, 493.84, 682.02, 840.91]\n"
     ]
    }
   ],
   "source": [
    "# Use deciles from CSO (2019e) see section 2.8\n",
    "deciles = (237.79, 289.24,340.48,387.17, 437.75,493.84, 568.32,682.02,840.91, 840.91)\n",
    "# create qunitiles array as empty array.\n",
    "quintiles = []\n",
    "# initialize i with value 1\n",
    "i = 1\n",
    "#loop while i is less than the length of array deciles.\n",
    "while i < len(deciles):\n",
    "    # set q equal to the ith value of array decile\n",
    "    q = deciles[i] \n",
    "    # append q to array quintiles \n",
    "    quintiles.append(q)\n",
    "    # get second next ith value  \n",
    "    i = i+2\n",
    "# print the array quntiles.\n",
    "print(quintiles)"
   ]
  },
  {
   "cell_type": "markdown",
   "metadata": {},
   "source": [
    "### 3.8 CREATE QUINTILES BASED ON DECILES:"
   ]
  },
  {
   "cell_type": "code",
   "execution_count": null,
   "metadata": {},
   "outputs": [],
   "source": []
  },
  {
   "cell_type": "code",
   "execution_count": null,
   "metadata": {},
   "outputs": [],
   "source": []
  },
  {
   "cell_type": "code",
   "execution_count": null,
   "metadata": {},
   "outputs": [],
   "source": []
  },
  {
   "cell_type": "markdown",
   "metadata": {},
   "source": [
    "\n",
    "\n"
   ]
  },
  {
   "cell_type": "markdown",
   "metadata": {},
   "source": [
    "## 4. DATASET CREATION:"
   ]
  },
  {
   "cell_type": "markdown",
   "metadata": {},
   "source": [
    "### 4.1 Create the initial Dataset:"
   ]
  },
  {
   "cell_type": "code",
   "execution_count": 28,
   "metadata": {},
   "outputs": [],
   "source": [
    "# Create a pandas dataset called df \n",
    "df=pd.DataFrame(data=\n",
    "                {# Create a column Disincome with values from array disincome\n",
    "                 'Family': families,\n",
    "                 # Create a column Gender with values from array gender\n",
    "                 'Gender': gender,\n",
    "                 # Create a column Disincome with values from array disincome\n",
    "                 #Create a column Employed with values from array employed\n",
    "                 'Employed': employed,\n",
    "                 'DisIncome': disincome, \n",
    "                 # Create a column Deprived with values from array deprived\n",
    "                 'Deprived': deprived, \n",
    "                 # Create a column to represent At Risk Poverty poverty \n",
    "                 #and set initial value to \"No\" See 4.2 below for logic to update.\n",
    "                 \"At Risk of Poverty\": \"No\",\n",
    "                 # Create a column to represent consistent poverty \n",
    "                 #and set initial value to \"No\" See 4.3 below for logic to update.\n",
    "                 \"Consistent Poverty\": \"No\"\n",
    "                 })"
   ]
  },
  {
   "cell_type": "markdown",
   "metadata": {},
   "source": [
    "### 4.2 Update \"At Risk of Poverty\": \n",
    "\n",
    "At risk of poverty means having an income less than 60% of the national median disposable income. The median income for 2018 was calucated as 22872 pa (CSO, 2018).  \n",
    "Calculte 60% of the median weekly disposable income:"
   ]
  },
  {
   "cell_type": "code",
   "execution_count": 29,
   "metadata": {},
   "outputs": [
    {
     "name": "stdout",
     "output_type": "stream",
     "text": [
      "263.9076923076923\n"
     ]
    }
   ],
   "source": [
    "Atriskamt = (22872/52)*.6 \n",
    "print(Atriskamt)"
   ]
  },
  {
   "cell_type": "code",
   "execution_count": 30,
   "metadata": {},
   "outputs": [],
   "source": [
    "#Update column \"At Risk of Poverty\", \n",
    "#setting value = \"Yes\" where Disincome is less than 60% of national median disposable income (Atriskamt)\n",
    "#Set \"At Risk of Poverty\" = \"Yes\" if weekly disposable income < weekly median income (439)\n",
    "df.loc[df['DisIncome'] < Atriskamt, \"At Risk of Poverty\"] = \"Yes\"\n",
    "#df[\"At Risk of Poverty\"] "
   ]
  },
  {
   "cell_type": "markdown",
   "metadata": {},
   "source": [
    "Plot the At Risk of Poverty by Household Composition:"
   ]
  },
  {
   "cell_type": "code",
   "execution_count": 31,
   "metadata": {},
   "outputs": [
    {
     "data": {
      "text/plain": [
       "<Figure size 432x288 with 0 Axes>"
      ]
     },
     "metadata": {},
     "output_type": "display_data"
    },
    {
     "data": {
      "image/png": "[encoded data removed]",
      "text/plain": [
       "<Figure size 953.8x432 with 1 Axes>"
      ]
     },
     "metadata": {
      "needs_background": "light"
     },
     "output_type": "display_data"
    }
   ],
   "source": [
    "# Plot the At Risk of poverty by household composition:\n",
    "fig = plt.figure()\n",
    "# Adapted from https://seaborn.pydata.org/generated/seaborn.catplot.html\n",
    "g = sns.catplot (x=\"Family\", hue=\"At Risk of Poverty\", kind=\"count\",\n",
    "            palette=\"pastel\", edgecolor=\".4\",  height=6, aspect=2,\n",
    "            data=df)\n",
    "#Adding a title at the figure level\n",
    "fig.suptitle(\"Families at Risk of Poverty.\", fontsize = 20)\n",
    "# display the plot\n",
    "plt.show()\n",
    "\n",
    "#Acording to CSO(2018), the ‘at risk of poverty’ rate for households \n",
    "#with one adult and one or more children aged under 18 was 33.5 in 2018. \n",
    "#This is compared to an at risk of poverty rate of 9.9% \n",
    "#for two-parent households with 1- 3 children and at an at risk of 15.5 for others. \n",
    "#This means that lone parents are almost 3.5 times as likely to be at risk of poverty compared to households with two parents.\n"
   ]
  },
  {
   "cell_type": "markdown",
   "metadata": {},
   "source": [
    "Check the percentages and then readjust std deviation if percentages are aligned to CSO(2018) 'At Risk of Poverty 'rate :\n",
    "1. with one adult and one or more children aged under 18 was 33.5%  \n",
    "2. two-parent households with 1- 3 children of poverty rate of 9.9% \n",
    "3. for Other 2 Adult Households an at risk of 15.5%.  \n",
    "A standard deviation of 185 yields the closest result."
   ]
  },
  {
   "cell_type": "code",
   "execution_count": 32,
   "metadata": {},
   "outputs": [
    {
     "name": "stdout",
     "output_type": "stream",
     "text": [
      "Family                0.296\n",
      "Gender                0.296\n",
      "Employed              0.296\n",
      "DisIncome             0.296\n",
      "Deprived              0.296\n",
      "At Risk of Poverty    0.296\n",
      "Consistent Poverty    0.296\n",
      "dtype: float64\n",
      "Family                0.1\n",
      "Gender                0.1\n",
      "Employed              0.1\n",
      "DisIncome             0.1\n",
      "Deprived              0.1\n",
      "At Risk of Poverty    0.1\n",
      "Consistent Poverty    0.1\n",
      "dtype: float64\n",
      "Family                0.132\n",
      "Gender                0.132\n",
      "Employed              0.132\n",
      "DisIncome             0.132\n",
      "Deprived              0.132\n",
      "At Risk of Poverty    0.132\n",
      "Consistent Poverty    0.132\n",
      "dtype: float64\n"
     ]
    }
   ],
   "source": [
    "\n",
    "\n",
    "#(df.loc[df.loc[:,\"Family\"]== \"2 Adults with 1-2 Children\"]).count()\n",
    "#https://stackoverflow.com/questions/17071871/how-to-select-rows-from-a-dataframe-based-on-column-values\n",
    "print(((df.loc[(df['Family'] == \"Lone Parent Family\") \n",
    "        & (df['At Risk of Poverty'] == \"Yes\")]).count())/250)\n",
    "\n",
    "print(((df.loc[(df['Family'] == \"2 Adults with 1-2 Children\")\n",
    "        & (df['At Risk of Poverty'] == \"Yes\")]).count())/500)\n",
    "print(((df.loc[(df['Family'] == \"Other 2 Adult Households\")\n",
    "        & (df['At Risk of Poverty'] == \"Yes\")]).count())/250)\n"
   ]
  },
  {
   "cell_type": "markdown",
   "metadata": {},
   "source": [
    "### 4.3 Update \"Consistent Poverty\" :"
   ]
  },
  {
   "cell_type": "code",
   "execution_count": 33,
   "metadata": {},
   "outputs": [
    {
     "name": "stdout",
     "output_type": "stream",
     "text": [
      "Family                0.108\n",
      "Gender                0.108\n",
      "Employed              0.108\n",
      "DisIncome             0.108\n",
      "Deprived              0.108\n",
      "At Risk of Poverty    0.108\n",
      "Consistent Poverty    0.108\n",
      "dtype: float64\n",
      "Family                0.014\n",
      "Gender                0.014\n",
      "Employed              0.014\n",
      "DisIncome             0.014\n",
      "Deprived              0.014\n",
      "At Risk of Poverty    0.014\n",
      "Consistent Poverty    0.014\n",
      "dtype: float64\n",
      "Family                0.024\n",
      "Gender                0.024\n",
      "Employed              0.024\n",
      "DisIncome             0.024\n",
      "Deprived              0.024\n",
      "At Risk of Poverty    0.024\n",
      "Consistent Poverty    0.024\n",
      "dtype: float64\n"
     ]
    }
   ],
   "source": [
    "df.loc[(df['DisIncome'] < Atriskamt) & (df['Deprived'] == \"Yes\"), [\"Consistent Poverty\"]] = \"Yes\"\n",
    "#df1.loc[df1['stream'] == 2, ['feat','another_feat']] = 'aaaa'\n",
    "\n",
    "#print(df['DisIncome'] < Atriskamt) & (df['Deprived'] == \"Yes\")\n",
    "\n",
    "#(df.loc[df.loc[:,\"Family\"]== \"2 Adults with 1-2 Children\"]).count()\n",
    "#https://stackoverflow.com/questions/17071871/how-to-select-rows-from-a-dataframe-based-on-column-values\n",
    "print(((df.loc[(df['Family'] == \"Lone Parent Family\") \n",
    "        & (df['Consistent Poverty'] == \"Yes\")]).count())/250)\n",
    "\n",
    "print(((df.loc[(df['Family'] == \"2 Adults with 1-2 Children\")\n",
    "        & (df['Consistent Poverty'] == \"Yes\")]).count())/500)\n",
    "print(((df.loc[(df['Family'] == \"Other 2 Adult Households\")\n",
    "        & (df['Consistent Poverty'] == \"Yes\")]).count())/250)\n",
    "       "
   ]
  },
  {
   "cell_type": "code",
   "execution_count": 34,
   "metadata": {},
   "outputs": [
    {
     "data": {
      "text/plain": [
       "<Figure size 432x288 with 0 Axes>"
      ]
     },
     "metadata": {},
     "output_type": "display_data"
    },
    {
     "data": {
      "image/png": "[encoded data removed]",
      "text/plain": [
       "<Figure size 958.175x432 with 1 Axes>"
      ]
     },
     "metadata": {
      "needs_background": "light"
     },
     "output_type": "display_data"
    }
   ],
   "source": [
    "# Plot the Consistent Poverty by household composition:\n",
    "fig = plt.figure()\n",
    "# Adapted from https://seaborn.pydata.org/generated/seaborn.catplot.html\n",
    "g = sns.catplot (x=\"Family\", hue=\"Consistent Poverty\", kind=\"count\",\n",
    "            palette=\"pastel\", edgecolor=\".4\",  height=6, aspect=2,\n",
    "            data=df)\n",
    "#Adding a title at the figure level\n",
    "fig.suptitle(\"Individuals in Families in Consistent Poverty.\", fontsize = 20)\n",
    "# display the plot\n",
    "plt.show()"
   ]
  },
  {
   "cell_type": "markdown",
   "metadata": {},
   "source": [
    "Check the results are sufficently near the original stats:\n",
    "Individuals living in households with one adult and one or more children aged under 18 Consistent Poverty =  **19.2%**.  \n",
    "Individuals living in households with 2 adults, with 1-3 children under 18 years 18 Consistent Poverty **5%**    Individuals living in  Other households with children under 18 years =  **4.5%**.  \n"
   ]
  },
  {
   "cell_type": "code",
   "execution_count": 35,
   "metadata": {},
   "outputs": [
    {
     "name": "stdout",
     "output_type": "stream",
     "text": [
      "Family                0.108\n",
      "Gender                0.108\n",
      "Employed              0.108\n",
      "DisIncome             0.108\n",
      "Deprived              0.108\n",
      "At Risk of Poverty    0.108\n",
      "Consistent Poverty    0.108\n",
      "dtype: float64\n",
      "Family                0.014\n",
      "Gender                0.014\n",
      "Employed              0.014\n",
      "DisIncome             0.014\n",
      "Deprived              0.014\n",
      "At Risk of Poverty    0.014\n",
      "Consistent Poverty    0.014\n",
      "dtype: float64\n",
      "Family                0.024\n",
      "Gender                0.024\n",
      "Employed              0.024\n",
      "DisIncome             0.024\n",
      "Deprived              0.024\n",
      "At Risk of Poverty    0.024\n",
      "Consistent Poverty    0.024\n",
      "dtype: float64\n"
     ]
    }
   ],
   "source": [
    "#https://stackoverflow.com/questions/17071871/how-to-select-rows-from-a-dataframe-based-on-column-values\n",
    "print(((df.loc[(df['Family'] == \"Lone Parent Family\") \n",
    "        & (df['Consistent Poverty'] == \"Yes\")]).count())/250)\n",
    "print(((df.loc[(df['Family'] == \"2 Adults with 1-2 Children\") \n",
    "        & (df['Consistent Poverty'] == \"Yes\")]).count())/500)\n",
    "print(((df.loc[(df['Family'] == \"Other 2 Adult Households\") \n",
    "        & (df['Consistent Poverty'] == \"Yes\")]).count())/250)\n"
   ]
  },
  {
   "cell_type": "markdown",
   "metadata": {},
   "source": [
    "### 4.4 UPDATE WORD DEPRIVATION:"
   ]
  },
  {
   "cell_type": "markdown",
   "metadata": {},
   "source": [
    "First create a function to list all of the indexes in the df which are particular quintile:"
   ]
  },
  {
   "cell_type": "code",
   "execution_count": 55,
   "metadata": {},
   "outputs": [
    {
     "name": "stdout",
     "output_type": "stream",
     "text": [
      "Int64Index([  1,   2,   3,   9,  11,  14,  18,  25,  28,  33,\n",
      "            ...\n",
      "            938, 943, 954, 959, 961, 978, 983, 986, 993, 998],\n",
      "           dtype='int64', length=188)\n",
      "188\n",
      "170\n",
      "194\n",
      "310\n",
      "30\n"
     ]
    }
   ],
   "source": [
    "#create a function calindexquintile to create arrays containing\n",
    "#all of the indexes in the df which are in the quintile\n",
    "def calindexquintile(x,y):\n",
    "    # array arr1 is all of the df DisIncome values greater than  or equal to x and less than y\n",
    "    arr1 = df.index[(df['DisIncome'] >= x) & (df['DisIncome'] <y)]\n",
    "    # return the arr1.\n",
    "    return arr1\n",
    " \n",
    "\n",
    "# set indexquin1 to be all the index values where DisIncome is within quintile 1 \n",
    "indexquin1 = calindexquintile(-10000,quintiles[0])\n",
    "print(indexquin1)\n",
    "print(len(indexquin1))\n",
    "# set indexquin2 to be all the index values where DisIncome is within quintile 1 \n",
    "indexquin2 =calindexquintile(quintiles[0],quintiles[1])\n",
    "print(len(indexquin2))\n",
    "# set indexquin1 to be all the index values where DisIncome is within quintile 1 \n",
    "indexquin3 =calindexquintile(quintiles[1],quintiles[2])\n",
    "print(len(indexquin3))\n",
    "indexquin4 = calindexquintile(quintiles[2],quintiles[3])\n",
    "print(len(indexquin4))\n",
    "# use separate logic for indexquin5 as these indexs will not be within a range just greater than last quintile.\n",
    "indexquin5 =  df.index[(df['DisIncome'] >= quintiles[4])]\n",
    "print(len(indexquin5))\n"
   ]
  },
  {
   "cell_type": "markdown",
   "metadata": {},
   "source": [
    "## References:"
   ]
  },
  {
   "cell_type": "markdown",
   "metadata": {},
   "source": [
    "Haase, T.  & Pratschke, J. (2016)\n",
    "The 2016 Pobal HP Deprivation Index for Small Areas (SA)\n",
    "https://www.pobal.ie/app/uploads/2018/06/The-2016-Pobal-HP-Deprivation-Index-Introduction-07.pdf\n",
    "\n",
    "Grotti R., Maître B., Watson D., & Whelan, C.T. (2017) **Technical paper on\n",
    "Poverty Transitions in Ireland: An Analysis of the Longitudinal Central Statistics Office (CSO) Survey on Income and Living Conditions (SILC), 2004 - 2015**, Department of Social Protection\n",
    "https://www.esri.ie/system/files/media/file-uploads/2017-12/BKMNEXT344.pdf\n",
    "\n",
    "CSO (2016) Census 2016 Summary Results - Part 2\n",
    "Appendix 10: List of unemployment blackspots\n",
    "https://www.cso.ie/en/media/csoie/newsevents/documents/census2016summaryresultspart2/Census_2016_Summary_Results_–_Part_2.pdf\n",
    "\n",
    "CSO (2018)\n",
    "https://www.cso.ie/en/releasesandpublications/ep/p-silc/surveyonincomeandlivingconditionssilc2018/povertyanddeprivation/\n",
    "\n",
    "CSO (2019) HOME / STATISTICS\n",
    "Population estimates by age group and sex\n",
    "https://statbank.cso.ie/multiquicktables/quickTables.aspx?id=pea01\n",
    "\n",
    "\n",
    "https://www.pobal.ie/app/uploads/2018/06/The-2016-Pobal-HP-Deprivation-Index-Introduction-07.pdf\n",
    "\n",
    "maps.pobal.ie\n",
    "\n",
    "https://www.tasc.ie/assets/files/pdf/the_distribution_of_wealth_in_ireland_final.pdf\n",
    "\n",
    "CSO (2019) SIA49: Poverty Rates by Household Composition, Year and Statistic\n",
    "https://statbank.cso.ie/px/pxeirestat/Statire/SelectVarVal/Define.asp?maintable=SIA49&PLanguage=0\n",
    "\n",
    "\n",
    "CSO (2019e), Survey on Income and Living Conditions (SILC) 2018 Table 2.4 Average weekly equivalised income by net disposable equivalised income deciles and composition of net equivalised disposable income, 2018\n",
    "https://www.cso.ie/en/releasesandpublications/ep/p-silc/surveyonincomeandlivingconditionssilc2018/income/\n",
    "\n"
   ]
  },
  {
   "cell_type": "code",
   "execution_count": null,
   "metadata": {},
   "outputs": [],
   "source": []
  },
  {
   "cell_type": "code",
   "execution_count": null,
   "metadata": {},
   "outputs": [],
   "source": []
  }
 ],
 "metadata": {
  "kernelspec": {
   "display_name": "Python 3",
   "language": "python",
   "name": "python3"
  },
  "language_info": {
   "codemirror_mode": {
    "name": "ipython",
    "version": 3
   },
   "file_extension": ".py",
   "mimetype": "text/x-python",
   "name": "python",
   "nbconvert_exporter": "python",
   "pygments_lexer": "ipython3",
   "version": "3.7.2"
  }
 },
 "nbformat": 4,
 "nbformat_minor": 2
}
