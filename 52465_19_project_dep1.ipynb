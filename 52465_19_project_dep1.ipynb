{
 "cells": [
  {
   "cell_type": "markdown",
   "metadata": {},
   "source": [
    "# MODULE 52465 PROJECT\n",
    "## Fiona O'Riordan\n",
    "## Date 16th December 2019\n"
   ]
  },
  {
   "cell_type": "markdown",
   "metadata": {},
   "source": [
    "## 1. Introduction\n",
    "\n",
    "Project objective:\n",
    "1. Choose a real-world phenomenon that can be measured and for which you could collect at least one-hundred data points across at least four different variables.\n",
    "1. Investigate the types of variables involved, their likely distributions, and their relationships with each other.\n",
    "1. Synthesise/simulate a data set as closely matching their properties as possible.\n",
    "1. Detail your research and implement the simulation in a Jupyter notebook – the data set itself can simply be displayed in an output cell within the notebook.\n",
    "\n",
    "For this project, I will explore the phenomenona of life expectancy and the relationship between the variables location, age, gender, deprivation and house hold composition in Munster.\n",
    "\n",
    "\"After some online research, I find that full-time post-graduate students study on av- erage four hours per week with a standard deviation of a quarter of an hour and that a normal distribution is an acceptable model of such a variable. Likewise, I investigate the other four variables, and I also look at the relationships between the variables. I devise an algorithm (or method) to generate such a data set, simulating values of the four variables for two-hundred students. I detail all this work in my notebook, and then I add some code in to generate a data set with those properties.\"\n",
    "\n",
    "\n",
    "To begin with Research, then data generation using Numpy random, References.\n"
   ]
  },
  {
   "cell_type": "markdown",
   "metadata": {},
   "source": [
    "## 2. Research:"
   ]
  },
  {
   "cell_type": "markdown",
   "metadata": {},
   "source": [
    "### Overview: \n",
    "   \n",
    "\n",
    "### Munster Local Electoral Authorities (LEA) 2016:\n",
    "  \n",
    "Tipperary SR, Waterford City, County Waterford,Cork City,County Cork, Kerry, Clare, Limerick City, County Limerick Tipperary NR\n",
    "(CSO, 2016)\n",
    "\n",
    "\n",
    "### Munster LEA Population % 2016:\n",
    "Munster population by LEA's in 2016:  \n",
    "Tipperary SR, Waterford City, County Waterford,Cork City,County Cork, Kerry, Clare, Limerick City, County Limerick Tipperary NR  \n",
    "88,271 48,216 67,960 125,657, 417,211 147,707 118,817 58,259 136,640 71,282\n",
    "CSO, 2016\n",
    "https://www.pobal.ie/app/uploads/2018/06/The-2016-Pobal-HP-Deprivation-Index-Introduction-07.pdf\n",
    "\n",
    "\n",
    "### Gender: \n",
    "\n",
    "Female/Male =  51% / 49% (rounded)\n",
    "https://www.cso.ie/en/media/csoie/newsevents/documents/census2016summaryresultspart1/Presentation_Census_Summary_Results_Part_1.pdf\n",
    "\n",
    "### Age:\n",
    "Accordding to CSO Average Age = 36.4 years in 2016.\n",
    "https://www.cso.ie/en/media/csoie/newsevents/documents/census2016summaryresultspart1/Presentation_Census_Summary_Results_Part_1.pdf\n",
    "CSO (2016) Statbank E3001: Enumerated Population 1926 to 2016 by Age Group, Sex and CensusYear\n",
    "https://statbank.cso.ie/px/pxeirestat/Statire/SelectVarVal/Define.asp?maintable=E3001&PLanguage=0\n",
    "\n",
    "\n",
    "## Lone parent status by county 2016: \n",
    "Tipperary SR, Waterford City, County Waterford,Cork City,County Cork, Kerry, Clare, Limerick City, County Limerick Tipperary NR\n",
    "22.8  31.4  18.9  27.9  15.5  18.7  17.6  35.5  15.2  17.9  \n",
    "\n",
    " \n",
    "\n",
    "### Employment Status:\n",
    "\n",
    "\n",
    "\n",
    "\n",
    "### HP Deprivation Index Scores by LEA:\n",
    "The 2016 Pobal HP Deprivation Index for Small Areas (SA)\n",
    "https://www.pobal.ie/app/uploads/2018/06/The-2016-Pobal-HP-Deprivation-Index-Introduction-07.pdf\n",
    "Tipperary SR, Waterford City, County Waterford,Cork City,County Cork, Kerry, Clare, Limerick City, County Limerick Tipperary NR\n",
    " -3.8, -5.8, -1.3, -4.2, 2.6, -2.3, -.2, -7.4, 1.5\n",
    "\n",
    "\n"
   ]
  },
  {
   "cell_type": "markdown",
   "metadata": {},
   "source": [
    "## 3. Data Generation:"
   ]
  },
  {
   "cell_type": "code",
   "execution_count": 1,
   "metadata": {},
   "outputs": [],
   "source": [
    "import pandas as pd\n",
    "#import the NumPy library and name it np\n",
    "import numpy as np\n",
    "import matplotlib.pyplot as plt\n",
    "import seaborn as sns\n",
    "# Taken from : https://stackoverflow.com/a/47955814 \n",
    "# Adjusting the figure size of seaborn plots in this notebook\n",
    "sns.set(rc={'figure.figsize':(10,7)})\n",
    "# Taken from https://stackoverflow.com/questions/3899980/how-to-change-the-font-size-on-a-matplotlib-plot\n",
    "plt.rcParams.update({'font.size': 22})\n",
    "#dataset size\n",
    "samplesize = 1000"
   ]
  },
  {
   "cell_type": "code",
   "execution_count": null,
   "metadata": {},
   "outputs": [],
   "source": []
  },
  {
   "cell_type": "code",
   "execution_count": null,
   "metadata": {},
   "outputs": [],
   "source": []
  },
  {
   "cell_type": "markdown",
   "metadata": {},
   "source": [
    "### Location:\n"
   ]
  },
  {
   "cell_type": "code",
   "execution_count": 9,
   "metadata": {},
   "outputs": [
    {
     "name": "stdout",
     "output_type": "stream",
     "text": [
      "0    0.068961\n",
      "1    0.037668\n",
      "2    0.053093\n",
      "3    0.098168\n",
      "4    0.325941\n",
      "5    0.115394\n",
      "6    0.092824\n",
      "7    0.045514\n",
      "8    0.106748\n",
      "9    0.055688\n",
      "Name: perc, dtype: float64\n"
     ]
    }
   ],
   "source": [
    "# Calucate the percentage population by LEA in Munster:\n",
    "pop = [88271, 48216, 67960, 125657, 417211, 147707, 118817, 58259, 136640, 71282]\n",
    "LEA = [\"Tipperary SR\", \"Waterford City\", \"County Waterford\", \n",
    "       \"Cork City\", \"County Cork\", \"Kerry\", \"Clare\", \"Limerick City\", \"County Limerick\", \"Tipperary NR\"]\n",
    "df1 = pd.DataFrame({\"Pop\": pop, \"LEA\": LEA})\n",
    "\n",
    "df1['perc']= df1['Pop']/df1['Pop'].sum() \n",
    "\n",
    "print(df1['perc'])\n",
    "\n",
    "arr = df1['perc']"
   ]
  },
  {
   "cell_type": "code",
   "execution_count": 10,
   "metadata": {},
   "outputs": [],
   "source": [
    "location = np.random.choice(LEA, samplesize,p =df1['perc'])\n",
    "\n",
    "\n",
    "#np.random.choice(5, 3, replace=False, p=[0.1, 0, 0.3, 0.6, 0])\n",
    "#array([2, 3, 0])\n"
   ]
  },
  {
   "cell_type": "code",
   "execution_count": 11,
   "metadata": {},
   "outputs": [
    {
     "data": {
      "image/png": "[encoded data removed]",
      "text/plain": [
       "<Figure size 1008x576 with 1 Axes>"
      ]
     },
     "metadata": {},
     "output_type": "display_data"
    }
   ],
   "source": [
    "# plot a histogram of array location distribution.x \n",
    " \n",
    "\n",
    "plt.figure(figsize=(14,8), facecolor='w', edgecolor='k', clear='True')\n",
    "plt.hist(location, bins=8)\n",
    "plt.xlabel('location')\n",
    "# Adapted from https://stackoverflow.com/questions/42559206/how-to-rotate-axis-labels-when-using-a-matplotlib-histogram\n",
    "plt.xticks(rotation='vertical')\n",
    "plt.show()"
   ]
  },
  {
   "cell_type": "markdown",
   "metadata": {},
   "source": [
    "### Gender: "
   ]
  },
  {
   "cell_type": "code",
   "execution_count": 5,
   "metadata": {},
   "outputs": [],
   "source": [
    "# female = 51%, male = 49%\n",
    "gender_arr = ['female', 'male']\n",
    "gender = np.random.choice(gender_arr, samplesize, p=[0.51, 0.49])"
   ]
  },
  {
   "cell_type": "code",
   "execution_count": 6,
   "metadata": {},
   "outputs": [
    {
     "data": {
      "image/png": "[encoded data removed]",
      "text/plain": [
       "<Figure size 432x288 with 1 Axes>"
      ]
     },
     "metadata": {
      "needs_background": "light"
     },
     "output_type": "display_data"
    }
   ],
   "source": [
    "gender\n",
    "# plot a histogram of array gender\n",
    "plt.hist(gender)\n",
    "# display the histogram \n",
    "plt.show()\n",
    " \n"
   ]
  },
  {
   "cell_type": "markdown",
   "metadata": {},
   "source": [
    "### Age: "
   ]
  },
  {
   "cell_type": "markdown",
   "metadata": {},
   "source": [
    "#### CSO (2019)\n",
    "\n",
    "#Adapated from : https://stackoverflow.com/questions/36537811/numpy-trapezoidal-distribution-for-age-distribution\n"
   ]
  },
  {
   "cell_type": "code",
   "execution_count": 14,
   "metadata": {},
   "outputs": [
    {
     "data": {
      "image/png": "[encoded data removed]",
      "text/plain": [
       "<Figure size 432x288 with 1 Axes>"
      ]
     },
     "metadata": {
      "needs_background": "light"
     },
     "output_type": "display_data"
    }
   ],
   "source": [
    " \n",
    "under65 = np.random.uniform(low=0,high=50,size= 375)   \n",
    "over65 = np.random.triangular(left=50,mode=50,right=100,size=125)  \n",
    "             \n",
    "allages = np.concatenate((under65,over65))  \n",
    "\n",
    "    \n",
    "plt.hist(allages)\n",
    "plt.show()\n",
    "\n"
   ]
  },
  {
   "cell_type": "code",
   "execution_count": null,
   "metadata": {},
   "outputs": [],
   "source": [
    "Lone Parent:"
   ]
  },
  {
   "cell_type": "code",
   "execution_count": 12,
   "metadata": {},
   "outputs": [
    {
     "name": "stdout",
     "output_type": "stream",
     "text": [
      "0    0.102981\n",
      "1    0.141825\n",
      "2    0.085366\n",
      "3    0.126016\n",
      "4    0.070009\n",
      "5    0.084463\n",
      "6    0.079494\n",
      "7    0.160343\n",
      "8    0.068654\n",
      "9    0.080849\n",
      "Name: lonepercent, dtype: float64\n"
     ]
    }
   ],
   "source": [
    "#Lone Parent status by LEA.\n",
    "\n",
    "lonepercent = [22.8,  31.4,  18.9,  27.9,  15.5,  18.7,  17.6,  35.5,  15.2,  17.9]\n",
    "\n",
    "LEA = [\"Tipperary SR\", \"Waterford City\", \"County Waterford\", \n",
    "       \"Cork City\", \"County Cork\", \"Kerry\", \"Clare\", \"Limerick City\", \"County Limerick\", \"Tipperary NR\"]\n",
    "df1 = pd.DataFrame({\"lonepercent\": lonepercent, \"LEA\": LEA})\n",
    "\n",
    "df1['lonepercent']= df1['lonepercent']/df1['lonepercent'].sum() \n",
    "\n",
    "print(df1['lonepercent'])\n",
    "\n",
    "arr = df1['lonepercent']\n",
    "    \n",
    "\n"
   ]
  },
  {
   "cell_type": "markdown",
   "metadata": {},
   "source": [
    "### Dataframe Creation:"
   ]
  },
  {
   "cell_type": "code",
   "execution_count": null,
   "metadata": {},
   "outputs": [],
   "source": [
    "#Create dataframe with all the data randomly generated\n",
    "\n",
    "df=pd.DataFrame(data={'Household': household, 'Gender': gender})\n",
    "df\n",
    "# adatped from https://stackoverflow.com/questions/35277075/python-pandas-counting-the-occurrences-of-a-specific-value\n",
    "df.query('Household == \"Lone Parent\"').Household.count()"
   ]
  },
  {
   "cell_type": "markdown",
   "metadata": {},
   "source": [
    "## References:\n"
   ]
  },
  {
   "cell_type": "markdown",
   "metadata": {},
   "source": [
    "Haase, T.  & Pratschke, J. (2016)\n",
    "The 2016 Pobal HP Deprivation Index for Small Areas (SA)\n",
    "https://www.pobal.ie/app/uploads/2018/06/The-2016-Pobal-HP-Deprivation-Index-Introduction-07.pdf\n",
    "\n",
    "Grotti R., Maître B., Watson D., & Whelan, C.T. (2017) **Technical paper on\n",
    "Poverty Transitions in Ireland: An Analysis of the Longitudinal Central Statistics Office (CSO) Survey on Income and Living Conditions (SILC), 2004 - 2015**, Department of Social Protection\n",
    "https://www.esri.ie/system/files/media/file-uploads/2017-12/BKMNEXT344.pdf\n",
    "\n",
    "CSO (2018)\n",
    "https://www.cso.ie/en/releasesandpublications/ep/p-silc/surveyonincomeandlivingconditionssilc2018/povertyanddeprivation/\n",
    "\n",
    "CSO (2019) HOME / STATISTICS\n",
    "Population estimates by age group and sex\n",
    "https://statbank.cso.ie/multiquicktables/quickTables.aspx?id=pea01"
   ]
  },
  {
   "cell_type": "code",
   "execution_count": null,
   "metadata": {},
   "outputs": [],
   "source": []
  },
  {
   "cell_type": "code",
   "execution_count": null,
   "metadata": {},
   "outputs": [],
   "source": []
  }
 ],
 "metadata": {
  "kernelspec": {
   "display_name": "Python 3",
   "language": "python",
   "name": "python3"
  },
  "language_info": {
   "codemirror_mode": {
    "name": "ipython",
    "version": 3
   },
   "file_extension": ".py",
   "mimetype": "text/x-python",
   "name": "python",
   "nbconvert_exporter": "python",
   "pygments_lexer": "ipython3",
   "version": "3.7.2"
  }
 },
 "nbformat": 4,
 "nbformat_minor": 2
}
