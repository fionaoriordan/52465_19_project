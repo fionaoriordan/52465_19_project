{
 "cells": [
  {
   "cell_type": "markdown",
   "metadata": {},
   "source": [
    "# MODULE 52465 PROJECT\n",
    "## Fiona O'Riordan\n",
    "## Due Date 13th December 2019\n"
   ]
  },
  {
   "cell_type": "markdown",
   "metadata": {},
   "source": [
    "## 1. Introduction\n",
    "\n",
    "Project objective:\n",
    "1. Choose a real-world phenomenon that can be measured and for which you could collect at least one-hundred data points across at least four different variables.\n",
    "1. Investigate the types of variables involved, their likely distributions, and their relationships with each other.\n",
    "1. Synthesise/simulate a data set as closely matching their properties as possible.\n",
    "1. Detail your research and implement the simulation in a Jupyter notebook – the data set itself can simply be displayed in an output cell within the notebook.\n",
    "\n",
    "For this project, I will explore the phenomenon of poverty in Ireland amoung social risk groups. My project will focus on income and the influence of household composition, gender, disability status, age, geographical location, urban rural divide on deprivation.\n",
    "\n",
    "To begin with Research, then data generation using Numpy random, References.\n"
   ]
  },
  {
   "cell_type": "markdown",
   "metadata": {},
   "source": [
    "## 2. Research:"
   ]
  },
  {
   "attachments": {},
   "cell_type": "markdown",
   "metadata": {},
   "source": [
    "### Overview: \n",
    "According to the Grotti et al. (2017),  one third of lone parent families and one quarter of families headed by a disabled person were \"perisitently deprived\" in the period 2004 to 2015.   \n",
    "\n",
    "### Household Head:\n",
    "Grotti et al. (2017: Appendix Table A2.1: 57)\n",
    "Live alone 12%\n",
    "Live with partner 18%\n",
    "Live with own children 5%\n",
    "Live with partner and children 26%\n",
    "Live with parents 36%\n",
    "Live in Non family household 4%\n",
    "\n",
    "\n",
    "CSO(2018):\n",
    "1 adult aged 65+ =4.5  =   \n",
    "1 adult aged <65 = 5.5 =  \n",
    "2 adults, at least 1 aged 65 = 9  \n",
    "2 adults, both aged < 65 = 11.4 = \n",
    "3 or more adults = 15.8 = 5\n",
    "1 adult with children aged under 18\t= 5.4 = 6\n",
    "2 adults with 1-3 children aged under 18 = 31.4 = 7 \n",
    "Other households with children aged under 18 = 17 = 8\n",
    "\n",
    "\n",
    "\n",
    "\n",
    "Grotti et al. (2017), found that 90% of lone parent family heads are women.\n",
    "\n",
    "\n",
    "\n",
    "\n",
    "### Age: \n",
    "\n",
    "\n",
    "### Disability Status:\n",
    "Disabled / Non Disabled.\n",
    "\n",
    "### Gender: \n",
    "\n",
    "Female/Male =  51% / 49% \n",
    "\n",
    "### Deprivation:\n",
    "\n",
    "\n"
   ]
  },
  {
   "cell_type": "markdown",
   "metadata": {},
   "source": [
    "## 3. Data Generation:"
   ]
  },
  {
   "cell_type": "code",
   "execution_count": 7,
   "metadata": {},
   "outputs": [],
   "source": [
    "import pandas as pd\n",
    "#import the NumPy library and name it np\n",
    "import numpy as np\n",
    "import matplotlib.pyplot as plt\n",
    "import seaborn as sns\n",
    "# Taken from : https://stackoverflow.com/a/47955814 \n",
    "# Adjusting the figure size of seaborn plots in this notebook\n",
    "sns.set(rc={'figure.figsize':(10,7)})"
   ]
  },
  {
   "cell_type": "code",
   "execution_count": 10,
   "metadata": {},
   "outputs": [],
   "source": [
    "df = pd.DataFrame(columns = [\"Income\", \"Househead\", \"Disability\",\"Gender\", \"Age\", \"Deprivation\"])"
   ]
  },
  {
   "cell_type": "markdown",
   "metadata": {},
   "source": [
    "### Household Head\n"
   ]
  },
  {
   "cell_type": "code",
   "execution_count": 43,
   "metadata": {},
   "outputs": [],
   "source": [
    "###### household head array\n",
    "\n",
    "#1 adult aged 65+ =4.5  =  0 \n",
    "#1 adult aged <65 = 5.5 =  1\n",
    "#2 adults, at least 1 aged 65 = 9 =2  \n",
    "#2 adults, both aged < 65 = 11.4 = 3\n",
    "#3 or more adults = 15.8 = 5 = 4\n",
    "#1 adult with children aged under 18\t= 5.4 = 6 =5\n",
    "# 2 adults with 1-3 children aged under 18 = 31.4 = 7 = 6 \n",
    "# Other households with children aged under 18 = 17 = 8 =7\n",
    "hharr = ['LiveAlone', 'WithPartner', 'WithOwnChildren', 'WithPartnerChildren', 'WithParents', 'NonFamilyHH']\n",
    "househead = np.random.choice(8, 1000, p=[0.045, 0.055,0.09,0.114,0.158,0.054, 0.314,0.17])\n"
   ]
  },
  {
   "cell_type": "code",
   "execution_count": 42,
   "metadata": {},
   "outputs": [
    {
     "data": {
      "image/png": "[encoded data removed]",
      "text/plain": [
       "<Figure size 720x504 with 1 Axes>"
      ]
     },
     "metadata": {},
     "output_type": "display_data"
    }
   ],
   "source": [
    "# plot a histogram of array x \n",
    "plt.hist(househead)\n",
    "# display the histogram \n",
    "plt.show()"
   ]
  },
  {
   "cell_type": "code",
   "execution_count": null,
   "metadata": {},
   "outputs": [],
   "source": []
  },
  {
   "cell_type": "code",
   "execution_count": null,
   "metadata": {},
   "outputs": [],
   "source": []
  },
  {
   "cell_type": "markdown",
   "metadata": {},
   "source": [
    "### Disabled:"
   ]
  },
  {
   "cell_type": "code",
   "execution_count": null,
   "metadata": {},
   "outputs": [],
   "source": []
  },
  {
   "cell_type": "code",
   "execution_count": null,
   "metadata": {},
   "outputs": [],
   "source": []
  },
  {
   "cell_type": "markdown",
   "metadata": {},
   "source": [
    "### Gender: "
   ]
  },
  {
   "cell_type": "code",
   "execution_count": 12,
   "metadata": {},
   "outputs": [],
   "source": [
    "# female = 51%, male = 49%\n",
    "gender_arr = ['female', 'male']\n",
    "gender = np.random.choice(gender_arr, 500, p=[0.51, 0.49])"
   ]
  },
  {
   "cell_type": "code",
   "execution_count": 20,
   "metadata": {},
   "outputs": [
    {
     "data": {
      "image/png": "[encoded data removed]",
      "text/plain": [
       "<Figure size 720x504 with 1 Axes>"
      ]
     },
     "metadata": {},
     "output_type": "display_data"
    }
   ],
   "source": [
    "\n",
    "# plot a histogram of array x \n",
    "plt.hist(gender)\n",
    "# display the histogram \n",
    "plt.show()\n",
    "\n",
    " \n"
   ]
  },
  {
   "cell_type": "code",
   "execution_count": 18,
   "metadata": {},
   "outputs": [
    {
     "ename": "TypeError",
     "evalue": "distplot() got an unexpected keyword argument 'x'",
     "output_type": "error",
     "traceback": [
      "\u001b[0;31m---------------------------------------------------------------------------\u001b[0m",
      "\u001b[0;31mTypeError\u001b[0m                                 Traceback (most recent call last)",
      "\u001b[0;32m<ipython-input-18-93bb06888b0e>\u001b[0m in \u001b[0;36m<module>\u001b[0;34m\u001b[0m\n\u001b[0;32m----> 1\u001b[0;31m \u001b[0msns\u001b[0m\u001b[0;34m.\u001b[0m\u001b[0mdistplot\u001b[0m\u001b[0;34m(\u001b[0m\u001b[0mx\u001b[0m \u001b[0;34m=\u001b[0m \u001b[0mgender\u001b[0m\u001b[0;34m)\u001b[0m\u001b[0;34m\u001b[0m\u001b[0;34m\u001b[0m\u001b[0m\n\u001b[0m\u001b[1;32m      2\u001b[0m \u001b[0mplt\u001b[0m\u001b[0;34m.\u001b[0m\u001b[0mshow\u001b[0m\u001b[0;34m(\u001b[0m\u001b[0;34m)\u001b[0m\u001b[0;34m\u001b[0m\u001b[0;34m\u001b[0m\u001b[0m\n",
      "\u001b[0;31mTypeError\u001b[0m: distplot() got an unexpected keyword argument 'x'"
     ]
    }
   ],
   "source": []
  },
  {
   "cell_type": "code",
   "execution_count": null,
   "metadata": {},
   "outputs": [],
   "source": []
  },
  {
   "cell_type": "markdown",
   "metadata": {},
   "source": [
    "## Age: "
   ]
  },
  {
   "cell_type": "code",
   "execution_count": null,
   "metadata": {},
   "outputs": [],
   "source": []
  },
  {
   "cell_type": "markdown",
   "metadata": {},
   "source": [
    "## References:\n"
   ]
  },
  {
   "cell_type": "markdown",
   "metadata": {},
   "source": [
    "Grotti R., Maître B., Watson D., & Whelan, C.T. (2017) **Technical paper on\n",
    "Poverty Transitions in Ireland: An Analysis of the Longitudinal Central Statistics Office (CSO) Survey on Income and Living Conditions (SILC), 2004 - 2015**, Department of Social Protection\n",
    "https://www.esri.ie/system/files/media/file-uploads/2017-12/BKMNEXT344.pdf\n",
    "\n",
    "CSO (2018)\n",
    "https://www.cso.ie/en/releasesandpublications/ep/p-silc/surveyonincomeandlivingconditionssilc2018/povertyanddeprivation/"
   ]
  },
  {
   "cell_type": "code",
   "execution_count": null,
   "metadata": {},
   "outputs": [],
   "source": []
  },
  {
   "cell_type": "code",
   "execution_count": null,
   "metadata": {},
   "outputs": [],
   "source": []
  }
 ],
 "metadata": {
  "kernelspec": {
   "display_name": "Python 3",
   "language": "python",
   "name": "python3"
  },
  "language_info": {
   "codemirror_mode": {
    "name": "ipython",
    "version": 3
   },
   "file_extension": ".py",
   "mimetype": "text/x-python",
   "name": "python",
   "nbconvert_exporter": "python",
   "pygments_lexer": "ipython3",
   "version": "3.7.2"
  }
 },
 "nbformat": 4,
 "nbformat_minor": 2
}
