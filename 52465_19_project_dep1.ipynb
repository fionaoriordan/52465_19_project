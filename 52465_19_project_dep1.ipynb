{
 "cells": [
  {
   "cell_type": "markdown",
   "metadata": {},
   "source": [
    "# MODULE 52465 PROJECT\n",
    "## Fiona O'Riordan\n",
    "## Date 16th December 2019\n"
   ]
  },
  {
   "cell_type": "markdown",
   "metadata": {},
   "source": [
    "## 1. Introduction\n",
    "\n",
    "Project objective:\n",
    "1. Choose a real-world phenomenon that can be measured and for which you could collect at least one-hundred data points across at least four different variables.\n",
    "1. Investigate the types of variables involved, their likely distributions, and their relationships with each other.\n",
    "1. Synthesise/simulate a data set as closely matching their properties as possible.\n",
    "1. Detail your research and implement the simulation in a Jupyter notebook – the data set itself can simply be displayed in an output cell within the notebook.\n",
    "\n",
    "For this project, I will explore deprivation within families  with dependent children under 18 years as I am interested in social justice and policy. The project will examine the relationship between families household composition, gender of the lead family member, employment status and the risk of and impact on material deprivation.\n",
    "\n",
    "\"After some online research, I find that full-time post-graduate students study on av- erage four hours per week with a standard deviation of a quarter of an hour and that a normal distribution is an acceptable model of such a variable. Likewise, I investigate the other four variables, and I also look at the relationships between the variables. I devise an algorithm (or method) to generate such a data set, simulating values of the four variables for two-hundred students. I detail all this work in my notebook, and then I add some code in to generate a data set with those properties.\"\n",
    "\n",
    "\n",
    " \n"
   ]
  },
  {
   "cell_type": "markdown",
   "metadata": {},
   "source": [
    "## 2. Research:"
   ]
  },
  {
   "cell_type": "markdown",
   "metadata": {},
   "source": [
    "### 2.1 FAMILIES\n",
    "\n",
    "One in four Irish families with children are one-parent family (Census 2016).  \n",
    "ONE PARENT FAMILIES 218,817 ALL\n",
    "ONE PARENT FAMILIES 189,112 FEMALE \n",
    "ONE PARENT FAMILIES 29,705 MALES\n",
    "MARRIED COUPLES 568,317\n",
    "COUPLES 75,587\n",
    "(CSO 2016)"
   ]
  },
  {
   "cell_type": "markdown",
   "metadata": {},
   "source": [
    "### 2.2 GENDER"
   ]
  },
  {
   "cell_type": "markdown",
   "metadata": {},
   "source": [
    "\n",
    "According to the CSO (2018) 90% of lone parents are female. For the rest of the observations in this project we can assume a female/male ratio of 50/50 based on the fact that half the couples in a heterosexual relationship will be female and in the case of families with same sex parents we will assume a equal number of male couples and female couples exist."
   ]
  },
  {
   "cell_type": "markdown",
   "metadata": {},
   "source": [
    "### 2.3 EMPLOYEMENT"
   ]
  },
  {
   "cell_type": "markdown",
   "metadata": {},
   "source": [
    "The employment rate of lone parents was 58.5% (One Family, 2016) In contrast, for the adult members of couples with children employment rate was 76% (One Family, 2016)\n",
    "\n",
    "ONE FAMILY, 2016\n",
    "https://onefamily.ie/media-publications/facts-figures/"
   ]
  },
  {
   "cell_type": "markdown",
   "metadata": {},
   "source": [
    "### 2.4   EQUIVALISED MEAN NOMINAL DISPOSABLE INCOME:\n",
    " "
   ]
  },
  {
   "cell_type": "markdown",
   "metadata": {},
   "source": [
    "1 adult, with children under 18 years\n",
    "Mean Equivalised Nominal Disposable Income (Euro) = 18228\n",
    "Weekly = 18228/52 = 350.53\n",
    "\n",
    "2 adults, with 1-3 children under 18 years\n",
    "Mean Equivalised Nominal Disposable Income (Euro) = 26919\n",
    "Weekly = 26919/52 = 517.67\n",
    "\n",
    "Other households with children under 18 years\n",
    "Mean Equivalised Nominal Disposable Income (Euro) = 23699\n",
    "Weekly = 23699/52 = 455.75\n",
    "\n",
    "CSO(2018)\n",
    "Statbank"
   ]
  },
  {
   "cell_type": "markdown",
   "metadata": {},
   "source": [
    "### 2.4 AT RISK OF POVERTY"
   ]
  },
  {
   "cell_type": "markdown",
   "metadata": {},
   "source": [
    "At risk of poverty means having an income less than 60% of the national median income. The median income for 2018 was calucated as  22872 pa. (Weekly = 439)(CSO, 2018)\n",
    "https://www.cso.ie/en/releasesandpublications/ep/p-silc/surveyonincomeandlivingconditionssilc2018/\n",
    "\n",
    "Acording to CSO(2018), the ‘at risk of poverty’ rate for households with one adult and one or more children aged under 18 was 33.5  in 2018. This is compared to an at risk of poverty rate of 9.9% for two-parent households with 1- 3 children and at an at risk of 15.5 for others.  This means that lone parents are almost 3.5 times as likely to be at risk of poverty compared to households with two parents."
   ]
  },
  {
   "cell_type": "markdown",
   "metadata": {},
   "source": [
    "### 2.5 DEPRIVATION "
   ]
  },
  {
   "cell_type": "markdown",
   "metadata": {},
   "source": [
    "Deprivation is the inability to afford at least two of thesebasic necessities, such as going 24 hours without a substantial meal or being cold because parents are unable to afford to heat the home.Individuals who experience two or more of the eleven listed items are considered to be experiencing enforced deprivation.\n",
    "\n",
    "Two pairs of strong shoes\n",
    "A warm waterproof overcoat\n",
    "Buy new (not second-hand) clothes\n",
    "Eat meal with meat, chicken, fish (or vegetarian equivalent) every second day\n",
    "Have a roast joint or its equivalent once a week\n",
    "Had to go without heating during the last year through lack of money\n",
    "Keep the home adequately warm\n",
    "Buy presents for family or friends at least once a year\n",
    "Replace any worn out furniture\n",
    "Have family or friends for a drink or meal once a month\n",
    "Have a morning, afternoon or evening out in the last fortnight for entertainment\n",
    "\n",
    "Those living in households with one adult and one or more children aged under 18 had the highest deprivation rate in 2018 at 42.7%\n",
    "This compares to 2 adults, with 1-3 children under 18 years with a deprivaton rate of 14.3\n",
    "and Other households with children under 18 years with a deprivation rate of 15.9."
   ]
  },
  {
   "cell_type": "markdown",
   "metadata": {},
   "source": [
    "### 2.5 CONSISTENT POVERTY\n",
    "**Consistent poverty rates for lone parents**\n",
    "\n",
    "One Family (2016)\n",
    "\n",
    "**Consistent poverty means that children are living in households with incomes below 60% of the national median income  and experiencing deprivation based on the agreed 11 deprivation indicators**\n",
    "\n",
    "Individuals living in households where there was one adult and one or more children aged under 18 had the highest consistent poverty rate at **19.2%**.This is compared to a consistent poverty rate of **5%** for 2 adults, with 1-3 children under 18 years and **4.5%** for Other households with children under 18 years . This means that lone parents are four times as likely to be living in consistent poverty compared to two-parent households."
   ]
  },
  {
   "cell_type": "markdown",
   "metadata": {},
   "source": [
    "### 2.7 WORD DEPRIVATION\n",
    "Economic deprivation affects educational inequalities from an especially young age (Tasc, 2016). At age nine months old, no correlation exists between the household income of a child and their \"inherent cognitive potential (educational ability)\" (Tasc, 2016, unpaged). However, by aged three, children in highest income families outperform three year olds in lowest household income families with a \"difference on average of least 10 points in the average scores on the Naming Vocabulary tests\" (Growing up Ireland as cited by Tasc, 2016).\n",
    "\n",
    "Average scores on the Naming Vocuabulary tests for three year olds:  \n",
    "Quintile 1: 70  \n",
    "Quintile 2: 71  \n",
    "Quintile 3: 74  \n",
    "Quintile 4: 78  \n",
    "Quintile 5: 80  \n",
    "\n",
    "![tasc_2016_chart38.jpg](tasc_2016_chart38.jpg)\n",
    "\n",
    " \n",
    "(Growing up Ireland as cited by Tasc, 2016: Figure 23).\n"
   ]
  },
  {
   "cell_type": "markdown",
   "metadata": {},
   "source": [
    "### 2.8 INCOME DECILES: \n",
    "According to the Survey on Income and Living Conditions (SILC) 2018,  the average weekly equivalised income by net disposable equivalised income deciles and composition of net equivalised disposable income, 2018 is as follows: \n",
    "  \n",
    "deciles = (237.79, 289.24,340.48,387.17, 437.75,493.84, 568.32,682.02,840.91, 840.91)  \n"
   ]
  },
  {
   "cell_type": "markdown",
   "metadata": {},
   "source": [
    "### 2.6 SAMPLESIZE : \n",
    "1000 in total\n",
    "1 adult, with children under 18 years = 250\n",
    "2 adults, with 1-3 children under 18 years = 500\n",
    "Other households with children under 18 years = 250\n",
    "\n",
    "I have selected these samplesizes **because**\n"
   ]
  },
  {
   "cell_type": "markdown",
   "metadata": {},
   "source": [
    "## 3. DATA GENERATION:"
   ]
  },
  {
   "cell_type": "markdown",
   "metadata": {},
   "source": [
    "### 3.1 IMPORT LIBRARIES & PACKAGES & SET NOTEBOOK PARAMETERS:"
   ]
  },
  {
   "cell_type": "markdown",
   "metadata": {},
   "source": [
    "Import libraries & packages that will be used and set plot parameters for this notebook:"
   ]
  },
  {
   "cell_type": "code",
   "execution_count": 1,
   "metadata": {},
   "outputs": [],
   "source": [
    "#import the pandas library for df creation and rename it pd\n",
    "import pandas as pd\n",
    "#import the NumPy library in order to use the random package and name it np\n",
    "import numpy as np\n",
    "#import the matplotlib library, package pyplot for plotting and name it plt\n",
    "import matplotlib.pyplot as plt\n",
    "#import the seaborn library for plotting and name it sns\n",
    "import seaborn as sns\n",
    "# Taken from : https://stackoverflow.com/a/47955814 \n",
    "# Adjusting the figure size of seaborn plots in this notebook\n",
    "sns.set(rc={'figure.figsize':(10,7)})\n",
    "# Updating the font size of the plot \n",
    "# Taken from https://stackoverflow.com/questions/3899980/how-to-change-the-font-size-on-a-matplotlib-plot\n",
    "plt.rcParams.update({'font.size': 22})\n",
    "# set the random seed to that results are reproducable while I am testing\n",
    "np.random.seed = (27)\n"
   ]
  },
  {
   "cell_type": "markdown",
   "metadata": {},
   "source": [
    "### 3.2 FAMILY HOUSEHOULD COMPOSITION:"
   ]
  },
  {
   "cell_type": "code",
   "execution_count": 2,
   "metadata": {},
   "outputs": [],
   "source": [
    "# Create array for each group\n",
    "# First set the samplesize for each group\n",
    "sample1 = 250\n",
    "sample2 = 500\n",
    "sample3 = 250\n",
    "#Taken from https://thispointer.com/python-how-to-create-a-list-and-initialize-with-same-values/\n",
    "group1 = [\"Lone Parent Family\"] * sample1\n",
    "group2 = [\"2 Adults with 1-2 Children\"] * sample2\n",
    "group3 = [\"Other 2 Adult Households\"] *sample3"
   ]
  },
  {
   "cell_type": "code",
   "execution_count": 3,
   "metadata": {},
   "outputs": [],
   "source": [
    "# Concatenate into one array.\n",
    "families = np.concatenate([group1, group2, group3])"
   ]
  },
  {
   "cell_type": "markdown",
   "metadata": {},
   "source": [
    "### 3.3 SET THE SAMPLE SIZE:"
   ]
  },
  {
   "cell_type": "code",
   "execution_count": 4,
   "metadata": {},
   "outputs": [
    {
     "data": {
      "text/plain": [
       "1000"
      ]
     },
     "execution_count": 4,
     "metadata": {},
     "output_type": "execute_result"
    }
   ],
   "source": [
    "# set the samplesize to be the sum of sample 1,2 & 3.\n",
    "samplesize = sample1 + sample2 + sample3\n",
    "samplesize"
   ]
  },
  {
   "cell_type": "markdown",
   "metadata": {},
   "source": [
    "### 3.4 GENDER:"
   ]
  },
  {
   "cell_type": "markdown",
   "metadata": {},
   "source": [
    "Create a function to create generate \"Female\"/\"Male\" to indicate gender:"
   ]
  },
  {
   "cell_type": "code",
   "execution_count": 5,
   "metadata": {},
   "outputs": [],
   "source": [
    "#Create a function to create generate \"Female\"/\"Male\" to indicate gender based on a given probability:\n",
    "def calgender(femalepercent,samplenum):\n",
    "    newvals = np.random.choice([\"Female\", \"Male\"], \n",
    "                               samplenum,p = [femalepercent/100, (1 -femalepercent/100)])\n",
    "    return newvals"
   ]
  },
  {
   "cell_type": "markdown",
   "metadata": {},
   "source": [
    "3.5.1 Create an array gender1 for gender of Lone Parents:"
   ]
  },
  {
   "cell_type": "code",
   "execution_count": 6,
   "metadata": {},
   "outputs": [],
   "source": [
    "# female = 90%\n",
    "gender1 = calgender(90, sample1)"
   ]
  },
  {
   "cell_type": "markdown",
   "metadata": {},
   "source": [
    "Plot the gender array for Lone Parents:"
   ]
  },
  {
   "cell_type": "code",
   "execution_count": 7,
   "metadata": {},
   "outputs": [
    {
     "data": {
      "image/png": "[encoded data removed]",
      "text/plain": [
       "<Figure size 432x288 with 1 Axes>"
      ]
     },
     "metadata": {
      "needs_background": "light"
     },
     "output_type": "display_data"
    }
   ],
   "source": [
    " \n",
    "# plot a histogram of array gender\n",
    "plt.hist(gender1)\n",
    "# display the histogram \n",
    "plt.show()"
   ]
  },
  {
   "cell_type": "markdown",
   "metadata": {},
   "source": [
    "3.5.2 Create an array gender2 for gender of 2 Adults with 1 - 2 Children & Other Households (same probability so one array will do):"
   ]
  },
  {
   "cell_type": "code",
   "execution_count": 8,
   "metadata": {},
   "outputs": [],
   "source": [
    "# female = 50%\n",
    "gender2 = calgender(50, (sample1+sample2))"
   ]
  },
  {
   "cell_type": "markdown",
   "metadata": {},
   "source": [
    "Plot the gender array for Lone Parents:"
   ]
  },
  {
   "cell_type": "code",
   "execution_count": 9,
   "metadata": {},
   "outputs": [
    {
     "data": {
      "image/png": "[encoded data removed]",
      "text/plain": [
       "<Figure size 432x288 with 1 Axes>"
      ]
     },
     "metadata": {
      "needs_background": "light"
     },
     "output_type": "display_data"
    }
   ],
   "source": [
    "# plot a histogram of array gender\n",
    "plt.hist(gender2)\n",
    "# display the histogram \n",
    "plt.show()"
   ]
  },
  {
   "cell_type": "markdown",
   "metadata": {},
   "source": [
    "Create one array gender to represent gender for entire sample:"
   ]
  },
  {
   "cell_type": "code",
   "execution_count": 10,
   "metadata": {},
   "outputs": [],
   "source": [
    "gender = np.concatenate([gender1,gender2])"
   ]
  },
  {
   "cell_type": "code",
   "execution_count": 11,
   "metadata": {},
   "outputs": [
    {
     "data": {
      "image/png": "[encoded data removed]",
      "text/plain": [
       "<Figure size 432x288 with 1 Axes>"
      ]
     },
     "metadata": {
      "needs_background": "light"
     },
     "output_type": "display_data"
    }
   ],
   "source": [
    "\n",
    "#135.34,244.50,232.66\n",
    "\n",
    "def calhousingex(x,mu, num):\n",
    "    newvals = np.random.normal(x,mu, size = num)\n",
    "    return newvals\n",
    "\n",
    "housing1 =calhousingex(135.34, 135.34/3,sample1)\n",
    "housing2 =calhousingex(244.50,244.50/3, sample2)\n",
    "housing3 =calhousingex(244.50,232.66/3, sample3)\n",
    "\n",
    "housing = np.concatenate([housing1,housing2,housing3])\n",
    "\n",
    "housing\n",
    "\n",
    "# plot a histogram of array x \n",
    "plt.hist(housing3)\n",
    "# display the histogram \n",
    "plt.show()"
   ]
  },
  {
   "cell_type": "code",
   "execution_count": null,
   "metadata": {},
   "outputs": [],
   "source": []
  },
  {
   "cell_type": "markdown",
   "metadata": {},
   "source": []
  },
  {
   "cell_type": "markdown",
   "metadata": {},
   "source": [
    "### 3.5 EMPLOYMENT"
   ]
  },
  {
   "cell_type": "markdown",
   "metadata": {},
   "source": [
    "Create an array to with 1000 elements to represent whether an individual is in paid employed or not."
   ]
  },
  {
   "cell_type": "markdown",
   "metadata": {},
   "source": [
    "First create function to randomly generate employed Yes/No based on probabilities dependant on the family composition:"
   ]
  },
  {
   "cell_type": "code",
   "execution_count": 12,
   "metadata": {},
   "outputs": [],
   "source": [
    "#Create a function to create generate random \"Yes\"/\"No\" to indicate employed yes /no based on a given probability:\n",
    "def calemployed(employpercent,samplenum):\n",
    "    newvals = np.random.choice([\"Yes\", \"No\"], \n",
    "                               samplenum,p = [employpercent/100, (1 -employpercent/100)])\n",
    "    return newvals"
   ]
  },
  {
   "cell_type": "markdown",
   "metadata": {},
   "source": [
    "Create an array employed1 to represent lone parents in employment or not and array employed2 to represent all other parents."
   ]
  },
  {
   "cell_type": "code",
   "execution_count": 13,
   "metadata": {},
   "outputs": [],
   "source": [
    "#Create an array with Yes/No values using function calemployed for individuals in Lone Parent families with probability of employed at 58.4:\n",
    "employed1 = calemployed(58.4, sample1)"
   ]
  },
  {
   "cell_type": "code",
   "execution_count": 14,
   "metadata": {},
   "outputs": [],
   "source": [
    "#Create an array for the adult members of couples with children with a probability of employed at 76%\n",
    "employed2 = calemployed(73.9, sample2+sample3)"
   ]
  },
  {
   "cell_type": "code",
   "execution_count": 15,
   "metadata": {},
   "outputs": [
    {
     "data": {
      "text/plain": [
       "1000"
      ]
     },
     "execution_count": 15,
     "metadata": {},
     "output_type": "execute_result"
    }
   ],
   "source": [
    "# Concatentate both arrays to create one array for all indivdiauls.\n",
    "employed = np.concatenate([employed1,employed2])\n",
    "# check the number created = 1000\n",
    "len(employed)"
   ]
  },
  {
   "cell_type": "markdown",
   "metadata": {},
   "source": [
    "### 3.6  DISPOSABLE INCOME ARRAY"
   ]
  },
  {
   "cell_type": "code",
   "execution_count": 16,
   "metadata": {},
   "outputs": [],
   "source": [
    "# Create a function to generate the disposable income distribution for each group\n",
    "def caldincome(x, num):\n",
    "    newvals = np.random.normal(x, 195, size = num)\n",
    "    return newvals"
   ]
  },
  {
   "cell_type": "code",
   "execution_count": 17,
   "metadata": {},
   "outputs": [
    {
     "data": {
      "image/png": "[encoded data removed]",
      "text/plain": [
       "<Figure size 432x288 with 1 Axes>"
      ]
     },
     "metadata": {
      "needs_background": "light"
     },
     "output_type": "display_data"
    }
   ],
   "source": [
    "# Generate disposable income distribution for 1 adult, with children under 18 years\n",
    "Adult1withC = caldincome(350, sample1)\n",
    "# plot a histogram of array x \n",
    "plt.hist(Adult1withC)\n",
    "# display the histogram \n",
    "plt.show()"
   ]
  },
  {
   "cell_type": "code",
   "execution_count": 18,
   "metadata": {},
   "outputs": [
    {
     "data": {
      "image/png": "[encoded data removed]",
      "text/plain": [
       "<Figure size 432x288 with 1 Axes>"
      ]
     },
     "metadata": {
      "needs_background": "light"
     },
     "output_type": "display_data"
    }
   ],
   "source": [
    "Adults2withC = caldincome(517.67, sample2)\n",
    "# plot a histogram of array x \n",
    "plt.hist(Adults2withC)\n",
    "# display the histogram \n",
    "plt.show()"
   ]
  },
  {
   "cell_type": "code",
   "execution_count": 19,
   "metadata": {},
   "outputs": [
    {
     "data": {
      "image/png": "[encoded data removed]",
      "text/plain": [
       "<Figure size 432x288 with 1 Axes>"
      ]
     },
     "metadata": {
      "needs_background": "light"
     },
     "output_type": "display_data"
    }
   ],
   "source": [
    "Other = caldincome(455.75, sample3)\n",
    "# plot a histogram of array x \n",
    "plt.hist(Other)\n",
    "# display the histogram \n",
    "plt.show()"
   ]
  },
  {
   "cell_type": "code",
   "execution_count": 20,
   "metadata": {},
   "outputs": [
    {
     "data": {
      "text/plain": [
       "1000"
      ]
     },
     "execution_count": 20,
     "metadata": {},
     "output_type": "execute_result"
    }
   ],
   "source": [
    "#Create an array disincome to hold all of the disposable income data generated.\n",
    "disincome = np.concatenate([Adult1withC ,Adults2withC,Other])\n",
    "#Check there are 1000 samples.                \n",
    "len(disincome)"
   ]
  },
  {
   "cell_type": "code",
   "execution_count": 21,
   "metadata": {},
   "outputs": [
    {
     "data": {
      "image/png": "[encoded data removed]",
      "text/plain": [
       "<Figure size 432x288 with 1 Axes>"
      ]
     },
     "metadata": {
      "needs_background": "light"
     },
     "output_type": "display_data"
    }
   ],
   "source": [
    "# plot a histogram of array x \n",
    "plt.hist(disincome)\n",
    "# display the histogram \n",
    "plt.show()"
   ]
  },
  {
   "cell_type": "markdown",
   "metadata": {},
   "source": [
    "### 3.6 DEPRIVATION ARRAY"
   ]
  },
  {
   "cell_type": "code",
   "execution_count": 22,
   "metadata": {},
   "outputs": [],
   "source": [
    "# Create a function to randomly generate array representing deprivation for each group\n",
    "#with Yes/No based on samplesize & probability.\n",
    "def caldeprivation(samplesize, x):\n",
    "    newvalues  = np.random.choice([\"Yes\",\"No\"], size = samplesize, p=x)\n",
    "    return newvalues"
   ]
  },
  {
   "cell_type": "code",
   "execution_count": 23,
   "metadata": {},
   "outputs": [],
   "source": [
    "# Generate an array for those living in a household \n",
    "# with one adult and one or more children aged under 18 with  42.7% deprived = \"Yes\"\n",
    " \n",
    "dep1 = caldeprivation(250, [0.427, 0.573])\n",
    " "
   ]
  },
  {
   "cell_type": "code",
   "execution_count": 24,
   "metadata": {},
   "outputs": [],
   "source": [
    "##### Generate an array for those living in a household \n",
    "#2 adults, with 1-3 children under 18 years with a deprivaton rate of 14.3\n",
    "dep2 = caldeprivation(500, [0.143, 0.857])"
   ]
  },
  {
   "cell_type": "code",
   "execution_count": 25,
   "metadata": {},
   "outputs": [],
   "source": [
    "# Generate an array for those living in a household \n",
    "# Other households with children under 18 years with a deprivation rate of 15.9.\n",
    "dep3 = caldeprivation(250, [0.159, 0.841])\n"
   ]
  },
  {
   "cell_type": "code",
   "execution_count": 26,
   "metadata": {},
   "outputs": [
    {
     "data": {
      "text/plain": [
       "1000"
      ]
     },
     "execution_count": 26,
     "metadata": {},
     "output_type": "execute_result"
    }
   ],
   "source": [
    "#Create an array deprived to hold all of the deprived yes/no  data generated.\n",
    "deprived = np.concatenate([dep1, dep2, dep3])\n",
    "#Check there are 1000 samples.                \n",
    "len(deprived)"
   ]
  },
  {
   "cell_type": "markdown",
   "metadata": {},
   "source": [
    "### 3.7 CREATE QUINTILES BASED ON DECILES:"
   ]
  },
  {
   "cell_type": "code",
   "execution_count": 27,
   "metadata": {},
   "outputs": [
    {
     "name": "stdout",
     "output_type": "stream",
     "text": [
      "[289.24, 387.17, 493.84, 682.02]\n"
     ]
    }
   ],
   "source": [
    "# Use deciles from CSO (2019e) see section 2.8\n",
    "deciles = (237.79, 289.24,340.48,387.17, 437.75,493.84, 568.32,682.02,840.91)\n",
    "# create qunitiles array as empty array.\n",
    "quintiles = []\n",
    "# initialize i with value 1\n",
    "i = 1\n",
    "#loop while i is less than the length of array deciles.\n",
    "while i < (len(deciles)-1):\n",
    "    # set q equal to the ith value of array decile\n",
    "    q = deciles[i] \n",
    "    # append q to array quintiles \n",
    "    quintiles.append(q)\n",
    "    # get second next ith value  \n",
    "    i = i+2\n",
    "# print the array quntiles.\n",
    "print(quintiles)"
   ]
  },
  {
   "cell_type": "markdown",
   "metadata": {},
   "source": [
    "### 3.8 CREATE QUINTILES BASED ON DECILES:"
   ]
  },
  {
   "cell_type": "code",
   "execution_count": null,
   "metadata": {},
   "outputs": [],
   "source": []
  },
  {
   "cell_type": "code",
   "execution_count": null,
   "metadata": {},
   "outputs": [],
   "source": []
  },
  {
   "cell_type": "code",
   "execution_count": null,
   "metadata": {},
   "outputs": [],
   "source": []
  },
  {
   "cell_type": "markdown",
   "metadata": {},
   "source": [
    "\n",
    "\n"
   ]
  },
  {
   "cell_type": "markdown",
   "metadata": {},
   "source": [
    "## 4. DATASET CREATION:"
   ]
  },
  {
   "cell_type": "markdown",
   "metadata": {},
   "source": [
    "### 4.1 Create the initial Dataset:"
   ]
  },
  {
   "cell_type": "code",
   "execution_count": 28,
   "metadata": {},
   "outputs": [],
   "source": [
    "# Create a pandas dataset called df \n",
    "df=pd.DataFrame(data=\n",
    "                {# Create a column Disincome with values from array disincome\n",
    "                 'Family': families,\n",
    "                 # Create a column Gender with values from array gender\n",
    "                 'Gender': gender,\n",
    "                 # Create a column Disincome with values from array disincome\n",
    "                 #Create a column Employed with values from array employed\n",
    "                 'Employed': employed,\n",
    "                 'DisIncome': disincome, \n",
    "                 # Create a column Deprived with values from array deprived\n",
    "                 'Deprived': deprived, \n",
    "                 # Create a column to represent At Risk Poverty poverty \n",
    "                 #and set initial value to \"No\" See 4.2 below for logic to update.\n",
    "                 \"At Risk of Poverty\": \"No\",\n",
    "                 # Create a column to represent consistent poverty \n",
    "                 #and set initial value to \"No\" See 4.3 below for logic to update.\n",
    "                 \"Consistent Poverty\": \"No\",\n",
    "                 # Create a column to represent the Word Vocabuary scores with intial value of 0 in each row.\n",
    "                 \"Word Vocabulary Score\": 0\n",
    "                 })\n"
   ]
  },
  {
   "cell_type": "markdown",
   "metadata": {},
   "source": [
    "### 4.2 Update \"At Risk of Poverty\": \n",
    "\n",
    "At risk of poverty means having an income less than 60% of the national median disposable income. The median income for 2018 was calucated as 22872 pa (CSO, 2018).  \n",
    "Calculte 60% of the median weekly disposable income:"
   ]
  },
  {
   "cell_type": "code",
   "execution_count": 29,
   "metadata": {},
   "outputs": [
    {
     "name": "stdout",
     "output_type": "stream",
     "text": [
      "263.9076923076923\n"
     ]
    }
   ],
   "source": [
    "Atriskamt = (22872/52)*.6 \n",
    "print(Atriskamt)"
   ]
  },
  {
   "cell_type": "code",
   "execution_count": 30,
   "metadata": {},
   "outputs": [],
   "source": [
    "#Update column \"At Risk of Poverty\", \n",
    "#setting value = \"Yes\" where Disincome is less than 60% of national median disposable income (Atriskamt)\n",
    "#Set \"At Risk of Poverty\" = \"Yes\" if weekly disposable income < weekly median income (439)\n",
    "df.loc[df['DisIncome'] < Atriskamt, \"At Risk of Poverty\"] = \"Yes\"\n",
    "#df[\"At Risk of Poverty\"] "
   ]
  },
  {
   "cell_type": "markdown",
   "metadata": {},
   "source": [
    "Plot the At Risk of Poverty by Household Composition:"
   ]
  },
  {
   "cell_type": "code",
   "execution_count": 31,
   "metadata": {},
   "outputs": [
    {
     "data": {
      "text/plain": [
       "<Figure size 432x288 with 0 Axes>"
      ]
     },
     "metadata": {},
     "output_type": "display_data"
    },
    {
     "data": {
      "image/png": "[encoded data removed]",
      "text/plain": [
       "<Figure size 953.8x432 with 1 Axes>"
      ]
     },
     "metadata": {
      "needs_background": "light"
     },
     "output_type": "display_data"
    }
   ],
   "source": [
    "# Plot the At Risk of poverty by household composition:\n",
    "fig = plt.figure()\n",
    "# Adapted from https://seaborn.pydata.org/generated/seaborn.catplot.html\n",
    "g = sns.catplot (x=\"Family\", hue=\"At Risk of Poverty\", kind=\"count\",\n",
    "            palette=\"pastel\", edgecolor=\".4\",  height=6, aspect=2,\n",
    "            data=df)\n",
    "#Adding a title at the figure level\n",
    "fig.suptitle(\"Families at Risk of Poverty.\", fontsize = 20)\n",
    "# display the plot\n",
    "plt.show()\n",
    "\n",
    "#Acording to CSO(2018), the ‘at risk of poverty’ rate for households \n",
    "#with one adult and one or more children aged under 18 was 33.5 in 2018. \n",
    "#This is compared to an at risk of poverty rate of 9.9% \n",
    "#for two-parent households with 1- 3 children and at an at risk of 15.5 for others. \n",
    "#This means that lone parents are almost 3.5 times as likely to be at risk of poverty compared to households with two parents.\n"
   ]
  },
  {
   "cell_type": "markdown",
   "metadata": {},
   "source": [
    "Check the percentages and then readjust std deviation if percentages are aligned to CSO(2018) 'At Risk of Poverty 'rate :\n",
    "1. with one adult and one or more children aged under 18 was 33.5%  \n",
    "2. two-parent households with 1- 3 children of poverty rate of 9.9% \n",
    "3. for Other 2 Adult Households an at risk of 15.5%.  \n",
    "A standard deviation of 185 yields the closest result."
   ]
  },
  {
   "cell_type": "code",
   "execution_count": 32,
   "metadata": {},
   "outputs": [
    {
     "name": "stdout",
     "output_type": "stream",
     "text": [
      "Family                   0.36\n",
      "Gender                   0.36\n",
      "Employed                 0.36\n",
      "DisIncome                0.36\n",
      "Deprived                 0.36\n",
      "At Risk of Poverty       0.36\n",
      "Consistent Poverty       0.36\n",
      "Word Vocabulary Score    0.36\n",
      "dtype: float64\n",
      "Family                   0.098\n",
      "Gender                   0.098\n",
      "Employed                 0.098\n",
      "DisIncome                0.098\n",
      "Deprived                 0.098\n",
      "At Risk of Poverty       0.098\n",
      "Consistent Poverty       0.098\n",
      "Word Vocabulary Score    0.098\n",
      "dtype: float64\n",
      "Family                   0.152\n",
      "Gender                   0.152\n",
      "Employed                 0.152\n",
      "DisIncome                0.152\n",
      "Deprived                 0.152\n",
      "At Risk of Poverty       0.152\n",
      "Consistent Poverty       0.152\n",
      "Word Vocabulary Score    0.152\n",
      "dtype: float64\n"
     ]
    }
   ],
   "source": [
    "\n",
    "\n",
    "#(df.loc[df.loc[:,\"Family\"]== \"2 Adults with 1-2 Children\"]).count()\n",
    "#https://stackoverflow.com/questions/17071871/how-to-select-rows-from-a-dataframe-based-on-column-values\n",
    "print(((df.loc[(df['Family'] == \"Lone Parent Family\") \n",
    "        & (df['At Risk of Poverty'] == \"Yes\")]).count())/250)\n",
    "\n",
    "print(((df.loc[(df['Family'] == \"2 Adults with 1-2 Children\")\n",
    "        & (df['At Risk of Poverty'] == \"Yes\")]).count())/500)\n",
    "print(((df.loc[(df['Family'] == \"Other 2 Adult Households\")\n",
    "        & (df['At Risk of Poverty'] == \"Yes\")]).count())/250)\n"
   ]
  },
  {
   "cell_type": "markdown",
   "metadata": {},
   "source": [
    "### 4.3 Update \"Consistent Poverty\" :"
   ]
  },
  {
   "cell_type": "code",
   "execution_count": 33,
   "metadata": {},
   "outputs": [
    {
     "name": "stdout",
     "output_type": "stream",
     "text": [
      "Family                   0.168\n",
      "Gender                   0.168\n",
      "Employed                 0.168\n",
      "DisIncome                0.168\n",
      "Deprived                 0.168\n",
      "At Risk of Poverty       0.168\n",
      "Consistent Poverty       0.168\n",
      "Word Vocabulary Score    0.168\n",
      "dtype: float64\n",
      "Family                   0.014\n",
      "Gender                   0.014\n",
      "Employed                 0.014\n",
      "DisIncome                0.014\n",
      "Deprived                 0.014\n",
      "At Risk of Poverty       0.014\n",
      "Consistent Poverty       0.014\n",
      "Word Vocabulary Score    0.014\n",
      "dtype: float64\n",
      "Family                   0.012\n",
      "Gender                   0.012\n",
      "Employed                 0.012\n",
      "DisIncome                0.012\n",
      "Deprived                 0.012\n",
      "At Risk of Poverty       0.012\n",
      "Consistent Poverty       0.012\n",
      "Word Vocabulary Score    0.012\n",
      "dtype: float64\n"
     ]
    }
   ],
   "source": [
    "df.loc[(df['DisIncome'] < Atriskamt) & (df['Deprived'] == \"Yes\"), [\"Consistent Poverty\"]] = \"Yes\"\n",
    "#df1.loc[df1['stream'] == 2, ['feat','another_feat']] = 'aaaa'\n",
    "\n",
    "#print(df['DisIncome'] < Atriskamt) & (df['Deprived'] == \"Yes\")\n",
    "\n",
    "#(df.loc[df.loc[:,\"Family\"]== \"2 Adults with 1-2 Children\"]).count()\n",
    "#https://stackoverflow.com/questions/17071871/how-to-select-rows-from-a-dataframe-based-on-column-values\n",
    "print(((df.loc[(df['Family'] == \"Lone Parent Family\") \n",
    "        & (df['Consistent Poverty'] == \"Yes\")]).count())/250)\n",
    "\n",
    "print(((df.loc[(df['Family'] == \"2 Adults with 1-2 Children\")\n",
    "        & (df['Consistent Poverty'] == \"Yes\")]).count())/500)\n",
    "print(((df.loc[(df['Family'] == \"Other 2 Adult Households\")\n",
    "        & (df['Consistent Poverty'] == \"Yes\")]).count())/250)\n",
    "       "
   ]
  },
  {
   "cell_type": "code",
   "execution_count": 34,
   "metadata": {},
   "outputs": [
    {
     "data": {
      "text/plain": [
       "<Figure size 432x288 with 0 Axes>"
      ]
     },
     "metadata": {},
     "output_type": "display_data"
    },
    {
     "data": {
      "image/png": "[encoded data removed]",
      "text/plain": [
       "<Figure size 958.175x432 with 1 Axes>"
      ]
     },
     "metadata": {
      "needs_background": "light"
     },
     "output_type": "display_data"
    }
   ],
   "source": [
    "# Plot the Consistent Poverty by household composition:\n",
    "fig = plt.figure()\n",
    "# Adapted from https://seaborn.pydata.org/generated/seaborn.catplot.html\n",
    "g = sns.catplot (x=\"Family\", hue=\"Consistent Poverty\", kind=\"count\",\n",
    "            palette=\"pastel\", edgecolor=\".4\",  height=6, aspect=2,\n",
    "            data=df)\n",
    "#Adding a title at the figure level\n",
    "fig.suptitle(\"Individuals in Families in Consistent Poverty.\", fontsize = 20)\n",
    "# display the plot\n",
    "plt.show()"
   ]
  },
  {
   "cell_type": "markdown",
   "metadata": {},
   "source": [
    "Check the results are sufficently near the original stats:\n",
    "Individuals living in households with one adult and one or more children aged under 18 Consistent Poverty =  **19.2%**.  \n",
    "Individuals living in households with 2 adults, with 1-3 children under 18 years 18 Consistent Poverty **5%**    Individuals living in  Other households with children under 18 years =  **4.5%**.  \n"
   ]
  },
  {
   "cell_type": "code",
   "execution_count": 35,
   "metadata": {},
   "outputs": [
    {
     "name": "stdout",
     "output_type": "stream",
     "text": [
      "Family                   0.168\n",
      "Gender                   0.168\n",
      "Employed                 0.168\n",
      "DisIncome                0.168\n",
      "Deprived                 0.168\n",
      "At Risk of Poverty       0.168\n",
      "Consistent Poverty       0.168\n",
      "Word Vocabulary Score    0.168\n",
      "dtype: float64\n",
      "Family                   0.014\n",
      "Gender                   0.014\n",
      "Employed                 0.014\n",
      "DisIncome                0.014\n",
      "Deprived                 0.014\n",
      "At Risk of Poverty       0.014\n",
      "Consistent Poverty       0.014\n",
      "Word Vocabulary Score    0.014\n",
      "dtype: float64\n",
      "Family                   0.012\n",
      "Gender                   0.012\n",
      "Employed                 0.012\n",
      "DisIncome                0.012\n",
      "Deprived                 0.012\n",
      "At Risk of Poverty       0.012\n",
      "Consistent Poverty       0.012\n",
      "Word Vocabulary Score    0.012\n",
      "dtype: float64\n"
     ]
    }
   ],
   "source": [
    "#https://stackoverflow.com/questions/17071871/how-to-select-rows-from-a-dataframe-based-on-column-values\n",
    "print(((df.loc[(df['Family'] == \"Lone Parent Family\") \n",
    "        & (df['Consistent Poverty'] == \"Yes\")]).count())/250)\n",
    "print(((df.loc[(df['Family'] == \"2 Adults with 1-2 Children\") \n",
    "        & (df['Consistent Poverty'] == \"Yes\")]).count())/500)\n",
    "print(((df.loc[(df['Family'] == \"Other 2 Adult Households\") \n",
    "        & (df['Consistent Poverty'] == \"Yes\")]).count())/250)\n"
   ]
  },
  {
   "cell_type": "markdown",
   "metadata": {},
   "source": [
    "### 4.4 UPDATE WORD DEPRIVATION:"
   ]
  },
  {
   "cell_type": "markdown",
   "metadata": {},
   "source": [
    "First create a function to list all of the indexes in the df which are particular quintile:"
   ]
  },
  {
   "cell_type": "code",
   "execution_count": 36,
   "metadata": {},
   "outputs": [
    {
     "name": "stdout",
     "output_type": "stream",
     "text": [
      "[289.24, 387.17, 493.84, 682.02]\n",
      "Int64Index([  2,   5,   7,   8,  11,  13,  14,  15,  16,  24,\n",
      "            ...\n",
      "            920, 939, 958, 959, 980, 984, 987, 989, 990, 999],\n",
      "           dtype='int64', length=211)\n",
      "289.24\n",
      "211\n",
      "Int64Index([  0,   1,   4,   6,  18,  21,  22,  23,  35,  42,\n",
      "            ...\n",
      "            945, 949, 953, 963, 968, 972, 978, 981, 986, 991],\n",
      "           dtype='int64', length=150)\n",
      "289.24\n",
      "387.17\n",
      "150\n",
      "Int64Index([  3,   9,  10,  25,  27,  36,  37,  45,  47,  50,\n",
      "            ...\n",
      "            960, 966, 967, 976, 977, 979, 983, 994, 995, 997],\n",
      "           dtype='int64', length=217)\n",
      "387.17\n",
      "493.84\n",
      "217\n",
      "Int64Index([ 12,  19,  20,  28,  31,  34,  49,  57,  62,  64,\n",
      "            ...\n",
      "            962, 964, 970, 971, 973, 975, 982, 988, 993, 998],\n",
      "           dtype='int64', length=274)\n",
      "493.84\n",
      "682.02\n",
      "274\n",
      "Int64Index([ 17,  48,  59,  74,  82,  88,  98, 100, 103, 115,\n",
      "            ...\n",
      "            943, 946, 951, 954, 965, 969, 974, 985, 992, 996],\n",
      "           dtype='int64', length=148)\n",
      "682.02\n",
      "148\n"
     ]
    }
   ],
   "source": [
    "#create a function calindexquintile to create arrays containing\n",
    "#all of the indexes in the df which are in a specified  quintile\n",
    "def calindexquintile(x,y):\n",
    "    # array arr1 is all of the df DisIncome values greater than  or equal to x and less than y\n",
    "    arr1 = df.index[((df['DisIncome'] >= x) & (df['DisIncome'] <y))]\n",
    "    print(arr1)\n",
    "    # return the arr1.\n",
    "    return arr1\n",
    " \n",
    "print(quintiles)\n",
    "# set indexquin1 to be all the index values where DisIncome is within quintile 1 \n",
    "indexquin1 = calindexquintile(-1000,quintiles[0])\n",
    "print(quintiles[0])\n",
    "print(len(indexquin1))\n",
    "# set indexquin2 to be all the index values where DisIncome is within quintile 1 \n",
    "indexquin2 =calindexquintile(quintiles[0],quintiles[1])\n",
    "print(quintiles[0])\n",
    "print(quintiles[1]) \n",
    "print(len(indexquin2))\n",
    "# set indexquin1 to be all the index values where DisIncome is within quintile 1 \n",
    "indexquin3 =calindexquintile(quintiles[1],quintiles[2])\n",
    "print(quintiles[1])\n",
    "print(quintiles[2]) \n",
    "print(len(indexquin3))\n",
    "indexquin4 = calindexquintile(quintiles[2],quintiles[3])\n",
    "print(quintiles[2])\n",
    "print(quintiles[3]) \n",
    "print(len(indexquin4))\n",
    "# use separate logic for indexquin5 as these indexs will not be within a range just greater than last quintile.\n",
    "indexquin5 =  df.index[(df['DisIncome'] > quintiles[3])]\n",
    "print(indexquin5)\n",
    "print(quintiles[3])\n",
    "print(len(indexquin5))\n",
    "\n",
    " "
   ]
  },
  {
   "cell_type": "markdown",
   "metadata": {},
   "source": [
    "Generate scores for each of the qunitiles using np.random.normal"
   ]
  },
  {
   "cell_type": "code",
   "execution_count": 59,
   "metadata": {},
   "outputs": [
    {
     "name": "stdout",
     "output_type": "stream",
     "text": [
      "211\n",
      "150\n",
      "217\n",
      "274\n",
      "148\n"
     ]
    }
   ],
   "source": [
    "quin1scores = np.random.normal(70, size= len(indexquin1))\n",
    "print(len(quin1scores))\n",
    "quin2scores = np.random.normal(71, size= len(indexquin2))\n",
    "print(len(quin2scores))\n",
    "quin3scores = np.random.normal(75, size= len(indexquin3))\n",
    "print(len(quin3scores))\n",
    "quin4scores = np.random.normal(78, size= len(indexquin4))\n",
    "print(len(quin4scores))\n",
    "quin5scores = np.random.normal(80, size= len(indexquin5))\n",
    "print(len(quin5scores))"
   ]
  },
  {
   "cell_type": "markdown",
   "metadata": {},
   "source": [
    "Create a function to generate word scores for each of the arrays containing the indexes for each of the quintiles:"
   ]
  },
  {
   "cell_type": "code",
   "execution_count": 91,
   "metadata": {},
   "outputs": [
    {
     "name": "stdout",
     "output_type": "stream",
     "text": [
      "211\n",
      "2\n",
      "5\n",
      "7\n",
      "8\n",
      "11\n",
      "13\n",
      "14\n",
      "15\n",
      "16\n",
      "24\n",
      "26\n",
      "29\n",
      "30\n",
      "32\n",
      "33\n",
      "38\n",
      "39\n",
      "40\n",
      "41\n",
      "46\n",
      "52\n",
      "53\n",
      "54\n",
      "56\n",
      "58\n",
      "63\n",
      "66\n",
      "67\n",
      "68\n",
      "70\n",
      "76\n",
      "77\n",
      "79\n",
      "81\n",
      "83\n",
      "85\n",
      "86\n",
      "87\n",
      "89\n",
      "90\n",
      "92\n",
      "93\n",
      "94\n",
      "104\n",
      "105\n",
      "108\n",
      "110\n",
      "112\n",
      "113\n",
      "116\n",
      "117\n",
      "118\n",
      "121\n",
      "125\n",
      "126\n",
      "131\n",
      "136\n",
      "142\n",
      "143\n",
      "144\n",
      "147\n",
      "151\n",
      "152\n",
      "158\n",
      "163\n",
      "167\n",
      "168\n",
      "171\n",
      "172\n",
      "173\n",
      "174\n",
      "175\n",
      "180\n",
      "184\n",
      "188\n",
      "190\n",
      "194\n",
      "196\n",
      "197\n",
      "200\n",
      "201\n",
      "204\n",
      "206\n",
      "208\n",
      "212\n",
      "216\n",
      "217\n",
      "220\n",
      "224\n",
      "225\n",
      "226\n",
      "227\n",
      "228\n",
      "230\n",
      "232\n",
      "233\n",
      "236\n",
      "237\n",
      "239\n",
      "240\n",
      "242\n",
      "243\n",
      "247\n",
      "248\n",
      "249\n",
      "254\n",
      "259\n",
      "275\n",
      "282\n",
      "292\n",
      "314\n",
      "323\n",
      "338\n",
      "339\n",
      "350\n",
      "363\n",
      "390\n",
      "392\n",
      "401\n",
      "403\n",
      "407\n",
      "409\n",
      "412\n",
      "416\n",
      "432\n",
      "436\n",
      "437\n",
      "442\n",
      "453\n",
      "458\n",
      "466\n",
      "474\n",
      "480\n",
      "481\n",
      "491\n",
      "492\n",
      "493\n",
      "502\n",
      "509\n",
      "520\n",
      "532\n",
      "534\n",
      "543\n",
      "555\n",
      "565\n",
      "570\n",
      "585\n",
      "590\n",
      "598\n",
      "620\n",
      "621\n",
      "633\n",
      "637\n",
      "640\n",
      "645\n",
      "656\n",
      "667\n",
      "671\n",
      "676\n",
      "677\n",
      "678\n",
      "692\n",
      "696\n",
      "733\n",
      "734\n",
      "735\n",
      "740\n",
      "751\n",
      "768\n",
      "769\n",
      "779\n",
      "780\n",
      "781\n",
      "789\n",
      "791\n",
      "808\n",
      "809\n",
      "810\n",
      "812\n",
      "813\n",
      "817\n",
      "821\n",
      "824\n",
      "832\n",
      "833\n",
      "835\n",
      "849\n",
      "850\n",
      "856\n",
      "865\n",
      "871\n",
      "873\n",
      "875\n",
      "876\n",
      "877\n",
      "880\n",
      "882\n",
      "884\n",
      "894\n",
      "898\n",
      "911\n",
      "920\n",
      "939\n",
      "958\n",
      "959\n",
      "980\n",
      "984\n",
      "987\n",
      "989\n",
      "990\n",
      "999\n",
      "150\n",
      "0\n",
      "1\n",
      "4\n",
      "6\n",
      "18\n",
      "21\n",
      "22\n",
      "23\n",
      "35\n",
      "42\n",
      "43\n",
      "44\n",
      "60\n",
      "91\n",
      "96\n",
      "97\n",
      "101\n",
      "114\n",
      "120\n",
      "128\n",
      "129\n",
      "132\n",
      "133\n",
      "135\n",
      "138\n",
      "146\n",
      "154\n",
      "159\n",
      "160\n",
      "164\n",
      "169\n",
      "170\n",
      "176\n",
      "179\n",
      "195\n",
      "199\n",
      "202\n",
      "203\n",
      "231\n",
      "238\n",
      "253\n",
      "256\n",
      "272\n",
      "296\n",
      "302\n",
      "306\n",
      "321\n",
      "337\n",
      "358\n",
      "367\n",
      "369\n",
      "374\n",
      "402\n",
      "413\n",
      "420\n",
      "422\n",
      "424\n",
      "431\n",
      "434\n",
      "440\n",
      "448\n",
      "450\n",
      "462\n",
      "470\n",
      "475\n",
      "485\n",
      "486\n",
      "501\n",
      "503\n",
      "521\n",
      "535\n",
      "536\n",
      "547\n",
      "554\n",
      "556\n",
      "569\n",
      "572\n",
      "575\n",
      "580\n",
      "587\n",
      "603\n",
      "607\n",
      "610\n",
      "615\n",
      "622\n",
      "623\n",
      "624\n",
      "626\n",
      "631\n",
      "636\n",
      "646\n",
      "648\n",
      "669\n",
      "673\n",
      "675\n",
      "690\n",
      "697\n",
      "701\n",
      "739\n",
      "743\n",
      "752\n",
      "756\n",
      "757\n",
      "760\n",
      "764\n",
      "773\n",
      "774\n",
      "775\n",
      "790\n",
      "792\n",
      "796\n",
      "797\n",
      "799\n",
      "801\n",
      "803\n",
      "822\n",
      "823\n",
      "828\n",
      "831\n",
      "834\n",
      "859\n",
      "863\n",
      "868\n",
      "870\n",
      "879\n",
      "900\n",
      "905\n",
      "908\n",
      "910\n",
      "912\n",
      "913\n",
      "918\n",
      "922\n",
      "924\n",
      "926\n",
      "927\n",
      "931\n",
      "932\n",
      "941\n",
      "944\n",
      "945\n",
      "949\n",
      "953\n",
      "963\n",
      "968\n",
      "972\n",
      "978\n",
      "981\n",
      "986\n",
      "991\n",
      "217\n",
      "3\n",
      "9\n",
      "10\n",
      "25\n",
      "27\n",
      "36\n",
      "37\n",
      "45\n",
      "47\n",
      "50\n",
      "51\n",
      "55\n",
      "61\n",
      "71\n",
      "72\n",
      "73\n",
      "75\n",
      "78\n",
      "95\n",
      "102\n",
      "106\n",
      "119\n",
      "127\n",
      "130\n",
      "134\n",
      "139\n",
      "140\n",
      "141\n",
      "145\n",
      "148\n",
      "155\n",
      "165\n",
      "178\n",
      "185\n",
      "187\n",
      "205\n",
      "210\n",
      "211\n",
      "213\n",
      "214\n",
      "218\n",
      "221\n",
      "241\n",
      "244\n",
      "251\n",
      "260\n",
      "266\n",
      "280\n",
      "284\n",
      "285\n",
      "288\n",
      "290\n",
      "291\n",
      "294\n",
      "298\n",
      "324\n",
      "328\n",
      "330\n",
      "342\n",
      "347\n",
      "354\n",
      "360\n",
      "362\n",
      "365\n",
      "368\n",
      "370\n",
      "380\n",
      "383\n",
      "384\n",
      "386\n",
      "387\n",
      "388\n",
      "395\n",
      "396\n",
      "397\n",
      "398\n",
      "405\n",
      "411\n",
      "423\n",
      "429\n",
      "443\n",
      "446\n",
      "447\n",
      "456\n",
      "463\n",
      "465\n",
      "468\n",
      "469\n",
      "476\n",
      "483\n",
      "484\n",
      "488\n",
      "496\n",
      "500\n",
      "506\n",
      "508\n",
      "513\n",
      "514\n",
      "518\n",
      "523\n",
      "524\n",
      "527\n",
      "537\n",
      "538\n",
      "540\n",
      "541\n",
      "542\n",
      "544\n",
      "546\n",
      "557\n",
      "562\n",
      "564\n",
      "568\n",
      "573\n",
      "579\n",
      "584\n",
      "588\n",
      "591\n",
      "595\n",
      "600\n",
      "601\n",
      "602\n",
      "611\n",
      "614\n",
      "619\n",
      "627\n",
      "630\n",
      "643\n",
      "644\n",
      "647\n",
      "652\n",
      "657\n",
      "668\n",
      "674\n",
      "679\n",
      "682\n",
      "688\n",
      "689\n",
      "693\n",
      "695\n",
      "699\n",
      "700\n",
      "704\n",
      "705\n",
      "708\n",
      "712\n",
      "714\n",
      "716\n",
      "720\n",
      "723\n",
      "725\n",
      "726\n",
      "730\n",
      "732\n",
      "747\n",
      "754\n",
      "758\n",
      "759\n",
      "761\n",
      "766\n",
      "770\n",
      "776\n",
      "778\n",
      "783\n",
      "784\n",
      "788\n",
      "798\n",
      "802\n",
      "804\n",
      "805\n",
      "806\n",
      "807\n",
      "814\n",
      "815\n",
      "816\n",
      "820\n",
      "825\n",
      "830\n",
      "838\n",
      "839\n",
      "844\n",
      "847\n",
      "848\n",
      "851\n",
      "855\n",
      "857\n",
      "860\n",
      "862\n",
      "872\n",
      "874\n",
      "886\n",
      "890\n",
      "896\n",
      "899\n",
      "901\n",
      "902\n",
      "906\n",
      "909\n",
      "919\n",
      "921\n",
      "934\n",
      "935\n",
      "936\n",
      "942\n",
      "948\n",
      "950\n",
      "952\n",
      "960\n",
      "966\n",
      "967\n",
      "976\n",
      "977\n",
      "979\n",
      "983\n",
      "994\n",
      "995\n",
      "997\n",
      "274\n",
      "12\n",
      "19\n",
      "20\n",
      "28\n",
      "31\n",
      "34\n",
      "49\n",
      "57\n",
      "62\n",
      "64\n",
      "65\n",
      "69\n",
      "80\n",
      "84\n",
      "99\n",
      "107\n",
      "109\n",
      "111\n",
      "123\n",
      "137\n",
      "150\n",
      "153\n",
      "156\n",
      "157\n",
      "161\n",
      "162\n",
      "166\n",
      "177\n",
      "181\n",
      "182\n",
      "183\n",
      "189\n",
      "191\n",
      "192\n",
      "193\n",
      "198\n",
      "207\n",
      "209\n",
      "219\n",
      "222\n",
      "223\n",
      "229\n",
      "234\n",
      "235\n",
      "245\n",
      "246\n",
      "250\n",
      "252\n",
      "255\n",
      "257\n",
      "258\n",
      "262\n",
      "263\n",
      "264\n",
      "268\n",
      "271\n",
      "273\n",
      "274\n",
      "276\n",
      "277\n",
      "278\n",
      "279\n",
      "283\n",
      "286\n",
      "287\n",
      "295\n",
      "297\n",
      "299\n",
      "300\n",
      "303\n",
      "308\n",
      "309\n",
      "310\n",
      "311\n",
      "313\n",
      "315\n",
      "320\n",
      "322\n",
      "325\n",
      "326\n",
      "329\n",
      "331\n",
      "332\n",
      "335\n",
      "336\n",
      "341\n",
      "344\n",
      "345\n",
      "348\n",
      "353\n",
      "355\n",
      "356\n",
      "357\n",
      "359\n",
      "361\n",
      "364\n",
      "371\n",
      "373\n",
      "379\n",
      "385\n",
      "391\n",
      "393\n",
      "394\n",
      "399\n",
      "406\n",
      "408\n",
      "414\n",
      "415\n",
      "417\n",
      "421\n",
      "427\n",
      "428\n",
      "430\n",
      "433\n",
      "438\n",
      "439\n",
      "441\n",
      "444\n",
      "451\n",
      "452\n",
      "454\n",
      "457\n",
      "459\n",
      "460\n",
      "464\n",
      "471\n",
      "472\n",
      "473\n",
      "477\n",
      "479\n",
      "482\n",
      "487\n",
      "489\n",
      "494\n",
      "497\n",
      "498\n",
      "499\n",
      "504\n",
      "505\n",
      "510\n",
      "516\n",
      "517\n",
      "519\n",
      "526\n",
      "531\n",
      "539\n",
      "545\n",
      "548\n",
      "550\n",
      "553\n",
      "558\n",
      "559\n",
      "561\n",
      "566\n",
      "567\n",
      "571\n",
      "574\n",
      "577\n",
      "581\n",
      "582\n",
      "586\n",
      "594\n",
      "596\n",
      "599\n",
      "604\n",
      "606\n",
      "608\n",
      "609\n",
      "613\n",
      "625\n",
      "628\n",
      "629\n",
      "632\n",
      "635\n",
      "642\n",
      "649\n",
      "651\n",
      "653\n",
      "654\n",
      "660\n",
      "661\n",
      "662\n",
      "663\n",
      "664\n",
      "665\n",
      "666\n",
      "670\n",
      "672\n",
      "680\n",
      "681\n",
      "683\n",
      "684\n",
      "685\n",
      "686\n",
      "687\n",
      "691\n",
      "694\n",
      "698\n",
      "702\n",
      "709\n",
      "711\n",
      "715\n",
      "717\n",
      "718\n",
      "719\n",
      "724\n",
      "727\n",
      "736\n",
      "737\n",
      "742\n",
      "744\n",
      "745\n",
      "746\n",
      "750\n",
      "765\n",
      "771\n",
      "772\n",
      "777\n",
      "782\n",
      "785\n",
      "786\n",
      "787\n",
      "793\n",
      "795\n",
      "811\n",
      "827\n",
      "836\n",
      "837\n",
      "841\n",
      "842\n",
      "843\n",
      "845\n",
      "846\n",
      "852\n",
      "853\n",
      "854\n",
      "858\n",
      "864\n",
      "869\n",
      "881\n",
      "883\n",
      "885\n",
      "889\n",
      "891\n",
      "892\n",
      "893\n",
      "895\n",
      "897\n",
      "904\n",
      "907\n",
      "914\n",
      "917\n",
      "923\n",
      "925\n",
      "928\n",
      "929\n",
      "933\n",
      "937\n",
      "938\n",
      "947\n",
      "955\n",
      "956\n",
      "957\n",
      "961\n",
      "962\n",
      "964\n",
      "970\n",
      "971\n",
      "973\n",
      "975\n",
      "982\n",
      "988\n",
      "993\n",
      "998\n",
      "148\n",
      "17\n",
      "48\n",
      "59\n",
      "74\n",
      "82\n",
      "88\n",
      "98\n",
      "100\n",
      "103\n",
      "115\n",
      "122\n",
      "124\n",
      "149\n",
      "186\n",
      "215\n",
      "261\n",
      "265\n",
      "267\n",
      "269\n",
      "270\n",
      "281\n",
      "289\n",
      "293\n",
      "301\n",
      "304\n",
      "305\n",
      "307\n",
      "312\n",
      "316\n",
      "317\n",
      "318\n",
      "319\n",
      "327\n",
      "333\n",
      "334\n",
      "340\n",
      "343\n",
      "346\n",
      "349\n",
      "351\n",
      "352\n",
      "366\n",
      "372\n",
      "375\n",
      "376\n",
      "377\n",
      "378\n",
      "381\n",
      "382\n",
      "389\n",
      "400\n",
      "404\n",
      "410\n",
      "418\n",
      "419\n",
      "425\n",
      "426\n",
      "435\n",
      "445\n",
      "449\n",
      "455\n",
      "461\n",
      "467\n",
      "478\n",
      "490\n",
      "495\n",
      "507\n",
      "511\n",
      "512\n",
      "515\n",
      "522\n",
      "525\n",
      "528\n",
      "529\n",
      "530\n",
      "533\n",
      "549\n",
      "551\n",
      "552\n",
      "560\n",
      "563\n",
      "576\n",
      "578\n",
      "583\n",
      "589\n",
      "592\n",
      "593\n",
      "597\n",
      "605\n",
      "612\n",
      "616\n",
      "617\n",
      "618\n",
      "634\n",
      "638\n",
      "639\n",
      "641\n",
      "650\n",
      "655\n",
      "658\n",
      "659\n",
      "703\n",
      "706\n",
      "707\n",
      "710\n",
      "713\n",
      "721\n",
      "722\n",
      "728\n",
      "729\n",
      "731\n",
      "738\n",
      "741\n",
      "748\n",
      "749\n",
      "753\n",
      "755\n",
      "762\n",
      "763\n",
      "767\n",
      "794\n",
      "800\n",
      "818\n",
      "819\n",
      "826\n",
      "829\n",
      "840\n",
      "861\n",
      "866\n",
      "867\n",
      "878\n",
      "887\n",
      "888\n",
      "903\n",
      "915\n",
      "916\n",
      "930\n",
      "940\n",
      "943\n",
      "946\n",
      "951\n",
      "954\n",
      "965\n",
      "969\n",
      "974\n",
      "985\n",
      "992\n",
      "996\n"
     ]
    }
   ],
   "source": [
    "# create a function called update_word_vocab to accept variables x and y\n",
    "def update_word_vocab(x,y):\n",
    "    print(len(y))\n",
    "    # set b equal to 0\n",
    "    b = 0\n",
    "    # set i equal to the bth element of array x\n",
    "    i = x[b]\n",
    "    # set a equal to 0\n",
    "    a = 0\n",
    "    # set i equal to the bth element of array y\n",
    "    j = y[a]\n",
    "    # loop while i is less than the length y\n",
    "    while a < len(y):\n",
    "        #update the column \"Word Vocabulary Score\" with value i where the index = j \n",
    "        df.loc[[j], \"Word Vocabulary Score\"] = i\n",
    "        print(j)\n",
    "        # increment a by 1 each time\n",
    "        a = a + 1\n",
    "        # stop if a equal to the length of y as other wise we will incur out of bounds issue with j and \n",
    "        # besides once a = length of y all df.loc have been updated.\n",
    "        if a == len(y):\n",
    "            # stop looping\n",
    "            break\n",
    "        # otherwise \n",
    "        else: \n",
    "            #set j to the be value of the ath element of y\n",
    "            j = y[a]\n",
    "            # increment b by 1 each time\n",
    "            b = b +1\n",
    "            #update the value of i with the bth element of x\n",
    "            i = x[b]\n",
    "     \n",
    "\n",
    "    \n",
    "update_word_vocab(quin1scores, indexquin1)\n",
    "update_word_vocab(quin2scores, indexquin2)\n",
    "update_word_vocab(quin3scores, indexquin3)\n",
    "update_word_vocab(quin4scores, indexquin4)\n",
    "update_word_vocab(quin5scores, indexquin5)\n",
    "\n"
   ]
  },
  {
   "cell_type": "code",
   "execution_count": 92,
   "metadata": {},
   "outputs": [
    {
     "data": {
      "text/html": [
       "<div>\n",
       "<style scoped>\n",
       "    .dataframe tbody tr th:only-of-type {\n",
       "        vertical-align: middle;\n",
       "    }\n",
       "\n",
       "    .dataframe tbody tr th {\n",
       "        vertical-align: top;\n",
       "    }\n",
       "\n",
       "    .dataframe thead th {\n",
       "        text-align: right;\n",
       "    }\n",
       "</style>\n",
       "<table border=\"1\" class=\"dataframe\">\n",
       "  <thead>\n",
       "    <tr style=\"text-align: right;\">\n",
       "      <th></th>\n",
       "      <th>Family</th>\n",
       "      <th>Gender</th>\n",
       "      <th>Employed</th>\n",
       "      <th>DisIncome</th>\n",
       "      <th>Deprived</th>\n",
       "      <th>At Risk of Poverty</th>\n",
       "      <th>Consistent Poverty</th>\n",
       "      <th>Word Vocabulary Score</th>\n",
       "    </tr>\n",
       "  </thead>\n",
       "  <tbody>\n",
       "  </tbody>\n",
       "</table>\n",
       "</div>"
      ],
      "text/plain": [
       "Empty DataFrame\n",
       "Columns: [Family, Gender, Employed, DisIncome, Deprived, At Risk of Poverty, Consistent Poverty, Word Vocabulary Score]\n",
       "Index: []"
      ]
     },
     "execution_count": 92,
     "metadata": {},
     "output_type": "execute_result"
    }
   ],
   "source": [
    "(df.loc[(df[\"Word Vocabulary Score\"] == 0) ])"
   ]
  },
  {
   "cell_type": "code",
   "execution_count": 56,
   "metadata": {},
   "outputs": [
    {
     "name": "stdout",
     "output_type": "stream",
     "text": [
      "69.6858602219754\n",
      "2\n"
     ]
    }
   ],
   "source": [
    "# create a function called update_word_vocab to accept variables x and y\n",
    " \n",
    "b = 0\n",
    "i = quin1scores[b]\n",
    "print(i)\n",
    "a = 0\n",
    "j = indexquin1[a]\n",
    "print(j)\n",
    "\n",
    "while j < len(indexquin1):\n",
    "    df.loc[[j], \"Word Vocabulary Score\"] = i\n",
    "    print\n",
    "    a = a + 1\n",
    "    j = indexquin1[a]\n",
    "    b = b +1\n",
    "    i = quin1scores[b]\n",
    "    \n",
    "    \n",
    "    \n",
    "    "
   ]
  },
  {
   "cell_type": "markdown",
   "metadata": {},
   "source": [
    "def update_word_vocab(x,y):\n",
    "    \n",
    "    b = 0\n",
    "    i = y[b]\n",
    "    print(i)\n",
    "    a = 0\n",
    "    j = x[a]\n",
    "    while i < len(x):\n",
    "        df.loc[[j], \"Word Vocabulary Score\"] = i\n",
    "        a = a + 1\n",
    "        j = x[a]\n",
    "        b = b +1\n",
    "        i = y[b]\n",
    "        \n",
    "update_word_vocab(indexquin1,quin1scores)\n",
    "print(len(indexquin1)) \n",
    "print(quin1scores)\n",
    "\n"
   ]
  },
  {
   "cell_type": "code",
   "execution_count": 39,
   "metadata": {},
   "outputs": [
    {
     "data": {
      "text/plain": [
       "(array([   0.,    0.,    0.,    0.,    0., 1000.,    0.,    0.,    0.,\n",
       "           0.]),\n",
       " array([-0.5, -0.4, -0.3, -0.2, -0.1,  0. ,  0.1,  0.2,  0.3,  0.4,  0.5]),\n",
       " <a list of 10 Patch objects>)"
      ]
     },
     "execution_count": 39,
     "metadata": {},
     "output_type": "execute_result"
    },
    {
     "data": {
      "image/png": "[encoded data removed]",
      "text/plain": [
       "<Figure size 432x288 with 1 Axes>"
      ]
     },
     "metadata": {
      "needs_background": "light"
     },
     "output_type": "display_data"
    }
   ],
   "source": [
    "plt.hist(df[\"Word Vocabulary Score\"])"
   ]
  },
  {
   "cell_type": "code",
   "execution_count": 40,
   "metadata": {},
   "outputs": [
    {
     "data": {
      "text/html": [
       "<div>\n",
       "<style scoped>\n",
       "    .dataframe tbody tr th:only-of-type {\n",
       "        vertical-align: middle;\n",
       "    }\n",
       "\n",
       "    .dataframe tbody tr th {\n",
       "        vertical-align: top;\n",
       "    }\n",
       "\n",
       "    .dataframe thead th {\n",
       "        text-align: right;\n",
       "    }\n",
       "</style>\n",
       "<table border=\"1\" class=\"dataframe\">\n",
       "  <thead>\n",
       "    <tr style=\"text-align: right;\">\n",
       "      <th></th>\n",
       "      <th>DisIncome</th>\n",
       "      <th>Word Vocabulary Score</th>\n",
       "    </tr>\n",
       "  </thead>\n",
       "  <tbody>\n",
       "    <tr>\n",
       "      <th>count</th>\n",
       "      <td>1000.000000</td>\n",
       "      <td>1000.0</td>\n",
       "    </tr>\n",
       "    <tr>\n",
       "      <th>mean</th>\n",
       "      <td>459.096736</td>\n",
       "      <td>0.0</td>\n",
       "    </tr>\n",
       "    <tr>\n",
       "      <th>std</th>\n",
       "      <td>206.794174</td>\n",
       "      <td>0.0</td>\n",
       "    </tr>\n",
       "    <tr>\n",
       "      <th>min</th>\n",
       "      <td>-279.895963</td>\n",
       "      <td>0.0</td>\n",
       "    </tr>\n",
       "    <tr>\n",
       "      <th>25%</th>\n",
       "      <td>320.171465</td>\n",
       "      <td>0.0</td>\n",
       "    </tr>\n",
       "    <tr>\n",
       "      <th>50%</th>\n",
       "      <td>454.500435</td>\n",
       "      <td>0.0</td>\n",
       "    </tr>\n",
       "    <tr>\n",
       "      <th>75%</th>\n",
       "      <td>601.887164</td>\n",
       "      <td>0.0</td>\n",
       "    </tr>\n",
       "    <tr>\n",
       "      <th>max</th>\n",
       "      <td>1227.983989</td>\n",
       "      <td>0.0</td>\n",
       "    </tr>\n",
       "  </tbody>\n",
       "</table>\n",
       "</div>"
      ],
      "text/plain": [
       "         DisIncome  Word Vocabulary Score\n",
       "count  1000.000000                 1000.0\n",
       "mean    459.096736                    0.0\n",
       "std     206.794174                    0.0\n",
       "min    -279.895963                    0.0\n",
       "25%     320.171465                    0.0\n",
       "50%     454.500435                    0.0\n",
       "75%     601.887164                    0.0\n",
       "max    1227.983989                    0.0"
      ]
     },
     "execution_count": 40,
     "metadata": {},
     "output_type": "execute_result"
    }
   ],
   "source": [
    "df.describe()"
   ]
  },
  {
   "cell_type": "code",
   "execution_count": null,
   "metadata": {},
   "outputs": [],
   "source": []
  },
  {
   "cell_type": "markdown",
   "metadata": {},
   "source": [
    "## References:"
   ]
  },
  {
   "cell_type": "markdown",
   "metadata": {},
   "source": [
    "Haase, T.  & Pratschke, J. (2016)\n",
    "The 2016 Pobal HP Deprivation Index for Small Areas (SA)\n",
    "https://www.pobal.ie/app/uploads/2018/06/The-2016-Pobal-HP-Deprivation-Index-Introduction-07.pdf\n",
    "\n",
    "Grotti R., Maître B., Watson D., & Whelan, C.T. (2017) **Technical paper on\n",
    "Poverty Transitions in Ireland: An Analysis of the Longitudinal Central Statistics Office (CSO) Survey on Income and Living Conditions (SILC), 2004 - 2015**, Department of Social Protection\n",
    "https://www.esri.ie/system/files/media/file-uploads/2017-12/BKMNEXT344.pdf\n",
    "\n",
    "CSO (2016) Census 2016 Summary Results - Part 2\n",
    "Appendix 10: List of unemployment blackspots\n",
    "https://www.cso.ie/en/media/csoie/newsevents/documents/census2016summaryresultspart2/Census_2016_Summary_Results_–_Part_2.pdf\n",
    "\n",
    "CSO (2018)\n",
    "https://www.cso.ie/en/releasesandpublications/ep/p-silc/surveyonincomeandlivingconditionssilc2018/povertyanddeprivation/\n",
    "\n",
    "CSO (2019) HOME / STATISTICS\n",
    "Population estimates by age group and sex\n",
    "https://statbank.cso.ie/multiquicktables/quickTables.aspx?id=pea01\n",
    "\n",
    "\n",
    "https://www.pobal.ie/app/uploads/2018/06/The-2016-Pobal-HP-Deprivation-Index-Introduction-07.pdf\n",
    "\n",
    "maps.pobal.ie\n",
    "\n",
    "https://www.tasc.ie/assets/files/pdf/the_distribution_of_wealth_in_ireland_final.pdf\n",
    "\n",
    "CSO (2019) SIA49: Poverty Rates by Household Composition, Year and Statistic\n",
    "https://statbank.cso.ie/px/pxeirestat/Statire/SelectVarVal/Define.asp?maintable=SIA49&PLanguage=0\n",
    "\n",
    "\n",
    "CSO (2019e), Survey on Income and Living Conditions (SILC) 2018 Table 2.4 Average weekly equivalised income by net disposable equivalised income deciles and composition of net equivalised disposable income, 2018\n",
    "https://www.cso.ie/en/releasesandpublications/ep/p-silc/surveyonincomeandlivingconditionssilc2018/income/\n",
    "\n",
    "\n",
    "GrowingUp, page 34 income quintiles (less prsi and tax)\n",
    "https://www.growingup.ie/pubs/BKMNEXT300.pdf\n",
    "\n"
   ]
  },
  {
   "cell_type": "code",
   "execution_count": null,
   "metadata": {},
   "outputs": [],
   "source": []
  },
  {
   "cell_type": "code",
   "execution_count": null,
   "metadata": {},
   "outputs": [],
   "source": []
  }
 ],
 "metadata": {
  "kernelspec": {
   "display_name": "Python 3",
   "language": "python",
   "name": "python3"
  },
  "language_info": {
   "codemirror_mode": {
    "name": "ipython",
    "version": 3
   },
   "file_extension": ".py",
   "mimetype": "text/x-python",
   "name": "python",
   "nbconvert_exporter": "python",
   "pygments_lexer": "ipython3",
   "version": "3.7.2"
  }
 },
 "nbformat": 4,
 "nbformat_minor": 2
}
