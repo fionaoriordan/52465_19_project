{
 "cells": [
  {
   "cell_type": "markdown",
   "metadata": {},
   "source": [
    "# MODULE 52465 PROJECT\n",
    "## Fiona O'Riordan\n",
    "## Due Date 13th December 2019\n"
   ]
  },
  {
   "cell_type": "markdown",
   "metadata": {},
   "source": [
    "## 1. Introduction\n",
    "\n",
    "Project objective:\n",
    "1. Choose a real-world phenomenon that can be measured and for which you could collect at least one-hundred data points across at least four different variables.\n",
    "1. Investigate the types of variables involved, their likely distributions, and their relationships with each other.\n",
    "1. Synthesise/simulate a data set as closely matching their properties as possible.\n",
    "1. Detail your research and implement the simulation in a Jupyter notebook – the data set itself can simply be displayed in an output cell within the notebook.\n",
    "\n",
    "For this project, I will explore the phenomenon of poverty in Ireland amoung social risk groups. My project will focus on income and the influence of household composition, gender, disability status, age, geographical location, urban rural divide on deprivation.\n",
    "\n",
    "To begin with Research, then data generation using Numpy random, References.\n"
   ]
  },
  {
   "cell_type": "markdown",
   "metadata": {},
   "source": [
    "## 2. Research:"
   ]
  },
  {
   "cell_type": "markdown",
   "metadata": {},
   "source": [
    "### Overview: \n",
    "According to the Grotti et al. (2017),  one third of lone parent families and one quarter of families headed by a disabled person were \"perisitently deprived\" in the period 2004 to 2015.   \n",
    "\n",
    "### Household Head:\n",
    "Grotti et al. (2017: Appendix Table A2.1: 57)\n",
    "Live alone 12%\n",
    "Live with partner 18%\n",
    "Live with own children 5%\n",
    "Live with partner and children 26%\n",
    "Live with parents 36%\n",
    "Live in Non family household 4%\n",
    "\n",
    "\n",
    "CSO(2018):  \n",
    "1 adult aged 65+ =4.5  =   \n",
    "1 adult aged <65 = 5.5 =  \n",
    "2 adults, at least 1 aged 65 = 9  \n",
    "2 adults, both aged < 65 = 11.4 = \n",
    "3 or more adults = 15.8 = 5\n",
    "1 adult with children aged under 18\t= 5.4 = 6\n",
    "2 adults with 1-3 children aged under 18 = 31.4 = 7 \n",
    "Other households with children aged under 18 = 17 = 8\n",
    "\n",
    "\n",
    "\n",
    "\n",
    "Grotti et al. (2017), found that 90% of lone parent family heads are women.\n",
    "\n",
    "\n",
    "## Unemployment\n",
    "\n",
    "## Home Tenure\n",
    "\n",
    "### Age: \n",
    " \n",
    "\n",
    "### Disability Status:\n",
    "Disabled / Non Disabled.\n",
    "\n",
    "### Gender: \n",
    "\n",
    "Female/Male =  51% / 49% \n",
    "\n",
    "### Deprivation:\n",
    "Rate or income.?\n",
    "\n",
    "\n"
   ]
  },
  {
   "cell_type": "markdown",
   "metadata": {},
   "source": [
    "## 3. Data Generation:"
   ]
  },
  {
   "cell_type": "code",
   "execution_count": 50,
   "metadata": {},
   "outputs": [],
   "source": [
    "import pandas as pd\n",
    "#import the NumPy library and name it np\n",
    "import numpy as np\n",
    "import matplotlib.pyplot as plt\n",
    "import seaborn as sns\n",
    "# Taken from : https://stackoverflow.com/a/47955814 \n",
    "# Adjusting the figure size of seaborn plots in this notebook\n",
    "sns.set(rc={'figure.figsize':(10,7)})\n",
    "#dataset size\n",
    "samplesize = 1000"
   ]
  },
  {
   "cell_type": "code",
   "execution_count": null,
   "metadata": {},
   "outputs": [],
   "source": []
  },
  {
   "cell_type": "markdown",
   "metadata": {},
   "source": [
    "### Household \n"
   ]
  },
  {
   "cell_type": "code",
   "execution_count": 51,
   "metadata": {},
   "outputs": [],
   "source": [
    "# hharr household composition array \n",
    "# taken from https://www.tasc.ie/assets/files/pdf/the_distribution_of_wealth_in_ireland_final.pdf\n",
    "hharr = [\"Single Adult\", \"Couple\", \"Couple with Children\", \"Lone Parent\", \"Other\"]\n",
    "household = np.random.choice(hharr, samplesize, p=[0.226,0.28,0.21,0.044, 0.24])\n",
    "\n"
   ]
  },
  {
   "cell_type": "code",
   "execution_count": 52,
   "metadata": {},
   "outputs": [
    {
     "data": {
      "image/png": "[encoded data removed]",
      "text/plain": [
       "<Figure size 1008x576 with 1 Axes>"
      ]
     },
     "metadata": {},
     "output_type": "display_data"
    }
   ],
   "source": [
    "# plot a histogram of array Household distribution.x \n",
    " \n",
    "\n",
    "plt.figure(figsize=(14,8), facecolor='w', edgecolor='k', clear='True')\n",
    "plt.hist(household, bins=8)\n",
    "plt.xlabel('household')\n",
    "# Adapted from https://stackoverflow.com/questions/42559206/how-to-rotate-axis-labels-when-using-a-matplotlib-histogram\n",
    "plt.xticks(rotation='vertical')\n",
    "plt.show()"
   ]
  },
  {
   "cell_type": "code",
   "execution_count": 45,
   "metadata": {},
   "outputs": [
    {
     "data": {
      "text/plain": [
       "array(['Couple with Children', 'Couple', 'Single Adult', 'Couple',\n",
       "       'Couple', 'Single Adult', 'Couple', 'Other',\n",
       "       'Couple with Children', 'Couple with Children', 'Other',\n",
       "       'Couple with Children', 'Other', 'Single Adult',\n",
       "       'Couple with Children', 'Single Adult', 'Other', 'Other',\n",
       "       'Single Adult', 'Other', 'Couple', 'Other', 'Couple with Children',\n",
       "       'Couple with Children', 'Other', 'Single Adult', 'Single Adult',\n",
       "       'Couple', 'Couple with Children', 'Couple', 'Single Adult',\n",
       "       'Couple', 'Couple', 'Couple with Children', 'Single Adult',\n",
       "       'Single Adult', 'Single Adult', 'Single Adult', 'Other',\n",
       "       'Couple with Children', 'Lone Parent', 'Couple with Children',\n",
       "       'Other', 'Couple with Children', 'Single Adult',\n",
       "       'Couple with Children', 'Couple with Children', 'Other', 'Other',\n",
       "       'Couple', 'Other', 'Single Adult', 'Single Adult', 'Single Adult',\n",
       "       'Couple with Children', 'Couple with Children', 'Couple',\n",
       "       'Single Adult', 'Other', 'Other', 'Couple', 'Lone Parent',\n",
       "       'Single Adult', 'Couple with Children', 'Couple', 'Other',\n",
       "       'Couple', 'Couple with Children', 'Couple with Children',\n",
       "       'Couple with Children', 'Single Adult', 'Other', 'Other', 'Couple',\n",
       "       'Single Adult', 'Other', 'Couple', 'Single Adult', 'Other',\n",
       "       'Other', 'Other', 'Couple with Children', 'Single Adult', 'Other',\n",
       "       'Couple', 'Other', 'Couple', 'Couple with Children', 'Couple',\n",
       "       'Lone Parent', 'Couple', 'Single Adult', 'Couple', 'Single Adult',\n",
       "       'Other', 'Other', 'Couple', 'Couple', 'Couple with Children',\n",
       "       'Other'], dtype='<U20')"
      ]
     },
     "execution_count": 45,
     "metadata": {},
     "output_type": "execute_result"
    }
   ],
   "source": [
    "\n",
    "household"
   ]
  },
  {
   "cell_type": "markdown",
   "metadata": {},
   "source": [
    "### Gender: "
   ]
  },
  {
   "cell_type": "code",
   "execution_count": 53,
   "metadata": {},
   "outputs": [],
   "source": [
    "# female = 51%, male = 49%\n",
    "gender_arr = ['female', 'male']\n",
    "gender = np.random.choice(gender_arr, samplesize, p=[0.51, 0.49])"
   ]
  },
  {
   "cell_type": "code",
   "execution_count": 36,
   "metadata": {},
   "outputs": [
    {
     "data": {
      "image/png": "[encoded data removed]",
      "text/plain": [
       "<Figure size 720x504 with 1 Axes>"
      ]
     },
     "metadata": {},
     "output_type": "display_data"
    }
   ],
   "source": [
    "\n",
    "# plot a histogram of array x \n",
    "plt.hist(gender)\n",
    "# display the histogram \n",
    "plt.show()\n",
    " \n"
   ]
  },
  {
   "cell_type": "markdown",
   "metadata": {},
   "source": [
    "### Disabled:"
   ]
  },
  {
   "cell_type": "code",
   "execution_count": 54,
   "metadata": {},
   "outputs": [
    {
     "data": {
      "text/plain": [
       "(array([888.,   0.,   0.,   0.,   0.,   0.,   0.,   0.,   0., 112.]),\n",
       " array([0. , 0.1, 0.2, 0.3, 0.4, 0.5, 0.6, 0.7, 0.8, 0.9, 1. ]),\n",
       " <a list of 10 Patch objects>)"
      ]
     },
     "execution_count": 54,
     "metadata": {},
     "output_type": "execute_result"
    },
    {
     "data": {
      "image/png": "[encoded data removed]",
      "text/plain": [
       "<Figure size 720x504 with 1 Axes>"
      ]
     },
     "metadata": {},
     "output_type": "display_data"
    }
   ],
   "source": [
    "# Disabled Yes = 10%, Disabled No = 90%\n",
    "yesnoarr = [\"Yes\", \"No\"]\n",
    "disabled = np.random.choice(yesnoarr, samplesize, p=[0.1, 0.9])\n",
    "plt.hist(disabled)"
   ]
  },
  {
   "cell_type": "markdown",
   "metadata": {},
   "source": [
    "### Income:"
   ]
  },
  {
   "cell_type": "code",
   "execution_count": null,
   "metadata": {},
   "outputs": [],
   "source": []
  },
  {
   "cell_type": "markdown",
   "metadata": {},
   "source": [
    "## Age: "
   ]
  },
  {
   "cell_type": "code",
   "execution_count": 22,
   "metadata": {},
   "outputs": [],
   "source": [
    "# CSO (2019)"
   ]
  },
  {
   "cell_type": "code",
   "execution_count": 55,
   "metadata": {},
   "outputs": [
    {
     "data": {
      "text/plain": [
       "36"
      ]
     },
     "execution_count": 55,
     "metadata": {},
     "output_type": "execute_result"
    }
   ],
   "source": [
    "\n"
   ]
  },
  {
   "cell_type": "code",
   "execution_count": null,
   "metadata": {},
   "outputs": [],
   "source": []
  },
  {
   "cell_type": "markdown",
   "metadata": {},
   "source": [
    "### Dataframe Creation:"
   ]
  },
  {
   "cell_type": "code",
   "execution_count": 56,
   "metadata": {},
   "outputs": [
    {
     "data": {
      "text/plain": [
       "36"
      ]
     },
     "execution_count": 56,
     "metadata": {},
     "output_type": "execute_result"
    }
   ],
   "source": [
    "#Create dataframe with all the data randomly generated\n",
    "\n",
    "df=pd.DataFrame(data={'Household': household, 'Gender': gender})\n",
    "df\n",
    "# adatped from https://stackoverflow.com/questions/35277075/python-pandas-counting-the-occurrences-of-a-specific-value\n",
    "df.query('Household == \"Lone Parent\"').Household.count()"
   ]
  },
  {
   "cell_type": "markdown",
   "metadata": {},
   "source": [
    "## References:\n"
   ]
  },
  {
   "cell_type": "markdown",
   "metadata": {},
   "source": [
    "Grotti R., Maître B., Watson D., & Whelan, C.T. (2017) **Technical paper on\n",
    "Poverty Transitions in Ireland: An Analysis of the Longitudinal Central Statistics Office (CSO) Survey on Income and Living Conditions (SILC), 2004 - 2015**, Department of Social Protection\n",
    "https://www.esri.ie/system/files/media/file-uploads/2017-12/BKMNEXT344.pdf\n",
    "\n",
    "CSO (2018)\n",
    "https://www.cso.ie/en/releasesandpublications/ep/p-silc/surveyonincomeandlivingconditionssilc2018/povertyanddeprivation/\n",
    "\n",
    "CSO (2019) HOME / STATISTICS\n",
    "Population estimates by age group and sex\n",
    "https://statbank.cso.ie/multiquicktables/quickTables.aspx?id=pea01"
   ]
  },
  {
   "cell_type": "code",
   "execution_count": null,
   "metadata": {},
   "outputs": [],
   "source": []
  },
  {
   "cell_type": "code",
   "execution_count": null,
   "metadata": {},
   "outputs": [],
   "source": []
  }
 ],
 "metadata": {
  "kernelspec": {
   "display_name": "Python 3",
   "language": "python",
   "name": "python3"
  },
  "language_info": {
   "codemirror_mode": {
    "name": "ipython",
    "version": 3
   },
   "file_extension": ".py",
   "mimetype": "text/x-python",
   "name": "python",
   "nbconvert_exporter": "python",
   "pygments_lexer": "ipython3",
   "version": "3.7.2"
  }
 },
 "nbformat": 4,
 "nbformat_minor": 2
}
